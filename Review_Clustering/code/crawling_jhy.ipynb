{
 "cells": [
  {
   "cell_type": "code",
   "execution_count": null,
   "metadata": {},
   "outputs": [],
   "source": [
    "!curl 'https://product.kyobobook.co.kr/api/review/list?page=2&pageLimit=10&reviewSort=001&revwPatrCode=002&saleCmdtid=S000001057805' \\\n",
    "  -H 'accept: */*' \\\n",
    "  -H 'accept-language: ko-KR,ko;q=0.9,en-US;q=0.8,en;q=0.7' \\\n",
    "  -H 'cache-control: no-cache' \\\n",
    "  -b 'RB_PCID=1743049639159411450; EG_GUID=93e5b017-c694-4ffb-b007-914b7e8fd03d; _fbp=fb.2.1743049639343.969310431829063590; _fwb=132IJDhikNlOjTaMDr4fY8X.1745193048066; b5dcbb5e99191a099429032ae16cffe3=fb97d1a7d7a8a7ca0c7b05dc6d6762b3; order.shipping.addr=03154K//%EC%84%9C%EC%9A%B8%EC%8B%9C%20%EC%A2%85%EB%A1%9C%EA%B5%AC%20%EC%A2%85%EB%A1%9C%201; rc-cont=%5B%22p%7CKOR%7CS000200103863%22%2C%22e%7Cnull%7C227642%22%2C%22p%7CKOR%7CS000001918979%22%2C%22p%7CEBK%7CE000011329691%22%2C%22p%7CKOR%7CS000001057805%22%5D; _clck=10g2v7h%7C2%7Cfwx%7C0%7C1912; shtm=llm; recentSch=llm%24%5E%7C06.20%24%7C%uD30C%uC774%uC36C%24%5E%7C06.13%24%7C%uB370%uC774%uD130%uBD84%uC11D%24%5E%7C06.13%24%7C%uB370%uC774%uD130%24%5E%7C06.13%24%7C%uBE44%uC0C1%uAD50%uC721%24%5E%7C06.13%24%7C%uB514%uC9C0%uD138%uBD81%uC2A4%24%5E%7C05.20%24%7C%uD559%uC6D0%20%uBE14%uB85C%uADF8%24%5E%7C03.27%24%7C%uD559%uC6D0%uD64D%uBCF4%24%5E%7C03.27%24%7C; _gid=GA1.3.1418329394.1750419686; _ga=GA1.1.215497595.1743049640; _gcl_au=1.1.1302363763.1750419687; _ga_WXDS5FBVK2=GS2.1.s1750419686$o1$g1$t1750420614$j60$l0$h0; RB_SSID=9XlP3Zfk0Z; spses.bb7d=*; spid.bb7d=419e9f05-a81f-40cb-a38e-b5b391916367.1743049639.8.1750423634.1750419686.310c060e-46dc-4eda-82ac-d66d48b620c0.4c9c8a2c-5967-43d6-9ef4-5a9fd153ad0b.90cb60da-73cf-47d3-bfaa-5af1490f390b.1750423634195.1; wcs_bt=s_453f4415ebcb:1750423634; JSESSIONID=3F4D3C67561F41C2E5B18FDFA4FD450C; _clsk=zwnvnk%7C1750423634911%7C1%7C0%7Ci.clarity.ms%2Fcollect; _ga_CQHKV7VZV7=GS2.1.s1750423634$o13$g0$t1750423644$j50$l0$h0' \\\n",
    "  -H 'pragma: no-cache' \\\n",
    "  -H 'priority: u=1, i' \\\n",
    "  -H 'referer: https://product.kyobobook.co.kr/detail/S000001057805' \\\n",
    "  -H 'sec-ch-ua: \"Google Chrome\";v=\"137\", \"Chromium\";v=\"137\", \"Not/A)Brand\";v=\"24\"' \\\n",
    "  -H 'sec-ch-ua-mobile: ?0' \\\n",
    "  -H 'sec-ch-ua-platform: \"macOS\"' \\\n",
    "  -H 'sec-fetch-dest: empty' \\\n",
    "  -H 'sec-fetch-mode: cors' \\\n",
    "  -H 'sec-fetch-site: same-origin' \\\n",
    "  -H 'user-agent: Mozilla/5.0 (Macintosh; Intel Mac OS X 10_15_7) AppleWebKit/537.36 (KHTML, like Gecko) Chrome/137.0.0.0 Safari/537.36'"
   ]
  },
  {
   "cell_type": "code",
   "execution_count": 2,
   "metadata": {},
   "outputs": [],
   "source": [
    "import requests\n",
    "import pandas as pd\n",
    "\n",
    "def get_kyobo_reviews(page):\n",
    "    \"\"\"\n",
    "    교보문고 리뷰 데이터를 가져와서 데이터프레임으로 변환하는 함수\n",
    "    \n",
    "    Args:\n",
    "        page (int): 페이지 번호 (기본값: 1)\n",
    "        page_limit (int): 페이지당 리뷰 수 (기본값: 10)\n",
    "    \n",
    "    Returns:\n",
    "        pandas.DataFrame: 리뷰 데이터가 담긴 데이터프레임\n",
    "    \"\"\"\n",
    "    url = 'https://product.kyobobook.co.kr/api/review/list'\n",
    "    \n",
    "    # 쿼리 파라미터\n",
    "    params = {\n",
    "        'page': page,\n",
    "        'pageLimit': 10,\n",
    "        'reviewSort': '001',\n",
    "        'revwPatrCode': '002',\n",
    "        'saleCmdtid': 'S000001057805'\n",
    "    }\n",
    "    \n",
    "    # 헤더 설정\n",
    "    headers = {\n",
    "        'accept': '*/*',\n",
    "        'accept-language': 'ko-KR,ko;q=0.9,en-US;q=0.8,en;q=0.7',\n",
    "        'cache-control': 'no-cache',\n",
    "        'pragma': 'no-cache',\n",
    "        'priority': 'u=1, i',\n",
    "        'referer': 'https://product.kyobobook.co.kr/detail/S000001057805',\n",
    "        'sec-ch-ua': '\"Google Chrome\";v=\"137\", \"Chromium\";v=\"137\", \"Not/A)Brand\";v=\"24\"',\n",
    "        'sec-ch-ua-mobile': '?0',\n",
    "        'sec-ch-ua-platform': '\"macOS\"',\n",
    "        'sec-fetch-dest': 'empty',\n",
    "        'sec-fetch-mode': 'cors',\n",
    "        'sec-fetch-site': 'same-origin',\n",
    "        'user-agent': 'Mozilla/5.0 (Macintosh; Intel Mac OS X 10_15_7) AppleWebKit/537.36 (KHTML, like Gecko) Chrome/137.0.0.0 Safari/537.36'\n",
    "    }\n",
    "    \n",
    "    # 쿠키 설정\n",
    "    cookies = {\n",
    "        'RB_PCID': '1743049639159411450',\n",
    "        'EG_GUID': '93e5b017-c694-4ffb-b007-914b7e8fd03d',\n",
    "        '_fbp': 'fb.2.1743049639343.969310431829063590',\n",
    "        '_fwb': '132IJDhikNlOjTaMDr4fY8X.1745193048066',\n",
    "        'b5dcbb5e99191a099429032ae16cffe3': 'fb97d1a7d7a8a7ca0c7b05dc6d6762b3',\n",
    "        'order.shipping.addr': '03154K//%EC%84%9C%EC%9A%B8%EC%8B%9C%20%EC%A2%85%EB%A1%9C%EA%B5%AC%20%EC%A2%85%EB%A1%9C%201',\n",
    "        'rc-cont': '%5B%22p%7CKOR%7CS000200103863%22%2C%22e%7Cnull%7C227642%22%2C%22p%7CKOR%7CS000001918979%22%2C%22p%7CEBK%7CE000011329691%22%2C%22p%7CKOR%7CS000001057805%22%5D',\n",
    "        '_clck': '10g2v7h%7C2%7Cfwx%7C0%7C1912',\n",
    "        'shtm': 'llm',\n",
    "        'recentSch': 'llm%24%5E%7C06.20%24%7C%uD30C%uC774%uC36C%24%5E%7C06.13%24%7C%uB374%uC774%uD130%uBD84%uC11D%24%5E%7C06.13%24%7C%uB374%uC774%uD130%24%5E%7C06.13%24%7C%uBE44%uC0C1%uAD50%uC721%24%5E%7C06.13%24%7C%uB514%uC9C0%uD138%uBD81%uC2A4%24%5E%7C05.20%24%7C%uD559%uC6D0%20%uBE14%uB85C%uADF8%24%5E%7C03.27%24%7C%uD559%uC6D0%uD64D%uBCF4%24%5E%7C03.27%24%7C',\n",
    "        '_gid': 'GA1.3.1418329394.1750419686',\n",
    "        '_ga': 'GA1.1.215497595.1743049640',\n",
    "        '_gcl_au': '1.1.1302363763.1750419687',\n",
    "        '_ga_WXDS5FBVK2': 'GS2.1.s1750419686$o1$g1$t1750420614$j60$l0$h0',\n",
    "        'RB_SSID': '9XlP3Zfk0Z',\n",
    "        'spses.bb7d': '*',\n",
    "        'spid.bb7d': '419e9f05-a81f-40cb-a38e-b5b391916367.1743049639.8.1750423634.1750419686.310c060e-46dc-4eda-82ac-d66d48b620c0.4c9c8a2c-5967-43d6-9ef4-5a9fd153ad0b.90cb60da-73cf-47d3-bfaa-5af1490f390b.1750423634195.1',\n",
    "        'wcs_bt': 's_453f4415ebcb:1750423634',\n",
    "        'JSESSIONID': '3F4D3C67561F41C2E5B18FDFA4FD450C',\n",
    "        '_clsk': 'zwnvnk%7C1750423634911%7C1%7C0%7Ci.clarity.ms%2Fcollect',\n",
    "        '_ga_CQHKV7VZV7': 'GS2.1.s1750423634$o13$g0$t1750423644$j50$l0$h0'\n",
    "    }\n",
    "    \n",
    "    try:\n",
    "        response = requests.get(url, params=params, headers=headers, cookies=cookies)\n",
    "        response.raise_for_status()  # HTTP 오류 발생 시 예외 발생\n",
    "        \n",
    "        # JSON 응답을 데이터프레임으로 변환\n",
    "        data = response.json()\n",
    "        \n",
    "        if 'data' in data and 'reviewList' in data['data']:\n",
    "            reviews = data['data']['reviewList']\n",
    "            df = pd.DataFrame(reviews)\n",
    "            return df\n",
    "        else:\n",
    "            print(\"리뷰 데이터를 찾을 수 없습니다.\")\n",
    "            return pd.DataFrame()\n",
    "            \n",
    "    except requests.exceptions.RequestException as e:\n",
    "        print(f\"요청 중 오류 발생: {e}\")\n",
    "        return pd.DataFrame()\n",
    "    except ValueError as e:\n",
    "        print(f\"JSON 파싱 오류: {e}\")\n",
    "        return pd.DataFrame()"
   ]
  },
  {
   "cell_type": "code",
   "execution_count": 3,
   "metadata": {},
   "outputs": [
    {
     "name": "stdout",
     "output_type": "stream",
     "text": [
      "페이지 16 수집 중 데이터가 없습니다.\n",
      "총 143개의 리뷰가 저장되었습니다.\n"
     ]
    }
   ],
   "source": [
    "dfs = []\n",
    "for page in range(1, 22):\n",
    "    result = get_kyobo_reviews(page)\n",
    "    if not result.empty:\n",
    "        dfs.append(result)\n",
    "    else :\n",
    "        print(f\"페이지 {page} 수집 중 데이터가 없습니다.\")\n",
    "        break\n",
    "\n",
    "if dfs:\n",
    "    df = pd.concat(dfs, ignore_index=True)\n",
    "    # 리스트 타입 컬럼들을 문자열로 변환하여 중복 제거 가능하게 함\n",
    "    for col in df.columns:\n",
    "        if df[col].dtype == 'object':\n",
    "            df[col] = df[col].astype(str)\n",
    "    \n",
    "    df.drop_duplicates(inplace=True)\n",
    "    df.to_csv('../datasets/kyobo_reviews.csv', index=False)\n",
    "    print(f\"총 {len(df)}개의 리뷰가 저장되었습니다.\")\n",
    "else:\n",
    "    print(\"수집된 데이터가 없습니다.\")"
   ]
  },
  {
   "cell_type": "code",
   "execution_count": 4,
   "metadata": {},
   "outputs": [
    {
     "data": {
      "text/html": [
       "<div>\n",
       "<style scoped>\n",
       "    .dataframe tbody tr th:only-of-type {\n",
       "        vertical-align: middle;\n",
       "    }\n",
       "\n",
       "    .dataframe tbody tr th {\n",
       "        vertical-align: top;\n",
       "    }\n",
       "\n",
       "    .dataframe thead th {\n",
       "        text-align: right;\n",
       "    }\n",
       "</style>\n",
       "<table border=\"1\" class=\"dataframe\">\n",
       "  <thead>\n",
       "    <tr style=\"text-align: right;\">\n",
       "      <th></th>\n",
       "      <th>revwNum</th>\n",
       "      <th>kbcSiteCode</th>\n",
       "      <th>revwKindCode</th>\n",
       "      <th>revwPatrCode</th>\n",
       "      <th>mmbrNum</th>\n",
       "      <th>mmbrId</th>\n",
       "      <th>cretDttm</th>\n",
       "      <th>revwCntt</th>\n",
       "      <th>revwEmtnKywrPatrCode</th>\n",
       "      <th>revwEmtnKywrCode</th>\n",
       "      <th>...</th>\n",
       "      <th>reviewDeclarationCount</th>\n",
       "      <th>reviewRecommendUserYsno</th>\n",
       "      <th>declaration5timesYsno</th>\n",
       "      <th>declarationUserYsno</th>\n",
       "      <th>blockUserYsno</th>\n",
       "      <th>firstRevwNum</th>\n",
       "      <th>oneMonthRevwNum</th>\n",
       "      <th>chrcList</th>\n",
       "      <th>fndgPrjtSrmb</th>\n",
       "      <th>turnSrmb</th>\n",
       "    </tr>\n",
       "  </thead>\n",
       "  <tbody>\n",
       "    <tr>\n",
       "      <th>0</th>\n",
       "      <td>2400121</td>\n",
       "      <td>001</td>\n",
       "      <td>001</td>\n",
       "      <td>002</td>\n",
       "      <td>62018267237</td>\n",
       "      <td>ji********</td>\n",
       "      <td>2021-02-11 16:53:10.306</td>\n",
       "      <td>딥러닝 아무것도 모르는데 이거 읽고 깨우쳤음.</td>\n",
       "      <td>002</td>\n",
       "      <td>001</td>\n",
       "      <td>...</td>\n",
       "      <td>0</td>\n",
       "      <td>N</td>\n",
       "      <td>N</td>\n",
       "      <td>N</td>\n",
       "      <td>N</td>\n",
       "      <td></td>\n",
       "      <td>None</td>\n",
       "      <td>[]</td>\n",
       "      <td>0</td>\n",
       "      <td>None</td>\n",
       "    </tr>\n",
       "    <tr>\n",
       "      <th>1</th>\n",
       "      <td>15291814</td>\n",
       "      <td>001</td>\n",
       "      <td>001</td>\n",
       "      <td>002</td>\n",
       "      <td>62020250042</td>\n",
       "      <td>ql****</td>\n",
       "      <td>2025-01-24 22:59:13.290737</td>\n",
       "      <td>딥러닝에 대한 기본을 배울 수 있는 좋은 책이라고 생각합니다</td>\n",
       "      <td>002</td>\n",
       "      <td>002</td>\n",
       "      <td>...</td>\n",
       "      <td>0</td>\n",
       "      <td>N</td>\n",
       "      <td>N</td>\n",
       "      <td>N</td>\n",
       "      <td>N</td>\n",
       "      <td></td>\n",
       "      <td>None</td>\n",
       "      <td>[]</td>\n",
       "      <td>0</td>\n",
       "      <td>None</td>\n",
       "    </tr>\n",
       "    <tr>\n",
       "      <th>2</th>\n",
       "      <td>15261466</td>\n",
       "      <td>001</td>\n",
       "      <td>001</td>\n",
       "      <td>002</td>\n",
       "      <td>62009130793</td>\n",
       "      <td>ma*****</td>\n",
       "      <td>2025-01-17 01:25:16.218177</td>\n",
       "      <td>자세하게 알려줘서 이해하기 쉬워요</td>\n",
       "      <td>002</td>\n",
       "      <td>004</td>\n",
       "      <td>...</td>\n",
       "      <td>0</td>\n",
       "      <td>N</td>\n",
       "      <td>N</td>\n",
       "      <td>N</td>\n",
       "      <td>N</td>\n",
       "      <td></td>\n",
       "      <td>None</td>\n",
       "      <td>[]</td>\n",
       "      <td>0</td>\n",
       "      <td>None</td>\n",
       "    </tr>\n",
       "    <tr>\n",
       "      <th>3</th>\n",
       "      <td>14976673</td>\n",
       "      <td>001</td>\n",
       "      <td>001</td>\n",
       "      <td>002</td>\n",
       "      <td>52017039668</td>\n",
       "      <td>rb******</td>\n",
       "      <td>2024-11-03 09:15:45.987704</td>\n",
       "      <td>잘볼게요 감사합니다</td>\n",
       "      <td>002</td>\n",
       "      <td>002</td>\n",
       "      <td>...</td>\n",
       "      <td>0</td>\n",
       "      <td>N</td>\n",
       "      <td>N</td>\n",
       "      <td>N</td>\n",
       "      <td>N</td>\n",
       "      <td></td>\n",
       "      <td>None</td>\n",
       "      <td>[]</td>\n",
       "      <td>0</td>\n",
       "      <td>None</td>\n",
       "    </tr>\n",
       "    <tr>\n",
       "      <th>4</th>\n",
       "      <td>14375360</td>\n",
       "      <td>001</td>\n",
       "      <td>001</td>\n",
       "      <td>002</td>\n",
       "      <td>62005299929</td>\n",
       "      <td>js*****</td>\n",
       "      <td>2024-08-12 14:12:38.291326</td>\n",
       "      <td>시리즈물로 되어있어서 좋아요</td>\n",
       "      <td>002</td>\n",
       "      <td>004</td>\n",
       "      <td>...</td>\n",
       "      <td>0</td>\n",
       "      <td>N</td>\n",
       "      <td>N</td>\n",
       "      <td>N</td>\n",
       "      <td>N</td>\n",
       "      <td></td>\n",
       "      <td>None</td>\n",
       "      <td>[]</td>\n",
       "      <td>0</td>\n",
       "      <td>None</td>\n",
       "    </tr>\n",
       "    <tr>\n",
       "      <th>5</th>\n",
       "      <td>14323243</td>\n",
       "      <td>001</td>\n",
       "      <td>001</td>\n",
       "      <td>002</td>\n",
       "      <td>62017054292</td>\n",
       "      <td>sw********</td>\n",
       "      <td>2024-08-04 13:17:53.344136</td>\n",
       "      <td>딥러닝 혼공에 도움됩니다</td>\n",
       "      <td>002</td>\n",
       "      <td>005</td>\n",
       "      <td>...</td>\n",
       "      <td>0</td>\n",
       "      <td>N</td>\n",
       "      <td>N</td>\n",
       "      <td>N</td>\n",
       "      <td>N</td>\n",
       "      <td></td>\n",
       "      <td>None</td>\n",
       "      <td>[]</td>\n",
       "      <td>0</td>\n",
       "      <td>None</td>\n",
       "    </tr>\n",
       "    <tr>\n",
       "      <th>6</th>\n",
       "      <td>13869522</td>\n",
       "      <td>001</td>\n",
       "      <td>001</td>\n",
       "      <td>002</td>\n",
       "      <td>62018755562</td>\n",
       "      <td>cu*******</td>\n",
       "      <td>2024-05-31 16:30:41.07304</td>\n",
       "      <td>공부를 위해 구매했습니다. 감사합니다.</td>\n",
       "      <td>002</td>\n",
       "      <td>002</td>\n",
       "      <td>...</td>\n",
       "      <td>0</td>\n",
       "      <td>N</td>\n",
       "      <td>N</td>\n",
       "      <td>N</td>\n",
       "      <td>N</td>\n",
       "      <td></td>\n",
       "      <td>14092980</td>\n",
       "      <td>[]</td>\n",
       "      <td>0</td>\n",
       "      <td>None</td>\n",
       "    </tr>\n",
       "    <tr>\n",
       "      <th>7</th>\n",
       "      <td>13132223</td>\n",
       "      <td>001</td>\n",
       "      <td>001</td>\n",
       "      <td>002</td>\n",
       "      <td>62210388173</td>\n",
       "      <td>kw*****</td>\n",
       "      <td>2024-02-14 22:02:56.283654</td>\n",
       "      <td>딥러닝시리즈중 단연 최고</td>\n",
       "      <td>002</td>\n",
       "      <td>002</td>\n",
       "      <td>...</td>\n",
       "      <td>0</td>\n",
       "      <td>N</td>\n",
       "      <td>N</td>\n",
       "      <td>N</td>\n",
       "      <td>N</td>\n",
       "      <td></td>\n",
       "      <td>None</td>\n",
       "      <td>[]</td>\n",
       "      <td>0</td>\n",
       "      <td>None</td>\n",
       "    </tr>\n",
       "    <tr>\n",
       "      <th>8</th>\n",
       "      <td>12832595</td>\n",
       "      <td>001</td>\n",
       "      <td>001</td>\n",
       "      <td>002</td>\n",
       "      <td>62016223253</td>\n",
       "      <td>pu*******</td>\n",
       "      <td>2024-01-02 09:39:41.835805</td>\n",
       "      <td>잘 읽힙니다, 꼼꼼히 읽어보겠습니다.</td>\n",
       "      <td>002</td>\n",
       "      <td>002</td>\n",
       "      <td>...</td>\n",
       "      <td>0</td>\n",
       "      <td>N</td>\n",
       "      <td>N</td>\n",
       "      <td>N</td>\n",
       "      <td>N</td>\n",
       "      <td></td>\n",
       "      <td>None</td>\n",
       "      <td>[]</td>\n",
       "      <td>0</td>\n",
       "      <td>None</td>\n",
       "    </tr>\n",
       "    <tr>\n",
       "      <th>9</th>\n",
       "      <td>12017432</td>\n",
       "      <td>001</td>\n",
       "      <td>001</td>\n",
       "      <td>002</td>\n",
       "      <td>62015478889</td>\n",
       "      <td>gy******</td>\n",
       "      <td>2023-08-09 13:49:12.161319</td>\n",
       "      <td>딥러닝을 하나하나 파이썬으로 만들어가면서 개념을 배우는 일은 정말 즐겁습니다.</td>\n",
       "      <td>002</td>\n",
       "      <td>004</td>\n",
       "      <td>...</td>\n",
       "      <td>0</td>\n",
       "      <td>N</td>\n",
       "      <td>N</td>\n",
       "      <td>N</td>\n",
       "      <td>N</td>\n",
       "      <td></td>\n",
       "      <td>None</td>\n",
       "      <td>[]</td>\n",
       "      <td>0</td>\n",
       "      <td>None</td>\n",
       "    </tr>\n",
       "  </tbody>\n",
       "</table>\n",
       "<p>10 rows × 50 columns</p>\n",
       "</div>"
      ],
      "text/plain": [
       "    revwNum kbcSiteCode revwKindCode revwPatrCode      mmbrNum      mmbrId  \\\n",
       "0   2400121         001          001          002  62018267237  ji********   \n",
       "1  15291814         001          001          002  62020250042      ql****   \n",
       "2  15261466         001          001          002  62009130793     ma*****   \n",
       "3  14976673         001          001          002  52017039668    rb******   \n",
       "4  14375360         001          001          002  62005299929     js*****   \n",
       "5  14323243         001          001          002  62017054292  sw********   \n",
       "6  13869522         001          001          002  62018755562   cu*******   \n",
       "7  13132223         001          001          002  62210388173     kw*****   \n",
       "8  12832595         001          001          002  62016223253   pu*******   \n",
       "9  12017432         001          001          002  62015478889    gy******   \n",
       "\n",
       "                     cretDttm                                     revwCntt  \\\n",
       "0     2021-02-11 16:53:10.306                    딥러닝 아무것도 모르는데 이거 읽고 깨우쳤음.   \n",
       "1  2025-01-24 22:59:13.290737            딥러닝에 대한 기본을 배울 수 있는 좋은 책이라고 생각합니다   \n",
       "2  2025-01-17 01:25:16.218177                           자세하게 알려줘서 이해하기 쉬워요   \n",
       "3  2024-11-03 09:15:45.987704                                   잘볼게요 감사합니다   \n",
       "4  2024-08-12 14:12:38.291326                              시리즈물로 되어있어서 좋아요   \n",
       "5  2024-08-04 13:17:53.344136                                딥러닝 혼공에 도움됩니다   \n",
       "6   2024-05-31 16:30:41.07304                        공부를 위해 구매했습니다. 감사합니다.   \n",
       "7  2024-02-14 22:02:56.283654                                딥러닝시리즈중 단연 최고   \n",
       "8  2024-01-02 09:39:41.835805                         잘 읽힙니다, 꼼꼼히 읽어보겠습니다.   \n",
       "9  2023-08-09 13:49:12.161319  딥러닝을 하나하나 파이썬으로 만들어가면서 개념을 배우는 일은 정말 즐겁습니다.   \n",
       "\n",
       "  revwEmtnKywrPatrCode revwEmtnKywrCode  ... reviewDeclarationCount  \\\n",
       "0                  002              001  ...                      0   \n",
       "1                  002              002  ...                      0   \n",
       "2                  002              004  ...                      0   \n",
       "3                  002              002  ...                      0   \n",
       "4                  002              004  ...                      0   \n",
       "5                  002              005  ...                      0   \n",
       "6                  002              002  ...                      0   \n",
       "7                  002              002  ...                      0   \n",
       "8                  002              002  ...                      0   \n",
       "9                  002              004  ...                      0   \n",
       "\n",
       "   reviewRecommendUserYsno declaration5timesYsno declarationUserYsno  \\\n",
       "0                        N                     N                   N   \n",
       "1                        N                     N                   N   \n",
       "2                        N                     N                   N   \n",
       "3                        N                     N                   N   \n",
       "4                        N                     N                   N   \n",
       "5                        N                     N                   N   \n",
       "6                        N                     N                   N   \n",
       "7                        N                     N                   N   \n",
       "8                        N                     N                   N   \n",
       "9                        N                     N                   N   \n",
       "\n",
       "  blockUserYsno firstRevwNum oneMonthRevwNum chrcList  fndgPrjtSrmb turnSrmb  \n",
       "0             N                         None       []             0     None  \n",
       "1             N                         None       []             0     None  \n",
       "2             N                         None       []             0     None  \n",
       "3             N                         None       []             0     None  \n",
       "4             N                         None       []             0     None  \n",
       "5             N                         None       []             0     None  \n",
       "6             N                     14092980       []             0     None  \n",
       "7             N                         None       []             0     None  \n",
       "8             N                         None       []             0     None  \n",
       "9             N                         None       []             0     None  \n",
       "\n",
       "[10 rows x 50 columns]"
      ]
     },
     "execution_count": 4,
     "metadata": {},
     "output_type": "execute_result"
    }
   ],
   "source": [
    "get_kyobo_reviews(page=1)"
   ]
  },
  {
   "cell_type": "code",
   "execution_count": 5,
   "metadata": {},
   "outputs": [
    {
     "name": "stdout",
     "output_type": "stream",
     "text": [
      "=== 단일 페이지 테스트 ===\n",
      "응답 키: ['revwNum', 'kbcSiteCode', 'revwKindCode', 'revwPatrCode', 'mmbrNum', 'mmbrId', 'cretDttm', 'revwCntt', 'revwEmtnKywrPatrCode', 'revwEmtnKywrCode', 'revwEmtnKywrName', 'revwRvgr', 'splrInclYsno', 'hdngYsno', 'cttsHdngRsnCode', 'hdngRsn', 'attndChekTrgtYsno', 'ordrId', 'rewardEvcAmnt', 'rewardEvcIsncYsno', 'rewardEvcIsncDate', 'mgrRewardEvcIsncYsno', 'mgrRewardEvcIsncRsn', 'evntId', 'dltYsno', 'saleCmdtid', 'saleCmdtDvsnCode', 'cmdtName', 'cmdtcode', 'saleLmttAge', 'recdcode', 'saleCmdtGrpDvsnCode', 'imgUrl', 'crtrId', 'amnrId', 'reviewAtacList', 'reviewAtacCount', 'atacFileNum', 'reviewRecommendCount', 'reviewCommentCount', 'reviewDeclarationCount', 'reviewRecommendUserYsno', 'declaration5timesYsno', 'declarationUserYsno', 'blockUserYsno', 'firstRevwNum', 'oneMonthRevwNum', 'chrcList', 'fndgPrjtSrmb', 'turnSrmb']\n",
      "데이터 개수: 10\n",
      "\n",
      "=== 여러 페이지 수집 테스트 ===\n"
     ]
    }
   ],
   "source": [
    "\n",
    "# 단일 페이지 테스트\n",
    "print(\"=== 단일 페이지 테스트 ===\")\n",
    "result = get_kyobo_reviews(1)\n",
    "if len(result) > 0:\n",
    "    print(f\"응답 키: {list(result.keys())}\")\n",
    "    print(f\"데이터 개수: {len(result)}\")\n",
    "\n",
    "print(\"\\n=== 여러 페이지 수집 테스트 ===\")\n",
    "# 여러 페이지 수집\n",
    "reviews = []\n",
    "for page in range(1, 4):\n",
    "    result = get_kyobo_reviews(page)\n",
    "    if not result.empty:\n",
    "        reviews.append(result)\n",
    "    else:\n",
    "        print(f\"페이지 {page} 수집 중 데이터가 없습니다.\")\n",
    "        break\n"
   ]
  },
  {
   "cell_type": "code",
   "execution_count": 6,
   "metadata": {},
   "outputs": [
    {
     "name": "stdout",
     "output_type": "stream",
     "text": [
      "<class 'pandas.core.frame.DataFrame'>\n",
      "RangeIndex: 143 entries, 0 to 142\n",
      "Data columns (total 50 columns):\n",
      " #   Column                   Non-Null Count  Dtype  \n",
      "---  ------                   --------------  -----  \n",
      " 0   revwNum                  143 non-null    int64  \n",
      " 1   kbcSiteCode              143 non-null    int64  \n",
      " 2   revwKindCode             143 non-null    int64  \n",
      " 3   revwPatrCode             143 non-null    int64  \n",
      " 4   mmbrNum                  143 non-null    int64  \n",
      " 5   mmbrId                   143 non-null    object \n",
      " 6   cretDttm                 143 non-null    object \n",
      " 7   revwCntt                 143 non-null    object \n",
      " 8   revwEmtnKywrPatrCode     143 non-null    int64  \n",
      " 9   revwEmtnKywrCode         141 non-null    float64\n",
      " 10  revwEmtnKywrName         141 non-null    object \n",
      " 11  revwRvgr                 143 non-null    int64  \n",
      " 12  splrInclYsno             143 non-null    object \n",
      " 13  hdngYsno                 143 non-null    object \n",
      " 14  cttsHdngRsnCode          0 non-null      float64\n",
      " 15  hdngRsn                  0 non-null      float64\n",
      " 16  attndChekTrgtYsno        143 non-null    object \n",
      " 17  ordrId                   0 non-null      float64\n",
      " 18  rewardEvcAmnt            143 non-null    int64  \n",
      " 19  rewardEvcIsncYsno        0 non-null      float64\n",
      " 20  rewardEvcIsncDate        0 non-null      float64\n",
      " 21  mgrRewardEvcIsncYsno     0 non-null      float64\n",
      " 22  mgrRewardEvcIsncRsn      0 non-null      float64\n",
      " 23  evntId                   130 non-null    float64\n",
      " 24  dltYsno                  143 non-null    object \n",
      " 25  saleCmdtid               143 non-null    object \n",
      " 26  saleCmdtDvsnCode         143 non-null    object \n",
      " 27  cmdtName                 143 non-null    object \n",
      " 28  cmdtcode                 143 non-null    int64  \n",
      " 29  saleLmttAge              143 non-null    int64  \n",
      " 30  recdcode                 0 non-null      float64\n",
      " 31  saleCmdtGrpDvsnCode      0 non-null      float64\n",
      " 32  imgUrl                   0 non-null      float64\n",
      " 33  crtrId                   143 non-null    object \n",
      " 34  amnrId                   143 non-null    object \n",
      " 35  reviewAtacList           143 non-null    object \n",
      " 36  reviewAtacCount          143 non-null    int64  \n",
      " 37  atacFileNum              143 non-null    int64  \n",
      " 38  reviewRecommendCount     143 non-null    int64  \n",
      " 39  reviewCommentCount       143 non-null    int64  \n",
      " 40  reviewDeclarationCount   143 non-null    int64  \n",
      " 41  reviewRecommendUserYsno  143 non-null    object \n",
      " 42  declaration5timesYsno    143 non-null    object \n",
      " 43  declarationUserYsno      143 non-null    object \n",
      " 44  blockUserYsno            143 non-null    object \n",
      " 45  firstRevwNum             0 non-null      float64\n",
      " 46  oneMonthRevwNum          1 non-null      float64\n",
      " 47  chrcList                 143 non-null    object \n",
      " 48  fndgPrjtSrmb             143 non-null    int64  \n",
      " 49  turnSrmb                 0 non-null      float64\n",
      "dtypes: float64(15), int64(16), object(19)\n",
      "memory usage: 56.0+ KB\n"
     ]
    }
   ],
   "source": [
    "df = pd.read_csv('../datasets/kyobo_reviews1.csv')\n",
    "df.info()"
   ]
  },
  {
   "cell_type": "code",
   "execution_count": 7,
   "metadata": {},
   "outputs": [
    {
     "name": "stdout",
     "output_type": "stream",
     "text": [
      "<class 'pandas.core.frame.DataFrame'>\n",
      "RangeIndex: 143 entries, 0 to 142\n",
      "Data columns (total 50 columns):\n",
      " #   Column                   Non-Null Count  Dtype  \n",
      "---  ------                   --------------  -----  \n",
      " 0   revwNum                  143 non-null    int64  \n",
      " 1   kbcSiteCode              143 non-null    int64  \n",
      " 2   revwKindCode             143 non-null    int64  \n",
      " 3   revwPatrCode             143 non-null    int64  \n",
      " 4   mmbrNum                  143 non-null    int64  \n",
      " 5   mmbrId                   143 non-null    object \n",
      " 6   cretDttm                 143 non-null    object \n",
      " 7   revwCntt                 143 non-null    object \n",
      " 8   revwEmtnKywrPatrCode     143 non-null    int64  \n",
      " 9   revwEmtnKywrCode         141 non-null    float64\n",
      " 10  revwEmtnKywrName         141 non-null    object \n",
      " 11  revwRvgr                 143 non-null    int64  \n",
      " 12  splrInclYsno             143 non-null    object \n",
      " 13  hdngYsno                 143 non-null    object \n",
      " 14  cttsHdngRsnCode          0 non-null      float64\n",
      " 15  hdngRsn                  0 non-null      float64\n",
      " 16  attndChekTrgtYsno        143 non-null    object \n",
      " 17  ordrId                   0 non-null      float64\n",
      " 18  rewardEvcAmnt            143 non-null    int64  \n",
      " 19  rewardEvcIsncYsno        0 non-null      float64\n",
      " 20  rewardEvcIsncDate        0 non-null      float64\n",
      " 21  mgrRewardEvcIsncYsno     0 non-null      float64\n",
      " 22  mgrRewardEvcIsncRsn      0 non-null      float64\n",
      " 23  evntId                   130 non-null    float64\n",
      " 24  dltYsno                  143 non-null    object \n",
      " 25  saleCmdtid               143 non-null    object \n",
      " 26  saleCmdtDvsnCode         143 non-null    object \n",
      " 27  cmdtName                 143 non-null    object \n",
      " 28  cmdtcode                 143 non-null    int64  \n",
      " 29  saleLmttAge              143 non-null    int64  \n",
      " 30  recdcode                 0 non-null      float64\n",
      " 31  saleCmdtGrpDvsnCode      0 non-null      float64\n",
      " 32  imgUrl                   0 non-null      float64\n",
      " 33  crtrId                   143 non-null    object \n",
      " 34  amnrId                   143 non-null    object \n",
      " 35  reviewAtacList           143 non-null    object \n",
      " 36  reviewAtacCount          143 non-null    int64  \n",
      " 37  atacFileNum              143 non-null    int64  \n",
      " 38  reviewRecommendCount     143 non-null    int64  \n",
      " 39  reviewCommentCount       143 non-null    int64  \n",
      " 40  reviewDeclarationCount   143 non-null    int64  \n",
      " 41  reviewRecommendUserYsno  143 non-null    object \n",
      " 42  declaration5timesYsno    143 non-null    object \n",
      " 43  declarationUserYsno      143 non-null    object \n",
      " 44  blockUserYsno            143 non-null    object \n",
      " 45  firstRevwNum             0 non-null      float64\n",
      " 46  oneMonthRevwNum          1 non-null      float64\n",
      " 47  chrcList                 143 non-null    object \n",
      " 48  fndgPrjtSrmb             143 non-null    int64  \n",
      " 49  turnSrmb                 0 non-null      float64\n",
      "dtypes: float64(15), int64(16), object(19)\n",
      "memory usage: 56.0+ KB\n"
     ]
    }
   ],
   "source": [
    "df2 = pd.read_csv('../datasets/kyobo_reviews.csv')\n",
    "df2.info()"
   ]
  },
  {
   "cell_type": "markdown",
   "metadata": {},
   "source": [
    "#### 🔍 2단계: 토픽 모델링 (LDA)으로 리뷰 주제 파악하기\n",
    "\n",
    "수집한 리뷰들에는 어떤 숨겨진 주제들이 있을지 LDA를 통해 분석해 봅시다.\n",
    "\n",
    "1. **DTM 생성:** 전처리된 'processed' 데이터를 `CountVectorizer`를 사용하여 DTM(단어-문서 행렬)으로 변환하세요.\n",
    "2. **LDA 모델 학습:** `LatentDirichletAllocation`을 사용해 **4개의 토픽**을 추출해 보세요.\n",
    "3. **결과 해석:**\n",
    "* 각 토픽을 대표하는 상위 5~7개의 키워드를 출력하세요.\n",
    "* 키워드를 바탕으로 각 토픽에 **이름을 붙여보세요.** 예를 들어, \"실천과 변화\", \"선물 및 추천\", \"번역 및 가독성\" 등과 같이 해석할 수 있습니다. 이를 통해 독자들이 어떤 관점에서 이 책을 평가하는지 파악할 수 있습니다."
   ]
  },
  {
   "cell_type": "code",
   "execution_count": 2,
   "metadata": {},
   "outputs": [
    {
     "name": "stdout",
     "output_type": "stream",
     "text": [
      "'../datasets/kyobo_reviews.csv' 파일을 성공적으로 불러왔습니다. (총 리뷰 수: 143)\n",
      "\n",
      "리뷰 텍스트 전처리(명사 추출) 완료.\n",
      "| revwCntt                                                   | processed        |\n",
      "|:-----------------------------------------------------------|:-----------------|\n",
      "| 딥러닝 아무것도 모르는데 이거 읽고 깨우쳤음.               | 러닝 아무것 이거 |\n",
      "| 딥러닝에 대한 기본을 배울 수 있는 좋은 책이라고 생각합니다 | 러닝 기본 생각   |\n",
      "| 자세하게 알려줘서 이해하기 쉬워요                          | 이해             |\n",
      "| 잘볼게요 감사합니다                                        | 감사             |\n",
      "| 시리즈물로 되어있어서 좋아요                               | 시리즈물         |\n",
      "\n",
      "DTM 생성 완료. (총 단어 수: 41)\n",
      "\n",
      "--- 🔍 LDA 토픽 모델링 결과 ---\n",
      "\n",
      "# 토픽 1\n",
      "  키워드: 이해 | 러닝 | 도움 | 기본 | 처음 | 초심자 | 실습\n",
      "  > 이 토픽의 이름은? (예: 입문자 추천, 이론과 실습, 번역 품질)\n",
      "\n",
      "# 토픽 2\n",
      "  키워드: 구매 | 러닝 | 파이썬 | 유용 | 입문서 | 추천 | 가능\n",
      "  > 이 토픽의 이름은? (예: 입문자 추천, 이론과 실습, 번역 품질)\n",
      "\n",
      "# 토픽 3\n",
      "  키워드: 공부 | 러닝 | 기초 | 추천 | 유용 | 머신 | 입문\n",
      "  > 이 토픽의 이름은? (예: 입문자 추천, 이론과 실습, 번역 품질)\n",
      "\n",
      "# 토픽 4\n",
      "  키워드: 배송 | 러닝 | 밑바닥 | 당일 | 다음날 | 구현 | 감사\n",
      "  > 이 토픽의 이름은? (예: 입문자 추천, 이론과 실습, 번역 품질)\n",
      "\n",
      "\n",
      "--- 📊 LDA 결과 시각화 ---\n"
     ]
    }
   ],
   "source": [
    "import pandas as pd\n",
    "from kiwipiepy import Kiwi\n",
    "from sklearn.feature_extraction.text import CountVectorizer\n",
    "from sklearn.decomposition import LatentDirichletAllocation\n",
    "import pyLDAvis\n",
    "import pyLDAvis.lda_model\n",
    "import warnings\n",
    "\n",
    "# 경고 메시지 무시\n",
    "warnings.filterwarnings('ignore', category=FutureWarning)\n",
    "\n",
    "# --- 1. 데이터 불러오기 ---\n",
    "file_name = f'../datasets/kyobo_reviews.csv'\n",
    "\n",
    "try:\n",
    "    df = pd.read_csv(file_name)\n",
    "    print(f\"'{file_name}' 파일을 성공적으로 불러왔습니다. (총 리뷰 수: {len(df)})\")\n",
    "except FileNotFoundError:\n",
    "    print(f\"오류: '{file_name}' 파일을 찾을 수 없습니다.\")\n",
    "    print(\"SALE_CMDTID가 올바른지, 이전 단계에서 CSV 파일이 정상적으로 저장되었는지 확인해주세요.\")\n",
    "    # 파일이 없으면 더 이상 진행하지 않음\n",
    "    # df = None \n",
    "# 파일이 성공적으로 로드되었을 때만 아래 코드 실행\n",
    "if 'df' in locals() and df is not None:\n",
    "    # --- 2. 텍스트 전처리 ---\n",
    "    kiwi = Kiwi()\n",
    "\n",
    "    def kiwi_noun_extractor(text):\n",
    "        \"\"\"Kiwi 형태소 분석기를 사용해 명사만 추출하는 함수\"\"\"\n",
    "        if not isinstance(text, str):\n",
    "            return \"\"\n",
    "        tokens = kiwi.tokenize(text)\n",
    "        # 한 글자 명사는 의미 없는 경우가 많아 제외 (예: '책', '것')\n",
    "        nouns = [token.form for token in tokens if token.tag.startswith('N') and len(token.form) > 1]\n",
    "        return ' '.join(nouns)\n",
    "\n",
    "    # 'revwCntt' 컬럼의 리뷰 내용에 전처리 함수 적용\n",
    "    if 'revwCntt' in df.columns:\n",
    "        df['processed'] = df['revwCntt'].apply(kiwi_noun_extractor)\n",
    "        print(\"\\n리뷰 텍스트 전처리(명사 추출) 완료.\")\n",
    "        # 전처리 결과 상위 5개 샘플 출력\n",
    "        print(df[['revwCntt', 'processed']].head().to_markdown(index=False))\n",
    "    else:\n",
    "        print(\"\\n오류: 'revwCntt' 컬럼을 찾을 수 없습니다. CSV 파일 내용을 확인해주세요.\")\n",
    "\n",
    "    # --- 3. DTM(단어-문서 행렬) 생성 ---\n",
    "    # 너무 자주(90% 이상) 또는 너무 드물게(2번 미만) 나타나는 단어는 제외\n",
    "    # 의미 없는 불용어 추가\n",
    "    korean_stopwords = ['번역', '내용', '설명', '사람', '생각', '부분', '시작', '정말', '개념']\n",
    "    vectorizer = CountVectorizer(max_df=0.90, min_df=2, stop_words=korean_stopwords)\n",
    "    \n",
    "    dtm = vectorizer.fit_transform(df['processed'])\n",
    "    feature_names = vectorizer.get_feature_names_out()\n",
    "    \n",
    "    print(f\"\\nDTM 생성 완료. (총 단어 수: {dtm.shape[1]})\")\n",
    "\n",
    "    # --- 4. LDA 모델 학습 ---\n",
    "    # 4개의 토픽으로 모델 학습\n",
    "    lda = LatentDirichletAllocation(n_components=4, random_state=42)\n",
    "    lda.fit(dtm)\n",
    "\n",
    "    # --- 5. 결과 해석 ---\n",
    "    def display_topics(model, features, n_top_words):\n",
    "        \"\"\"LDA 모델의 토픽별 상위 키워드를 출력하는 함수\"\"\"\n",
    "        print(\"\\n--- 🔍 LDA 토픽 모델링 결과 ---\")\n",
    "        for topic_idx, topic in enumerate(model.components_):\n",
    "            # 각 토픽을 대표하는 상위 키워드 7개\n",
    "            top_keywords = [features[i] for i in topic.argsort()[:-n_top_words - 1:-1]]\n",
    "            print(f\"\\n# 토픽 {topic_idx + 1}\")\n",
    "            print(f\"  키워드: {' | '.join(top_keywords)}\")\n",
    "            # 아래 '???' 부분에 직접 토픽의 이름을 붙여보세요.\n",
    "            print(\"  > 이 토픽의 이름은? (예: 입문자 추천, 이론과 실습, 번역 품질)\")\n",
    "\n",
    "    display_topics(lda, feature_names, n_top_words=7)\n",
    "\n",
    "    # --- 6. LDA 결과 시각화 ---\n",
    "    print(\"\\n\\n--- 📊 LDA 결과 시각화 ---\")\n",
    "    # pyLDAvis를 위한 데이터 준비\n",
    "    vis_data = pyLDAvis.lda_model.prepare(lda, dtm, vectorizer)\n",
    "    \n",
    "    # 노트북 환경에서 바로 시각화 결과 보기\n",
    "    pyLDAvis.display(vis_data)"
   ]
  },
  {
   "cell_type": "code",
   "execution_count": 9,
   "metadata": {},
   "outputs": [
    {
     "data": {
      "text/html": [
       "\n",
       "<link rel=\"stylesheet\" type=\"text/css\" href=\"https://cdn.jsdelivr.net/gh/bmabey/pyLDAvis@3.4.0/pyLDAvis/js/ldavis.v1.0.0.css\">\n",
       "\n",
       "\n",
       "<div id=\"ldavis_el3987225786258750723218251786\" style=\"background-color:white;\"></div>\n",
       "<script type=\"text/javascript\">\n",
       "\n",
       "var ldavis_el3987225786258750723218251786_data = {\"mdsDat\": {\"x\": [0.17410729082583776, 0.024085729810955723, -0.209110172982602, 0.010917152345808439], \"y\": [0.043655327834899046, -0.19984304506796519, 0.02041778387395464, 0.13576993335911128], \"topics\": [1, 2, 3, 4], \"cluster\": [1, 1, 1, 1], \"Freq\": [32.23930201425504, 23.247854451970344, 22.71734258816448, 21.79550094561014]}, \"tinfo\": {\"Term\": [\"\\uacf5\\ubd80\", \"\\uc774\\ud574\", \"\\uad6c\\ub9e4\", \"\\ub3c4\\uc6c0\", \"\\ubc30\\uc1a1\", \"\\ubc11\\ubc14\\ub2e5\", \"\\ud30c\\uc774\\uc36c\", \"\\uae30\\ucd08\", \"\\ub2f9\\uc77c\", \"\\uae30\\ubcf8\", \"\\uc720\\uc6a9\", \"\\uc785\\ubb38\\uc11c\", \"\\ub2e4\\uc74c\\ub0a0\", \"\\uad6c\\ud604\", \"\\uac10\\uc0ac\", \"\\ucd94\\ucc9c\", \"\\uac00\\ub2a5\", \"\\ucc98\\uc74c\", \"\\ub9cc\\uc871\", \"\\uc8fc\\ubb38\", \"\\uc11c\\uc810\", \"\\ud3ec\\uc7a5\", \"\\uc81c\\ubaa9\", \"\\uc555\\ucd95\", \"\\uc9c0\\uc2dd\", \"\\uc774\\ub860\", \"\\uc785\\uc7a5\", \"\\ucd5c\\uace0\", \"\\ucd08\\uc2ec\\uc790\", \"\\uc2e4\\uc2b5\", \"\\uacf5\\ubd80\", \"\\uae30\\ucd08\", \"\\uba38\\uc2e0\", \"\\uae30\\ub300\", \"\\uc785\\ubb38\", \"\\uc785\\ubb38\\uc790\", \"\\ucd94\\ucc9c\", \"\\ub7ec\\ub2dd\", \"\\uc2dc\\ub9ac\\uc988\", \"\\ud544\\uc694\", \"\\uc720\\uc6a9\", \"\\ucc98\\uc74c\", \"\\uc785\\uc7a5\", \"\\uc774\\ub860\", \"\\ucd08\\uc2ec\\uc790\", \"\\uc815\\ub3c5\", \"\\uc2e4\\uc2b5\", \"\\uad6c\\uc131\", \"\\uc555\\ucd95\", \"\\uc9c0\\uc2dd\", \"\\uad50\\uc7ac\", \"\\uc81c\\ubaa9\", \"\\ud3ec\\uc7a5\", \"\\uc8fc\\ubb38\", \"\\ub9cc\\uc871\", \"\\uc11c\\uc810\", \"\\ucd5c\\uace0\", \"\\uac00\\ub2a5\", \"\\ucf54\\ub529\", \"\\uac10\\uc0ac\", \"\\uad6c\\ud604\", \"\\uae30\\ubcf8\", \"\\ub3c4\\uc6c0\", \"\\uad6c\\ub9e4\", \"\\uc774\\ud574\", \"\\ubc30\\uc1a1\", \"\\ud30c\\uc774\\uc36c\", \"\\ubc11\\ubc14\\ub2e5\", \"\\uc774\\ud574\", \"\\ub3c4\\uc6c0\", \"\\uae30\\ubcf8\", \"\\ucd08\\uc2ec\\uc790\", \"\\uc2e4\\uc2b5\", \"\\uc815\\ub3c5\", \"\\uad6c\\uc131\", \"\\ucc98\\uc74c\", \"\\uc2dc\\ub9ac\\uc988\", \"\\uc785\\ubb38\", \"\\ucd5c\\uace0\", \"\\ucf54\\ub529\", \"\\ub7ec\\ub2dd\", \"\\uc9c0\\uc2dd\", \"\\uc555\\ucd95\", \"\\uc785\\uc7a5\", \"\\ud544\\uc694\", \"\\uae30\\ub300\", \"\\uad50\\uc7ac\", \"\\uc774\\ub860\", \"\\uc81c\\ubaa9\", \"\\ud3ec\\uc7a5\", \"\\uc8fc\\ubb38\", \"\\ub9cc\\uc871\", \"\\uc11c\\uc810\", \"\\uc785\\ubb38\\uc790\", \"\\uac00\\ub2a5\", \"\\uba38\\uc2e0\", \"\\uac10\\uc0ac\", \"\\uad6c\\ud604\", \"\\ucd94\\ucc9c\", \"\\uc720\\uc6a9\", \"\\uae30\\ucd08\", \"\\ud30c\\uc774\\uc36c\", \"\\ubc30\\uc1a1\", \"\\uad6c\\ub9e4\", \"\\uacf5\\ubd80\", \"\\uc785\\ubb38\\uc11c\", \"\\ubc30\\uc1a1\", \"\\ubc11\\ubc14\\ub2e5\", \"\\ub2f9\\uc77c\", \"\\ub2e4\\uc74c\\ub0a0\", \"\\uad6c\\ud604\", \"\\uac10\\uc0ac\", \"\\ub9cc\\uc871\", \"\\uc8fc\\ubb38\", \"\\uc11c\\uc810\", \"\\ud3ec\\uc7a5\", \"\\uc81c\\ubaa9\", \"\\uc774\\ub860\", \"\\uad50\\uc7ac\", \"\\uc785\\ubb38\\uc11c\", \"\\ucf54\\ub529\", \"\\uae30\\ubcf8\", \"\\ub7ec\\ub2dd\", \"\\uac00\\ub2a5\", \"\\uad6c\\uc131\", \"\\uae30\\ub300\", \"\\ucd08\\uc2ec\\uc790\", \"\\uc815\\ub3c5\", \"\\uc2e4\\uc2b5\", \"\\uc555\\ucd95\", \"\\uc9c0\\uc2dd\", \"\\uc785\\uc7a5\", \"\\uc2dc\\ub9ac\\uc988\", \"\\ud544\\uc694\", \"\\ucd5c\\uace0\", \"\\uc785\\ubb38\\uc790\", \"\\ucd94\\ucc9c\", \"\\uad6c\\ub9e4\", \"\\uacf5\\ubd80\", \"\\uae30\\ucd08\", \"\\uc785\\ubb38\", \"\\uc720\\uc6a9\", \"\\uad6c\\ub9e4\", \"\\ud30c\\uc774\\uc36c\", \"\\uac00\\ub2a5\", \"\\uc555\\ucd95\", \"\\uc9c0\\uc2dd\", \"\\uc785\\uc7a5\", \"\\uc785\\ubb38\\uc11c\", \"\\ucd5c\\uace0\", \"\\uc720\\uc6a9\", \"\\ucd94\\ucc9c\", \"\\uad50\\uc7ac\", \"\\ud544\\uc694\", \"\\ucf54\\ub529\", \"\\uc785\\ubb38\\uc790\", \"\\ub7ec\\ub2dd\", \"\\uc815\\ub3c5\", \"\\uc2e4\\uc2b5\", \"\\ucd08\\uc2ec\\uc790\", \"\\uad6c\\uc131\", \"\\uc2dc\\ub9ac\\uc988\", \"\\uae30\\ub300\", \"\\ud3ec\\uc7a5\", \"\\uc11c\\uc810\", \"\\uc774\\ub860\", \"\\uc81c\\ubaa9\", \"\\uc8fc\\ubb38\", \"\\ub9cc\\uc871\", \"\\ucc98\\uc74c\", \"\\uba38\\uc2e0\", \"\\uac10\\uc0ac\", \"\\ub2e4\\uc74c\\ub0a0\", \"\\ub2f9\\uc77c\", \"\\uae30\\ubcf8\", \"\\uacf5\\ubd80\", \"\\uc774\\ud574\", \"\\ubc30\\uc1a1\", \"\\uc785\\ubb38\"], \"Freq\": [22.0, 12.0, 8.0, 7.0, 7.0, 6.0, 5.0, 8.0, 4.0, 5.0, 7.0, 5.0, 3.0, 3.0, 3.0, 6.0, 3.0, 5.0, 2.0, 2.0, 2.0, 2.0, 2.0, 2.0, 2.0, 2.0, 2.0, 3.0, 2.0, 2.0, 21.65312957649867, 7.930178374431688, 2.787666685099054, 1.9153375608105214, 2.502396289758387, 1.9305758653155791, 3.422316645919285, 19.716227658604826, 1.069598985433246, 1.071500948409122, 2.984104341236852, 1.8349648143780806, 0.2417931938316648, 0.23576171337215157, 0.2146291208636729, 0.21461111452343096, 0.21455705315674606, 0.2146056264425738, 0.21464689521405741, 0.21458260843736607, 0.21479669632231177, 0.21738258488093828, 0.21451372343019545, 0.2145233824040073, 0.21451821161015036, 0.2144995283899178, 0.2146065116321056, 0.21451995984776118, 0.2146363174019504, 0.21791568963065877, 0.21631567234950855, 0.22151359564355405, 0.22164069052199306, 0.216518524906819, 0.21614008998000037, 0.2157846552901096, 0.21558290725045653, 0.21539324930153475, 11.714330600428195, 6.776418929536376, 4.334906274413446, 1.8423411865776718, 1.8412503278982344, 1.8410179792903185, 1.8406451393787773, 3.4226946430129273, 1.030032558610457, 1.301035643536006, 1.0159433010288146, 1.0314670877274603, 10.383383752804633, 0.21310575853666838, 0.2057998819749821, 0.20568819641756744, 0.2057642920241239, 0.20590297024485948, 0.2059738077697301, 0.20571255824998336, 0.20565643525823696, 0.20562912542440204, 0.20564040648630774, 0.2056348686891916, 0.20561399049488596, 0.20820414827566885, 0.20563883980974546, 0.20567686351699455, 0.20578431558954313, 0.205641923891825, 0.2143734479078788, 0.21012254545435788, 0.20928855966641602, 0.2076837418966806, 0.20729333443557665, 0.20721023589582882, 0.20639986409845357, 0.2057208328270221, 6.423947405941845, 5.540238930278142, 3.763919178166102, 2.8795669127504104, 2.879450223662697, 2.8725180292232317, 1.9946955101556048, 1.9946797853649638, 1.9918910790181754, 1.9918408723408585, 1.9917031324258403, 1.9725706917289323, 1.0913594708704042, 1.9744699718860106, 1.1077414909141348, 1.0783537018936766, 5.904072540142146, 0.328933016545736, 0.23147935771148576, 0.2362366279419192, 0.2218965432004983, 0.22187158581040128, 0.22178953266505055, 0.22193453985271885, 0.22183860511928674, 0.22178166277285855, 0.22185044037518992, 0.2218902880669164, 0.22184253670378468, 0.22183178580766805, 0.23539120489476875, 0.22790754743246086, 0.2243247047944711, 0.22258355632961943, 0.22196657113443494, 0.2219541768097022, 7.709029681712431, 5.2119017132938525, 2.610841610059012, 1.8768143250401144, 1.8695530363923851, 1.850666144330394, 3.565322587758897, 1.8892361717619137, 4.185185333654854, 2.9075318035019833, 1.0582391192072718, 1.0434239867603938, 1.039696017659284, 1.039815920769149, 7.284603062090516, 0.21746541617541948, 0.2173594350547122, 0.2160816029296068, 0.2088068327098791, 0.2088321907170672, 0.20897535559748065, 0.21138259406268783, 0.21136450917421407, 0.20876584375080082, 0.20869395039919017, 0.20868992804784442, 0.20868577827972, 0.37403312227009, 0.20872809209911547, 0.21351427523374, 0.21036628572655272, 0.21255138044461763, 0.21161039579614038, 0.21273788408344851, 0.20971126375110605, 0.20941859756641287, 0.2088952586681615], \"Total\": [22.0, 12.0, 8.0, 7.0, 7.0, 6.0, 5.0, 8.0, 4.0, 5.0, 7.0, 5.0, 3.0, 3.0, 3.0, 6.0, 3.0, 5.0, 2.0, 2.0, 2.0, 2.0, 2.0, 2.0, 2.0, 2.0, 2.0, 3.0, 2.0, 2.0, 22.296592029475047, 8.570849258419916, 3.4238547054192923, 2.5664525145947805, 4.234293763096989, 3.4004277201680653, 6.779613102223916, 43.288287013642126, 2.53031417513596, 2.542579515260556, 7.601366397155766, 5.853520779297133, 2.519929197352485, 2.622810807101868, 2.4949484535714497, 2.49496609579957, 2.4949563487747435, 2.4955369562427157, 2.519195642081873, 2.519080008485706, 2.5703690941697177, 2.623436102964206, 2.623366315258144, 2.623533502303123, 2.623534368734667, 2.623369107077193, 3.3416285211266183, 3.3599334262622547, 3.3935409137028296, 3.5097323096771733, 3.510098759912347, 5.846383967746816, 7.428688269488056, 8.36066598994754, 12.362033664550506, 7.056443993233944, 5.856949147573337, 6.170003621039117, 12.362033664550506, 7.428688269488056, 5.846383967746816, 2.4949484535714497, 2.4949563487747435, 2.49496609579957, 2.4955369562427157, 5.853520779297133, 2.53031417513596, 4.234293763096989, 3.3416285211266183, 3.3935409137028296, 43.288287013642126, 2.519080008485706, 2.519195642081873, 2.519929197352485, 2.542579515260556, 2.5664525145947805, 2.5703690941697177, 2.622810807101868, 2.623436102964206, 2.623366315258144, 2.623533502303123, 2.623534368734667, 2.623369107077193, 3.4004277201680653, 3.3599334262622547, 3.4238547054192923, 3.5097323096771733, 3.510098759912347, 6.779613102223916, 7.601366397155766, 8.570849258419916, 5.856949147573337, 7.056443993233944, 8.36066598994754, 22.296592029475047, 5.960109725311958, 7.056443993233944, 6.170003621039117, 4.396548150166906, 3.510056566453622, 3.510098759912347, 3.5097323096771733, 2.623534368734667, 2.623533502303123, 2.623369107077193, 2.623366315258144, 2.623436102964206, 2.622810807101868, 2.5703690941697177, 5.960109725311958, 3.3935409137028296, 5.846383967746816, 43.288287013642126, 3.3599334262622547, 2.4955369562427157, 2.5664525145947805, 2.4949484535714497, 2.49496609579957, 2.4949563487747435, 2.519195642081873, 2.519080008485706, 2.519929197352485, 2.53031417513596, 2.542579515260556, 3.3416285211266183, 3.4004277201680653, 6.779613102223916, 8.36066598994754, 22.296592029475047, 8.570849258419916, 4.234293763096989, 7.601366397155766, 8.36066598994754, 5.856949147573337, 3.3599334262622547, 2.519195642081873, 2.519080008485706, 2.519929197352485, 5.960109725311958, 3.3416285211266183, 7.601366397155766, 6.779613102223916, 2.5703690941697177, 2.542579515260556, 3.3935409137028296, 3.4004277201680653, 43.288287013642126, 2.49496609579957, 2.4949563487747435, 2.4949484535714497, 2.4955369562427157, 2.53031417513596, 2.5664525145947805, 2.623366315258144, 2.623369107077193, 2.622810807101868, 2.623436102964206, 2.623533502303123, 2.623534368734667, 5.853520779297133, 3.4238547054192923, 3.5097323096771733, 3.510056566453622, 4.396548150166906, 5.846383967746816, 22.296592029475047, 12.362033664550506, 7.056443993233944, 4.234293763096989], \"Category\": [\"Default\", \"Default\", \"Default\", \"Default\", \"Default\", \"Default\", \"Default\", \"Default\", \"Default\", \"Default\", \"Default\", \"Default\", \"Default\", \"Default\", \"Default\", \"Default\", \"Default\", \"Default\", \"Default\", \"Default\", \"Default\", \"Default\", \"Default\", \"Default\", \"Default\", \"Default\", \"Default\", \"Default\", \"Default\", \"Default\", \"Topic1\", \"Topic1\", \"Topic1\", \"Topic1\", \"Topic1\", \"Topic1\", \"Topic1\", \"Topic1\", \"Topic1\", \"Topic1\", \"Topic1\", \"Topic1\", \"Topic1\", \"Topic1\", \"Topic1\", \"Topic1\", \"Topic1\", \"Topic1\", \"Topic1\", \"Topic1\", \"Topic1\", \"Topic1\", \"Topic1\", \"Topic1\", \"Topic1\", \"Topic1\", \"Topic1\", \"Topic1\", \"Topic1\", \"Topic1\", \"Topic1\", \"Topic1\", \"Topic1\", \"Topic1\", \"Topic1\", \"Topic1\", \"Topic1\", \"Topic1\", \"Topic2\", \"Topic2\", \"Topic2\", \"Topic2\", \"Topic2\", \"Topic2\", \"Topic2\", \"Topic2\", \"Topic2\", \"Topic2\", \"Topic2\", \"Topic2\", \"Topic2\", \"Topic2\", \"Topic2\", \"Topic2\", \"Topic2\", \"Topic2\", \"Topic2\", \"Topic2\", \"Topic2\", \"Topic2\", \"Topic2\", \"Topic2\", \"Topic2\", \"Topic2\", \"Topic2\", \"Topic2\", \"Topic2\", \"Topic2\", \"Topic2\", \"Topic2\", \"Topic2\", \"Topic2\", \"Topic2\", \"Topic2\", \"Topic2\", \"Topic2\", \"Topic3\", \"Topic3\", \"Topic3\", \"Topic3\", \"Topic3\", \"Topic3\", \"Topic3\", \"Topic3\", \"Topic3\", \"Topic3\", \"Topic3\", \"Topic3\", \"Topic3\", \"Topic3\", \"Topic3\", \"Topic3\", \"Topic3\", \"Topic3\", \"Topic3\", \"Topic3\", \"Topic3\", \"Topic3\", \"Topic3\", \"Topic3\", \"Topic3\", \"Topic3\", \"Topic3\", \"Topic3\", \"Topic3\", \"Topic3\", \"Topic3\", \"Topic3\", \"Topic3\", \"Topic3\", \"Topic3\", \"Topic3\", \"Topic4\", \"Topic4\", \"Topic4\", \"Topic4\", \"Topic4\", \"Topic4\", \"Topic4\", \"Topic4\", \"Topic4\", \"Topic4\", \"Topic4\", \"Topic4\", \"Topic4\", \"Topic4\", \"Topic4\", \"Topic4\", \"Topic4\", \"Topic4\", \"Topic4\", \"Topic4\", \"Topic4\", \"Topic4\", \"Topic4\", \"Topic4\", \"Topic4\", \"Topic4\", \"Topic4\", \"Topic4\", \"Topic4\", \"Topic4\", \"Topic4\", \"Topic4\", \"Topic4\", \"Topic4\", \"Topic4\", \"Topic4\", \"Topic4\"], \"logprob\": [30.0, 29.0, 28.0, 27.0, 26.0, 25.0, 24.0, 23.0, 22.0, 21.0, 20.0, 19.0, 18.0, 17.0, 16.0, 15.0, 14.0, 13.0, 12.0, 11.0, 10.0, 9.0, 8.0, 7.0, 6.0, 5.0, 4.0, 3.0, 2.0, 1.0, -1.2439, -2.2484, -3.2938, -3.6692, -3.4018, -3.6612, -3.0887, -1.3376, -4.2518, -4.25, -3.2258, -3.712, -5.7387, -5.764, -5.8579, -5.858, -5.8582, -5.858, -5.8578, -5.8581, -5.8571, -5.8452, -5.8584, -5.8584, -5.8584, -5.8585, -5.858, -5.8584, -5.8579, -5.8427, -5.8501, -5.8263, -5.8258, -5.8491, -5.8509, -5.8525, -5.8535, -5.8543, -1.5313, -2.0786, -2.5254, -3.381, -3.3816, -3.3818, -3.382, -2.7617, -3.9625, -3.7289, -3.9763, -3.9611, -1.6519, -5.538, -5.5729, -5.5735, -5.5731, -5.5724, -5.5721, -5.5734, -5.5736, -5.5738, -5.5737, -5.5737, -5.5738, -5.5613, -5.5737, -5.5735, -5.573, -5.5737, -5.5321, -5.5521, -5.5561, -5.5638, -5.5657, -5.5661, -5.57, -5.5733, -2.109, -2.257, -2.6435, -2.9114, -2.9114, -2.9138, -3.2785, -3.2785, -3.2799, -3.2799, -3.28, -3.2897, -3.8816, -3.2887, -3.8667, -3.8936, -2.1934, -5.0809, -5.4323, -5.4119, -5.4745, -5.4747, -5.475, -5.4744, -5.4748, -5.4751, -5.4747, -5.4746, -5.4748, -5.4748, -5.4155, -5.4478, -5.4637, -5.4714, -5.4742, -5.4743, -1.8852, -2.2766, -2.9679, -3.298, -3.3019, -3.312, -2.6563, -3.2914, -2.496, -2.8603, -3.871, -3.8851, -3.8886, -3.8885, -1.9418, -5.4533, -5.4538, -5.4597, -5.4939, -5.4938, -5.4931, -5.4817, -5.4817, -5.4941, -5.4945, -5.4945, -5.4945, -4.911, -5.4943, -5.4716, -5.4865, -5.4761, -5.4806, -5.4753, -5.4896, -5.491, -5.4935], \"loglift\": [30.0, 29.0, 28.0, 27.0, 26.0, 25.0, 24.0, 23.0, 22.0, 21.0, 20.0, 19.0, 18.0, 17.0, 16.0, 15.0, 14.0, 13.0, 12.0, 11.0, 10.0, 9.0, 8.0, 7.0, 6.0, 5.0, 4.0, 3.0, 2.0, 1.0, 1.1027, 1.0543, 0.9264, 0.8394, 0.606, 0.5659, 0.4484, 0.3455, 0.2709, 0.2679, 0.197, -0.028, -1.2119, -1.2772, -1.3211, -1.3212, -1.3215, -1.3215, -1.3307, -1.331, -1.3501, -1.3586, -1.3719, -1.3719, -1.3719, -1.3719, -1.6134, -1.6193, -1.6287, -1.6472, -1.6547, -2.1411, -2.3801, -2.5216, -2.9145, -2.3554, -2.1701, -2.223, 1.4051, 1.3671, 1.1598, 1.1557, 1.1551, 1.155, 1.1546, 0.9223, 0.5602, 0.2789, 0.2683, 0.2681, 0.0313, -1.0109, -1.0458, -1.0467, -1.0552, -1.0639, -1.0651, -1.0866, -1.0871, -1.0872, -1.0872, -1.0872, -1.0873, -1.3342, -1.3346, -1.3533, -1.3775, -1.3783, -1.995, -2.1294, -2.2535, -1.8804, -2.0686, -2.2386, -3.2234, -1.9074, 1.3881, 1.3744, 1.3267, 1.284, 1.284, 1.2817, 1.208, 1.208, 1.2067, 1.2066, 1.2065, 1.1971, 0.6254, 0.3773, 0.3625, -0.2083, -0.5102, -0.8418, -0.8957, -0.9034, -0.9378, -0.9379, -0.9383, -0.9473, -0.9477, -0.9483, -0.9521, -0.9567, -1.2302, -1.2477, -1.8784, -2.1203, -3.1171, -2.1688, -1.4664, -2.0516, 1.4423, 1.4068, 1.2712, 1.2291, 1.2253, 1.2148, 1.0096, 0.9532, 0.9267, 0.6769, 0.636, 0.6328, 0.3405, 0.3386, -0.2587, -0.9165, -0.917, -0.9229, -0.9574, -0.9711, -0.9846, -0.9951, -0.9952, -1.0073, -1.0079, -1.008, -1.008, -1.227, -1.274, -1.2761, -1.2911, -1.5059, -1.7954, -3.1287, -2.5532, -1.9939, -1.4857]}, \"token.table\": {\"Topic\": [4, 3, 1, 3, 4, 4, 2, 3, 1, 2, 3, 1, 3, 3, 2, 1, 2, 3, 4, 3, 1, 3, 3, 3, 1, 2, 2, 4, 1, 4, 3, 2, 1, 2, 3, 4, 1, 4, 4, 2, 3, 3, 4, 1, 2, 2, 2, 4, 1, 4, 2, 3, 4, 4, 3, 1, 4], \"Freq\": [0.8928748339330458, 0.8547660434752476, 0.9866978761111579, 0.38904918451916753, 0.38904918451916753, 0.9568615717478504, 0.80143072816329, 0.8546768068927254, 0.7792857996111343, 0.684183594862585, 0.17104589871564624, 0.9333964183468612, 0.8546870807358651, 0.9098046611517603, 0.9422928713742353, 0.4620187440934561, 0.23100937204672806, 0.13860562322803682, 0.16170656043270965, 0.7623303981966136, 0.8762054053437451, 0.9724467550619547, 0.8502866324388159, 0.7623784219325068, 0.39520784012770566, 0.39520784012770566, 0.8016172310919134, 0.7939041996544549, 0.3946658854811317, 0.5262211806415089, 0.7625407042645, 0.9707140690298655, 0.7085006775263937, 0.23616689250879788, 0.3355642919636547, 0.6711285839273095, 0.5881613033966064, 0.2940806516983032, 0.7936730929191429, 0.8016140994329037, 0.7623589527262399, 0.7623306499590184, 0.7939406423229326, 0.3416747074809482, 0.5125120612214223, 0.801619767790014, 0.299255286360452, 0.598510572720904, 0.44250312735632513, 0.44250312735632513, 0.29467745503290826, 0.29467745503290826, 0.29467745503290826, 0.8536867700262705, 0.7623792332651022, 0.39330136737042143, 0.39330136737042143], \"Term\": [\"\\uac00\\ub2a5\", \"\\uac10\\uc0ac\", \"\\uacf5\\ubd80\", \"\\uad50\\uc7ac\", \"\\uad50\\uc7ac\", \"\\uad6c\\ub9e4\", \"\\uad6c\\uc131\", \"\\uad6c\\ud604\", \"\\uae30\\ub300\", \"\\uae30\\ubcf8\", \"\\uae30\\ubcf8\", \"\\uae30\\ucd08\", \"\\ub2e4\\uc74c\\ub0a0\", \"\\ub2f9\\uc77c\", \"\\ub3c4\\uc6c0\", \"\\ub7ec\\ub2dd\", \"\\ub7ec\\ub2dd\", \"\\ub7ec\\ub2dd\", \"\\ub7ec\\ub2dd\", \"\\ub9cc\\uc871\", \"\\uba38\\uc2e0\", \"\\ubc11\\ubc14\\ub2e5\", \"\\ubc30\\uc1a1\", \"\\uc11c\\uc810\", \"\\uc2dc\\ub9ac\\uc988\", \"\\uc2dc\\ub9ac\\uc988\", \"\\uc2e4\\uc2b5\", \"\\uc555\\ucd95\", \"\\uc720\\uc6a9\", \"\\uc720\\uc6a9\", \"\\uc774\\ub860\", \"\\uc774\\ud574\", \"\\uc785\\ubb38\", \"\\uc785\\ubb38\", \"\\uc785\\ubb38\\uc11c\", \"\\uc785\\ubb38\\uc11c\", \"\\uc785\\ubb38\\uc790\", \"\\uc785\\ubb38\\uc790\", \"\\uc785\\uc7a5\", \"\\uc815\\ub3c5\", \"\\uc81c\\ubaa9\", \"\\uc8fc\\ubb38\", \"\\uc9c0\\uc2dd\", \"\\ucc98\\uc74c\", \"\\ucc98\\uc74c\", \"\\ucd08\\uc2ec\\uc790\", \"\\ucd5c\\uace0\", \"\\ucd5c\\uace0\", \"\\ucd94\\ucc9c\", \"\\ucd94\\ucc9c\", \"\\ucf54\\ub529\", \"\\ucf54\\ub529\", \"\\ucf54\\ub529\", \"\\ud30c\\uc774\\uc36c\", \"\\ud3ec\\uc7a5\", \"\\ud544\\uc694\", \"\\ud544\\uc694\"]}, \"R\": 30, \"lambda.step\": 0.01, \"plot.opts\": {\"xlab\": \"PC1\", \"ylab\": \"PC2\"}, \"topic.order\": [3, 1, 4, 2]};\n",
       "\n",
       "function LDAvis_load_lib(url, callback){\n",
       "  var s = document.createElement('script');\n",
       "  s.src = url;\n",
       "  s.async = true;\n",
       "  s.onreadystatechange = s.onload = callback;\n",
       "  s.onerror = function(){console.warn(\"failed to load library \" + url);};\n",
       "  document.getElementsByTagName(\"head\")[0].appendChild(s);\n",
       "}\n",
       "\n",
       "if(typeof(LDAvis) !== \"undefined\"){\n",
       "   // already loaded: just create the visualization\n",
       "   !function(LDAvis){\n",
       "       new LDAvis(\"#\" + \"ldavis_el3987225786258750723218251786\", ldavis_el3987225786258750723218251786_data);\n",
       "   }(LDAvis);\n",
       "}else if(typeof define === \"function\" && define.amd){\n",
       "   // require.js is available: use it to load d3/LDAvis\n",
       "   require.config({paths: {d3: \"https://d3js.org/d3.v5\"}});\n",
       "   require([\"d3\"], function(d3){\n",
       "      window.d3 = d3;\n",
       "      LDAvis_load_lib(\"https://cdn.jsdelivr.net/gh/bmabey/pyLDAvis@3.4.0/pyLDAvis/js/ldavis.v3.0.0.js\", function(){\n",
       "        new LDAvis(\"#\" + \"ldavis_el3987225786258750723218251786\", ldavis_el3987225786258750723218251786_data);\n",
       "      });\n",
       "    });\n",
       "}else{\n",
       "    // require.js not available: dynamically load d3 & LDAvis\n",
       "    LDAvis_load_lib(\"https://d3js.org/d3.v5.js\", function(){\n",
       "         LDAvis_load_lib(\"https://cdn.jsdelivr.net/gh/bmabey/pyLDAvis@3.4.0/pyLDAvis/js/ldavis.v3.0.0.js\", function(){\n",
       "                 new LDAvis(\"#\" + \"ldavis_el3987225786258750723218251786\", ldavis_el3987225786258750723218251786_data);\n",
       "            })\n",
       "         });\n",
       "}\n",
       "</script>"
      ],
      "text/plain": [
       "<IPython.core.display.HTML object>"
      ]
     },
     "execution_count": 9,
     "metadata": {},
     "output_type": "execute_result"
    }
   ],
   "source": [
    "pyLDAvis.display(vis_data)"
   ]
  },
  {
   "cell_type": "code",
   "execution_count": 10,
   "metadata": {},
   "outputs": [
    {
     "name": "stdout",
     "output_type": "stream",
     "text": [
      "--- 🧩 3단계: K-Means 군집화 시작 ---\n",
      "\n",
      "TF-IDF 행렬 생성 완료.\n"
     ]
    },
    {
     "name": "stderr",
     "output_type": "stream",
     "text": [
      "c:\\python_workplace\\pandas_env\\lib\\site-packages\\joblib\\externals\\loky\\backend\\context.py:136: UserWarning: Could not find the number of physical cores for the following reason:\n",
      "[WinError 2] 지정된 파일을 찾을 수 없습니다\n",
      "Returning the number of logical cores instead. You can silence this warning by setting LOKY_MAX_CPU_COUNT to the number of cores you want to use.\n",
      "  warnings.warn(\n",
      "  File \"c:\\python_workplace\\pandas_env\\lib\\site-packages\\joblib\\externals\\loky\\backend\\context.py\", line 257, in _count_physical_cores\n",
      "    cpu_info = subprocess.run(\n",
      "  File \"C:\\Users\\jhy75\\AppData\\Local\\Programs\\Python\\Python310\\lib\\subprocess.py\", line 503, in run\n",
      "    with Popen(*popenargs, **kwargs) as process:\n",
      "  File \"C:\\Users\\jhy75\\AppData\\Local\\Programs\\Python\\Python310\\lib\\subprocess.py\", line 971, in __init__\n",
      "    self._execute_child(args, executable, preexec_fn, close_fds,\n",
      "  File \"C:\\Users\\jhy75\\AppData\\Local\\Programs\\Python\\Python310\\lib\\subprocess.py\", line 1440, in _execute_child\n",
      "    hp, ht, pid, tid = _winapi.CreateProcess(executable, args,\n"
     ]
    },
    {
     "name": "stdout",
     "output_type": "stream",
     "text": [
      "K-Means 모델 학습 완료. 'cluster_id' 컬럼 추가.\n",
      "\n",
      "--- 각 군집별 주요 리뷰 샘플 ---\n",
      "\n",
      "[ 군집 0 ]\n",
      "- 딥러닝에 대한 기본을 배울 수 있는 좋은 책이라고 생각합니다\n",
      "- 잘볼게요 감사합니다\n",
      "- 시리즈물로 되어있어서 좋아요\n",
      "\n",
      "[ 군집 1 ]\n",
      "- 공부를 위해 구매했습니다. 감사합니다.\n",
      "- 딥러닝에 대해서 공부할 수 있는 책이다.\n",
      "- 딥러닝 공부하기좋아요\n",
      "\n",
      "[ 군집 2 ]\n",
      "- 딥러닝 아무것도 모르는데 이거 읽고 깨우쳤음.\n",
      "- 딥러닝시리즈중 단연 최고\n",
      "- 딥러닝에 대해 얕게 알 수 있어요.\n",
      "\n",
      "[ 군집 3 ]\n",
      "- 자세하게 알려줘서 이해하기 쉬워요\n",
      "- 책의 번역이 매우 좋아서 이해가 쉽습니다.\n",
      "- 이해하기 쉬워서 좋아요\n",
      "\n",
      "\n",
      "--- 📊 4단계: 군집 결과 시각화 시작 ---\n",
      "\n",
      "PCA 차원 축소 완료.\n",
      "Plotly 시각화 생성 완료. 그래프를 확인하세요.\n"
     ]
    },
    {
     "data": {
      "application/vnd.plotly.v1+json": {
       "config": {
        "plotlyServerURL": "https://plot.ly"
       },
       "data": [
        {
         "customdata": [
          [
           "딥러닝 아무것도 모르는데 이거 읽고 깨우쳤음."
          ],
          [
           "딥러닝에 대한 기본을 배울 수 있는 좋은 책이라고 생각합니다"
          ],
          [
           "자세하게 알려줘서 이해하기 쉬워요"
          ],
          [
           "잘볼게요 감사합니다"
          ],
          [
           "시리즈물로 되어있어서 좋아요"
          ],
          [
           "딥러닝 혼공에 도움됩니다"
          ],
          [
           "공부를 위해 구매했습니다. 감사합니다."
          ],
          [
           "딥러닝시리즈중 단연 최고"
          ],
          [
           "잘 읽힙니다, 꼼꼼히 읽어보겠습니다."
          ],
          [
           "딥러닝을 하나하나 파이썬으로 만들어가면서 개념을 배우는 일은 정말 즐겁습니다."
          ],
          [
           "좋은 책이네요 마음에 듭니다"
          ],
          [
           "책의 번역이 매우 좋아서 이해가 쉽습니다."
          ],
          [
           "딥러닝을 텐서플로나 파이토치같이 프레임워크를 가지고 공부만 하다가 이렇게 직접 각각의 기능을 구현하는 것이 책 제목처럼 밑바닥부터 시작해서 하나 하나 기본을 다질 수가 있어서 정말 추천합니다!!"
          ],
          [
           "도움됩니다. 괜찮음"
          ],
          [
           "이해하기 쉬워서 좋아요"
          ],
          [
           "딥러닝에 대해 얕게 알 수 있어요."
          ],
          [
           "많은 도움이 됩니다"
          ],
          [
           "책이 매우 좋습니다."
          ],
          [
           "딥러닝에 대해서 공부할 수 있는 책이다."
          ],
          [
           "잘 읽히고 이해가 잘갑니다."
          ],
          [
           "잘 활용하도록 할께요\r\n쓱 넘겨봤는데 괜찮은 책같습니다"
          ],
          [
           "딥러닝 정석 유명교재"
          ],
          [
           "조금 어렵지만 좋아요"
          ],
          [
           "원래 pdf파일로 원서가 돌아다니지만 그래도 공부하려면 책을 구매해야될거같아서 ^^ 마침 번역본이 있어 구매했어요"
          ],
          [
           "딥러닝 공부하기좋아요"
          ],
          [
           "공부에 도움되는 책입니다 입문용으로 좋아요"
          ],
          [
           "쉬운 딥러닝 입문서 빠르게 볼 수 있어요!"
          ],
          [
           "공부에 도움이되는 책입니다. 딥러닝 입문자에게 유용한 책입니다"
          ],
          [
           "도움되었습니다~ㅎㅎ"
          ],
          [
           "잘 받아서 잘 보았습니다.약간 아쉬운 점은 있네요..."
          ],
          [
           "딥러닝 공부하고싶어서 샀는데 좋아요"
          ],
          [
           "생각보다 얇아서 빠르게 볼수 있어요"
          ],
          [
           "공부하기 좋아요"
          ],
          [
           "공부하기 좋아요"
          ],
          [
           "좋아요"
          ],
          [
           "좋아요"
          ],
          [
           "배송 빠르게 잘 받았어요. 워낙 책이 좋다고 해서 샀네요. 벌써 기대가 됩니다."
          ],
          [
           "딥러닝공부하는데 유용하게 읽고있습니다!"
          ],
          [
           "읽으면서 공부중입니다."
          ],
          [
           "한번쯤은 읽기를!"
          ],
          [
           "딥러닝 시작을 함께하면 좋은 책 같아요!!"
          ],
          [
           "꼼꼼하게 쓰여있어서 좋습니다"
          ],
          [
           "딥러닝 입문서답게 좋은것 같습니다. 딥러닝의 지식을 쌓을수 있는 계기였습니다."
          ],
          [
           "딥러닝의 기초 이론부터 공부하는 책이에요. 제가 바라던 책입니다 ㅠㅠㅠ"
          ],
          [
           "재밌습니다."
          ],
          [
           "파이썬기반으로 잘 작성 된 책"
          ],
          [
           "믿고 읽는 책입니다."
          ],
          [
           "딥러닝에 대한 기본적인 이해를 돕는 책"
          ],
          [
           "딥러닝 이론과 구현을 배울 수 있습니다."
          ],
          [
           "잘읽히네요. 책 제목 그대로 밑바닥부터 시작하기 좋은 책입니다"
          ],
          [
           "딥러닝을 공부하기 시착한 사람이라면 꼭 조라고 추천하고 싶네요.\r\n필요한 내용들을 정말 바닥부터 설멸해주고 있다고나 항까요..."
          ],
          [
           "공부하기 좋은 서적입니다"
          ],
          [
           "진짜 지렸다!!!!"
          ],
          [
           "전공 때문에 샀는데 괜찮아요"
          ],
          [
           "몇몇 부분은 물론 아쉽지만, 그래도 초심자용으로 정말 좋은 것 같습니다."
          ],
          [
           "쉽고 이해하기 편하게되어있습니다. 코드도 github에 잘 정리되어있고요"
          ],
          [
           "사실 코딩을 배우려고 산 책은 아니고 딥러닝에 대해서 알고 싶어서 산 책입니다. 그런데 2가지가 다 가능해질것도 같습니다. 몇번 더 읽어봐야겠어요"
          ],
          [
           "정독하며 읽기 좋은 책입니다"
          ],
          [
           "책이 설명이 잘 되어있어서 좋아요"
          ],
          [
           "딥러닝 기초는 일단 이책부터 시작하는 것이 좋습니다. 그러면 나중에 머신러닝 딥러니 강화학습관련 책  보기가 편안합니다."
          ],
          [
           "좋아요!"
          ],
          [
           "딥러닝 처음 공부하는사람에게 추천합니다. 설명이기초적이에요"
          ],
          [
           "포장만족합니다"
          ],
          [
           "좋아요."
          ],
          [
           "밑바닥부터 시작하는 딥러닝"
          ],
          [
           "책이 보기 쉽게 되어 있어요"
          ],
          [
           "쉽게읽기좋아요"
          ],
          [
           "딥러닝을 처음공부하는 입장에서 아주 친절하게 설명되어있습니다. 다만 프로그래밍이 처음이라던가 딥러닝을 조금더 깊게 공부하고 싶은 분들은ㄷ ㅏ른책을 추천드립니다."
          ],
          [
           "딥러닝을 처음 접하는 독자들에게 매우 유용한 책입니다. 신경망에 대해서도 자세히 쉽게 설명되어 있어서 딥러닝에 대한 이해를 원한다면 추천드리고 싶습니다."
          ],
          [
           "생각했던것보다 책이 얇고 읽기편하네요"
          ],
          [
           "열심히 공부할게여"
          ],
          [
           "확실히 코딩을 처음 입문하는 사람한테는 다소 구체적으로 알려주지는 않지만 딥러닝 관해서는 도움이 많이 됩니다."
          ],
          [
           "코딩에 관시이 많아서  서점에서 직접읽고 주문했습니다.\r\n또 새로운거고 유튜브에서도 볼수없는 내용이 있다고하네요"
          ],
          [
           "입문자 입장에서 단연 최고인 책."
          ],
          [
           "좋아요. 좋아. 좋아요."
          ],
          [
           "딥러닝 초심자가 읽기 좋다고 해서 구매했어욥"
          ],
          [
           "아직 보기 전이여서 열공해 봐야지"
          ],
          [
           "좋은 책 입니다. 다른 사람들로 부터 추천받고 구매했는데 그 이유를 알겠네요."
          ],
          [
           "딥러닝의 기초원리를 이해하는데는 이만한 책이 없는것 같습니다"
          ],
          [
           "좋아요"
          ],
          [
           "좋아요"
          ],
          [
           "무겁지 않고 적당한 책이다"
          ],
          [
           "뉴스로만 보던 딥러닝을 배울수 있어요"
          ],
          [
           "유용합니다"
          ],
          [
           "머신러닝을 공부하기에 좋습니다"
          ],
          [
           "기초개념을 확실히 잡을 수 있습니다"
          ],
          [
           "딥러닝에 대해 다양하게 이해하기 좋습니다"
          ],
          [
           "읽자마자 챕터2까지 다 읽었네요(쉬운 부분이라).\r\n그만큼 쉬운 내용도 지루하지 않게 쓴 가독성 좋은 책입니다.\r\n설명이 상당히 쉬워서 처음 입문자용으로 적합.\r\n다 공부하면 다른 시리즈도 봐야겠어용"
          ],
          [
           "또아용 사실아직안읽어봤음"
          ],
          [
           "밑바닥부터 시작하는 딥러닝"
          ],
          [
           "직접 구현하면서 배우는 본격 딥러닝 입문서."
          ],
          [
           "빅데이터 개념 잡기부터 간단한 실습까지 한번에 익히도록 잘 구성되어 있어요."
          ],
          [
           "말그대로 밑바닥부터 딥러닝을 배우기 위해 주문했습니다~"
          ],
          [
           "기초부터 중급까지 아주 좋아요"
          ],
          [
           "잘 설명이 되어 있습니다."
          ],
          [
           "- 딥 러닝의 기초공부에 좋은듯 해요."
          ],
          [
           "책 내용도 좋고, 빠른 배송도 좋은데 책 상태가 안 좋습니다 ㅠㅠ 윗부분이 다 뜯어져서 왔는데 속상하네요 .."
          ],
          [
           "배송이 빨라요. 구성도 좋아요."
          ],
          [
           "좋아요"
          ],
          [
           "좋은 도서입니다. 감사합니다."
          ],
          [
           "딥러닝 공부를 위해 유용한 책입니다."
          ],
          [
           "안쓰려다가 알아야 할것같아서 올립니다 책 내용은 너무너무 만족합니다 그러나 교보서비스부분중에 배송이 진짜 쓰레기네요 당일배송이라 신청&#54692;는데 다음날도 아니고 어떻게 5일뒤에 책이오는지 말이안나오네요 급해서 책을 직접가서 샀습니다"
          ],
          [
           "대학교재인데 괜찮아요"
          ],
          [
           "딥러닝을 위한 기초잡기??"
          ],
          [
           "좋아요 열심히 공부할게요~"
          ],
          [
           "읽기전인데 기대가 됩니다"
          ],
          [
           "감ㅅ하합니다"
          ],
          [
           "파이썬을 공부 한 다음 이 책을 보면 정말 유용해요."
          ],
          [
           "내용이 압축되고 개념잡기 좋습니다"
          ],
          [
           "딥러닝 쪽은 처음인데 읽기 편하게 되 있어요"
          ],
          [
           "책이 쉽고 자세해요"
          ],
          [
           "개념 잡기 괜찮아요"
          ],
          [
           "압축된 내용이지만 두고두고 볼만한 책"
          ],
          [
           "좋아요"
          ],
          [
           "조아요"
          ],
          [
           "굿"
          ],
          [
           "딥러닝을 시작하시는 분들이라면 충분히 소장할만한 가치가 있는 책인거 같습니다. 다만 딥러닝개념을 처음 접하시는 분들이라면 완벽히 이해하는데는 버거울수도 있겠네요."
          ],
          [
           "딥러닝이라는 무거운 주제를 기본부터 차근차근 다뤄서 이해하는데 도움이 많이 된다."
          ],
          [
           "술술 잘 읽히고 이해도 잘됩니다."
          ],
          [
           "머신러닝을 한방에 일망타진한 느낌!!"
          ],
          [
           "왜 많이 팔리는지 알 수 있는 책설명 및 그림을 통해 이해하기 쉽도록 도와줍니다."
          ],
          [
           "유용합니다. 좋아요."
          ],
          [
           "쉽게 잘 설명해줍니다"
          ],
          [
           "쉽게 잘읽힙니다!!"
          ],
          [
           "선물하려고 추가 구매했어요~"
          ],
          [
           "좋아요"
          ],
          [
           "유용합니다."
          ],
          [
           "기본지식 수준이 낮아서 어렵긴하지만 좋네요"
          ],
          [
           "딥러닝 입문서로는 최고인거 같습니다."
          ],
          [
           "정말 잘 읽고있습니다 ㅎ"
          ],
          [
           "기초부터 차근차근 접근하여 이해가 쉽게감!"
          ],
          [
           "입문용으로 괜찮습니다"
          ],
          [
           "좋습니다~!"
          ],
          [
           "딥러닝 입문하기 좋은책"
          ],
          [
           "기본을 하나하나 설명해주는 아주 좋은 Deep Learing 지침서 같습니다. 두루뭉술한 내용이 아닌 깊이가 느껴지는 좋은 책입니다. 강추합니다."
          ],
          [
           "간단하면서도 핵심이 정확해서 참 좋네요."
          ],
          [
           "좋아요 ㅎㅎㅎㅎㅎㅎ"
          ],
          [
           "한번은 속독으로, 다른 한번은 정독하며 실습과 함께하고 있습니다.다른 책들보다 쉽게 설명하면서, 따라할 수 있어서 좋습니다.파이썬을 조금 접해보셨고, Sigmoid라거나, Deep learning에 관심 있다면, 추천 드립니다."
          ],
          [
           "배송시키고 다음날 오후에 받았습니다. 수학공식과 그래프가 많아서 얼핏 복잡해보였는데, 어려운 개념을 최대한 알기 쉽게 써놓아서 잘 읽힙니다!딥러닝이 무엇인지 개념을 잡기에 좋은 책인 것 같습니다^^"
          ],
          [
           "밑바닥부터 딥러닝을 배울 수 있는 입문서입니다."
          ],
          [
           "책은 아직 오지 않았고 당일이나 내일 수령하기를 바라는 분들은 다른 당일배송 서점을 이용하세요. 당일 가능하다고 해서 결재했는데 다음날도 여전히 출고 준비중.. 이후 1:1 상담으로 받은 내용은 포장완료되어 2일내 수령가능하다라는 겁니다. 느긋한 분들만 여기로 구매하시길.."
          ],
          [
           "파이썬 입문서인줄 알고 잘못구매했습니다... \r\n파이썬을 통해 알아보는 인공지능 개발론 입니다."
          ],
          [
           "필요해서 예약 구매 했습니다."
          ]
         ],
         "hovertemplate": "revwCntt=%{customdata[0]}<br>cluster_id=%{marker.color}<extra></extra>",
         "legendgroup": "",
         "marker": {
          "color": {
           "bdata": "AgAAAAAAAAADAAAAAAAAAAAAAAAAAAAAAQAAAAIAAAAAAAAAAAAAAAAAAAADAAAAAAAAAAAAAAADAAAAAgAAAAAAAAAAAAAAAQAAAAMAAAAAAAAAAgAAAAAAAAAAAAAAAQAAAAEAAAAAAAAAAQAAAAAAAAAAAAAAAQAAAAAAAAABAAAAAQAAAAAAAAAAAAAAAAAAAAEAAAABAAAAAAAAAAIAAAAAAAAAAgAAAAEAAAAAAAAAAAAAAAAAAAADAAAAAgAAAAAAAAABAAAAAQAAAAAAAAAAAAAAAAAAAAMAAAACAAAAAAAAAAAAAAACAAAAAAAAAAEAAAAAAAAAAAAAAAAAAAAAAAAAAAAAAAEAAAACAAAAAAAAAAEAAAAAAAAAAAAAAAAAAAAAAAAAAAAAAAAAAAAAAAAAAwAAAAAAAAAAAAAAAAAAAAIAAAAAAAAAAQAAAAAAAAADAAAAAAAAAAAAAAAAAAAAAAAAAAAAAAAAAAAAAAAAAAAAAAABAAAAAAAAAAAAAAAAAAAAAAAAAAEAAAAAAAAAAAAAAAAAAAABAAAAAAAAAAAAAAABAAAAAAAAAAIAAAAAAAAAAAAAAAAAAAAAAAAAAAAAAAAAAAACAAAAAwAAAAMAAAACAAAAAwAAAAAAAAAAAAAAAAAAAAAAAAAAAAAAAAAAAAAAAAAAAAAAAAAAAAMAAAAAAAAAAAAAAAIAAAAAAAAAAAAAAAAAAAAAAAAAAAAAAAAAAAAAAAAAAAAAAAAAAAA=",
           "dtype": "i4"
          },
          "coloraxis": "coloraxis",
          "opacity": 0.7,
          "size": 8,
          "symbol": "circle"
         },
         "mode": "markers",
         "name": "",
         "orientation": "v",
         "showlegend": false,
         "type": "scatter",
         "x": {
          "bdata": "aCkdYPgc6T/yuhkeV7HTP2SkDtKHX8+/qGUtTLyBw7+qZS1MvIHDv/CWPREsP9Q/DIMF6sTQxr9pKR1g+BzpP6plLUy8gcO/SrY+qhrGuj+qZS1MvIHDv1SkDtKHX8+/xvPq1lxzyT+ok1kctpnCv1OkDtKHX8+/bSkdYPgc6T+pk1kctpnCv6plLUy8gcO/helwpboq2T9UpA7Sh1/Pv6plLUy8gcO/bSkdYPgc6T+qZS1MvIHDv8pM2Up3fcq/helwpboq2T8Nqw0arMK6v0jFAi4fmNE/3sdOSZ5gyT+ok1kctpnCv6plLUy8gcO/helwpboq2T+qZS1MvIHDv9Ii1m7ls7S/0iLWbuWztL+qZS1MvIHDv6plLUy8gcO//FgeGtoW0b//fs8g8knSP9Ii1m7ls7S/qmUtTLyBw7++qAK/e4jYP6plLUy8gcO/L5MvMNuC3z9LQRTq1JjPP6plLUy8gcO/TVAQy38Eyb+qZS1MvIHDv1Hlg8gHe8U/bSkdYPgc6T/TnwGkq42fvybji+LnCsY/0iLWbuWztL+qZS1MvIHDv6plLUy8gcO/qmUtTLyBw79UpA7Sh1/Pv20pHWD4HOk/qmUtTLyBw7+ed6URC0POvyd4LA62jNw/qmUtTLyBw7+WHstYD//FP6plLUy8gcO/qmUtTLyBw789NFvx8/HSP6plLUy8gcO/qmUtTLyBw7+AyRBSfG7TP5Osq2SzXc8/qmUtTLyBw7/SItZu5bO0vxPGzVRdjs0/4J0/4uRW0b+qZS1MvIHDv6plLUy8gcO/tAVVYn5Wzj+qZS1MvIHDv0TqPocsgsm/XE3we411xD+qZS1MvIHDv6plLUy8gcO/qmUtTLyBw79tKR1g+BzpP3JcK69cWcO/helwpboq2T9dfjCLhKTGv1BDr12mM9I/gVODOZcAyb+qZS1MvIHDvz00W/Hz8dI/SMUCLh+Y0T+CRv+JBw/Mv8bCVHLMv9Y/PXOJoyoDvr+ed6URC0POv0tBFOrUmM8/c4MQfwZJ1L/8WB4a2hbRv6plLUy8gcO/qmUtTLyBw7//fs8g8knSP4PpqYARk9O/qmUtTLyBw7+l9xzbAkfQP9Ii1m7ls7S/qmUtTLyBw7+qZS1MvIHDvwQMEBobEcO/cwn9PYAR0r9WgnL7KLfVP6plLUy8gcO/gkb/iQcPzL/gnT/i5FbRv6plLUy8gcO/qmUtTLyBw7+qZS1MvIHDvzDnWu2/JdQ/qHpoPvMAvj9UpA7Sh1/Pv20pHWD4HOk/DKb/eKq50b9yXCuvXFnDv553pRELQ86/qmUtTLyBw7/IJiuKHUfOv6plLUy8gcO/clwrr1xZw7+FhsRvxaDAv0fFAi4fmNE/q2UtTLyBw7/SyTfwuwfIv6tlLUy8gcO/q2UtTLyBw79tKR1g+BzpP4pgLmUTFtC/q2UtTLyBw7+rZS1MvIHDv15VoAUVbcu/xdaMSd7r0L9iVxCg2K7PP+x8gg44etW/UaG5nA9tyL/IJiuKHUfOvw==",
          "dtype": "f8"
         },
         "xaxis": "x",
         "y": {
          "bdata": "WzDxGzWJxb9E3u5GDK7Ev4MIE2I7ad+/cUKB5Hmzor9qQoHkebOivyy0lEuhfLS/lkdF3fca4D9bMPEbNYnFv19CgeR5s6K/D/bam5K4vL9lQoHkebOiv3wIE2I7ad+/FNbLxPhSwT84Xqvs3SGIv3YIE2I7ad+/WjDxGzWJxb+EXqvs3SGIv21CgeR5s6K/ignC4hSd4T95CBNiO2nfv21CgeR5s6K/WzDxGzWJxb9tQoHkebOivyd7311NI9Q/ignC4hSd4T+ifJfuHWHdP21D2QFYaMK/rQ8xHQ/J1j8lXqvs3SGIv21CgeR5s6K/ignC4hSd4T9tQoHkebOivyR1GXVQqeg/JHUZdVCp6D9tQoHkebOiv21CgeR5s6K/PPdTkphnr78u4NFhe0XgPyR1GXVQqeg/bUKB5Hmzor8r6mJBS/PCv21CgeR5s6K/LjJ0knR1xb8PDZnfp87OP21CgeR5s6K/eN+tWu2+lL9tQoHkebOiv1pF9+qww9m/WzDxGzWJxb9UoMB13JW6v3/KUiit2tk/JHUZdVCp6D9tQoHkebOiv21CgeR5s6K/bUKB5Hmzor95CBNiO2nfv1sw8Rs1icW/bUKB5Hmzor9H3mpb6aGmv7ox2bZl+8K/bUKB5Hmzor+SQb3vy4bVP21CgeR5s6K/bUKB5Hmzor/MCUrFir/Cv21CgeR5s6K/bUKB5Hmzor+Z8YNCiezdP4kE0wJqDci/bUKB5Hmzor8kdRl1UKnoP4iDOdGDi7K/BNLSGEenlL9tQoHkebOiv21CgeR5s6K/khzXcPyXoL9tQoHkebOiv9W3LO3quq0/2Bynzo0V1L9tQoHkebOiv21CgeR5s6K/bUKB5Hmzor9bMPEbNYnFv1qWcH2pibY/ignC4hSd4T/LsJugty66vyrzairARN+/pRBi1qjY0T9tQoHkebOiv8wJSsWKv8K/bUPZAVhowr917CfrFZ+5vxQvzWGtMMG/CZ8rleOgsL9H3mpb6aGmvw8Nmd+nzs4/685gHhBzpr8891OSmGevv21CgeR5s6K/bUKB5Hmzor8u4NFhe0XgP/otcpbeyaq/bUKB5Hmzor85VjZLXZu6vyR1GXVQqeg/bUKB5Hmzor9tQoHkebOiv2NX+rXA1tk/PMwGB3dRsr/zFuB1NIe6v21CgeR5s6K/dewn6xWfub8E0tIYR6eUv21CgeR5s6K/bUKB5Hmzor9tQoHkebOiv9DXDkoM+9S/4NsccVLj1L95CBNiO2nfv1sw8Rs1icW/7MVSlyhO1r9alnB9qYm2P0fealvpoaa/bUKB5Hmzor8OSrjr+v+lP21CgeR5s6K/WpZwfamJtj9aG1c3aqq7v2xD2QFYaMK/a0KB5Hmzor+FezDL5QTXv2tCgeR5s6K/a0KB5Hmzor9bMPEbNYnFvwBPi2iPY7O/a0KB5Hmzor9rQoHkebOiv0ZPNk0Ps1E/U59gSo24ur9TpKduFQbDv9/WXB9PZWY/HumQlUdjh78QSrjr+v+lPw==",
          "dtype": "f8"
         },
         "yaxis": "y"
        }
       ],
       "layout": {
        "coloraxis": {
         "colorbar": {
          "title": {
           "text": "cluster_id"
          }
         },
         "colorscale": [
          [
           0,
           "#0d0887"
          ],
          [
           0.1111111111111111,
           "#46039f"
          ],
          [
           0.2222222222222222,
           "#7201a8"
          ],
          [
           0.3333333333333333,
           "#9c179e"
          ],
          [
           0.4444444444444444,
           "#bd3786"
          ],
          [
           0.5555555555555556,
           "#d8576b"
          ],
          [
           0.6666666666666666,
           "#ed7953"
          ],
          [
           0.7777777777777778,
           "#fb9f3a"
          ],
          [
           0.8888888888888888,
           "#fdca26"
          ],
          [
           1,
           "#f0f921"
          ]
         ]
        },
        "legend": {
         "tracegroupgap": 0
        },
        "template": {
         "data": {
          "bar": [
           {
            "error_x": {
             "color": "#2a3f5f"
            },
            "error_y": {
             "color": "#2a3f5f"
            },
            "marker": {
             "line": {
              "color": "#E5ECF6",
              "width": 0.5
             },
             "pattern": {
              "fillmode": "overlay",
              "size": 10,
              "solidity": 0.2
             }
            },
            "type": "bar"
           }
          ],
          "barpolar": [
           {
            "marker": {
             "line": {
              "color": "#E5ECF6",
              "width": 0.5
             },
             "pattern": {
              "fillmode": "overlay",
              "size": 10,
              "solidity": 0.2
             }
            },
            "type": "barpolar"
           }
          ],
          "carpet": [
           {
            "aaxis": {
             "endlinecolor": "#2a3f5f",
             "gridcolor": "white",
             "linecolor": "white",
             "minorgridcolor": "white",
             "startlinecolor": "#2a3f5f"
            },
            "baxis": {
             "endlinecolor": "#2a3f5f",
             "gridcolor": "white",
             "linecolor": "white",
             "minorgridcolor": "white",
             "startlinecolor": "#2a3f5f"
            },
            "type": "carpet"
           }
          ],
          "choropleth": [
           {
            "colorbar": {
             "outlinewidth": 0,
             "ticks": ""
            },
            "type": "choropleth"
           }
          ],
          "contour": [
           {
            "colorbar": {
             "outlinewidth": 0,
             "ticks": ""
            },
            "colorscale": [
             [
              0,
              "#0d0887"
             ],
             [
              0.1111111111111111,
              "#46039f"
             ],
             [
              0.2222222222222222,
              "#7201a8"
             ],
             [
              0.3333333333333333,
              "#9c179e"
             ],
             [
              0.4444444444444444,
              "#bd3786"
             ],
             [
              0.5555555555555556,
              "#d8576b"
             ],
             [
              0.6666666666666666,
              "#ed7953"
             ],
             [
              0.7777777777777778,
              "#fb9f3a"
             ],
             [
              0.8888888888888888,
              "#fdca26"
             ],
             [
              1,
              "#f0f921"
             ]
            ],
            "type": "contour"
           }
          ],
          "contourcarpet": [
           {
            "colorbar": {
             "outlinewidth": 0,
             "ticks": ""
            },
            "type": "contourcarpet"
           }
          ],
          "heatmap": [
           {
            "colorbar": {
             "outlinewidth": 0,
             "ticks": ""
            },
            "colorscale": [
             [
              0,
              "#0d0887"
             ],
             [
              0.1111111111111111,
              "#46039f"
             ],
             [
              0.2222222222222222,
              "#7201a8"
             ],
             [
              0.3333333333333333,
              "#9c179e"
             ],
             [
              0.4444444444444444,
              "#bd3786"
             ],
             [
              0.5555555555555556,
              "#d8576b"
             ],
             [
              0.6666666666666666,
              "#ed7953"
             ],
             [
              0.7777777777777778,
              "#fb9f3a"
             ],
             [
              0.8888888888888888,
              "#fdca26"
             ],
             [
              1,
              "#f0f921"
             ]
            ],
            "type": "heatmap"
           }
          ],
          "histogram": [
           {
            "marker": {
             "pattern": {
              "fillmode": "overlay",
              "size": 10,
              "solidity": 0.2
             }
            },
            "type": "histogram"
           }
          ],
          "histogram2d": [
           {
            "colorbar": {
             "outlinewidth": 0,
             "ticks": ""
            },
            "colorscale": [
             [
              0,
              "#0d0887"
             ],
             [
              0.1111111111111111,
              "#46039f"
             ],
             [
              0.2222222222222222,
              "#7201a8"
             ],
             [
              0.3333333333333333,
              "#9c179e"
             ],
             [
              0.4444444444444444,
              "#bd3786"
             ],
             [
              0.5555555555555556,
              "#d8576b"
             ],
             [
              0.6666666666666666,
              "#ed7953"
             ],
             [
              0.7777777777777778,
              "#fb9f3a"
             ],
             [
              0.8888888888888888,
              "#fdca26"
             ],
             [
              1,
              "#f0f921"
             ]
            ],
            "type": "histogram2d"
           }
          ],
          "histogram2dcontour": [
           {
            "colorbar": {
             "outlinewidth": 0,
             "ticks": ""
            },
            "colorscale": [
             [
              0,
              "#0d0887"
             ],
             [
              0.1111111111111111,
              "#46039f"
             ],
             [
              0.2222222222222222,
              "#7201a8"
             ],
             [
              0.3333333333333333,
              "#9c179e"
             ],
             [
              0.4444444444444444,
              "#bd3786"
             ],
             [
              0.5555555555555556,
              "#d8576b"
             ],
             [
              0.6666666666666666,
              "#ed7953"
             ],
             [
              0.7777777777777778,
              "#fb9f3a"
             ],
             [
              0.8888888888888888,
              "#fdca26"
             ],
             [
              1,
              "#f0f921"
             ]
            ],
            "type": "histogram2dcontour"
           }
          ],
          "mesh3d": [
           {
            "colorbar": {
             "outlinewidth": 0,
             "ticks": ""
            },
            "type": "mesh3d"
           }
          ],
          "parcoords": [
           {
            "line": {
             "colorbar": {
              "outlinewidth": 0,
              "ticks": ""
             }
            },
            "type": "parcoords"
           }
          ],
          "pie": [
           {
            "automargin": true,
            "type": "pie"
           }
          ],
          "scatter": [
           {
            "fillpattern": {
             "fillmode": "overlay",
             "size": 10,
             "solidity": 0.2
            },
            "type": "scatter"
           }
          ],
          "scatter3d": [
           {
            "line": {
             "colorbar": {
              "outlinewidth": 0,
              "ticks": ""
             }
            },
            "marker": {
             "colorbar": {
              "outlinewidth": 0,
              "ticks": ""
             }
            },
            "type": "scatter3d"
           }
          ],
          "scattercarpet": [
           {
            "marker": {
             "colorbar": {
              "outlinewidth": 0,
              "ticks": ""
             }
            },
            "type": "scattercarpet"
           }
          ],
          "scattergeo": [
           {
            "marker": {
             "colorbar": {
              "outlinewidth": 0,
              "ticks": ""
             }
            },
            "type": "scattergeo"
           }
          ],
          "scattergl": [
           {
            "marker": {
             "colorbar": {
              "outlinewidth": 0,
              "ticks": ""
             }
            },
            "type": "scattergl"
           }
          ],
          "scattermap": [
           {
            "marker": {
             "colorbar": {
              "outlinewidth": 0,
              "ticks": ""
             }
            },
            "type": "scattermap"
           }
          ],
          "scattermapbox": [
           {
            "marker": {
             "colorbar": {
              "outlinewidth": 0,
              "ticks": ""
             }
            },
            "type": "scattermapbox"
           }
          ],
          "scatterpolar": [
           {
            "marker": {
             "colorbar": {
              "outlinewidth": 0,
              "ticks": ""
             }
            },
            "type": "scatterpolar"
           }
          ],
          "scatterpolargl": [
           {
            "marker": {
             "colorbar": {
              "outlinewidth": 0,
              "ticks": ""
             }
            },
            "type": "scatterpolargl"
           }
          ],
          "scatterternary": [
           {
            "marker": {
             "colorbar": {
              "outlinewidth": 0,
              "ticks": ""
             }
            },
            "type": "scatterternary"
           }
          ],
          "surface": [
           {
            "colorbar": {
             "outlinewidth": 0,
             "ticks": ""
            },
            "colorscale": [
             [
              0,
              "#0d0887"
             ],
             [
              0.1111111111111111,
              "#46039f"
             ],
             [
              0.2222222222222222,
              "#7201a8"
             ],
             [
              0.3333333333333333,
              "#9c179e"
             ],
             [
              0.4444444444444444,
              "#bd3786"
             ],
             [
              0.5555555555555556,
              "#d8576b"
             ],
             [
              0.6666666666666666,
              "#ed7953"
             ],
             [
              0.7777777777777778,
              "#fb9f3a"
             ],
             [
              0.8888888888888888,
              "#fdca26"
             ],
             [
              1,
              "#f0f921"
             ]
            ],
            "type": "surface"
           }
          ],
          "table": [
           {
            "cells": {
             "fill": {
              "color": "#EBF0F8"
             },
             "line": {
              "color": "white"
             }
            },
            "header": {
             "fill": {
              "color": "#C8D4E3"
             },
             "line": {
              "color": "white"
             }
            },
            "type": "table"
           }
          ]
         },
         "layout": {
          "annotationdefaults": {
           "arrowcolor": "#2a3f5f",
           "arrowhead": 0,
           "arrowwidth": 1
          },
          "autotypenumbers": "strict",
          "coloraxis": {
           "colorbar": {
            "outlinewidth": 0,
            "ticks": ""
           }
          },
          "colorscale": {
           "diverging": [
            [
             0,
             "#8e0152"
            ],
            [
             0.1,
             "#c51b7d"
            ],
            [
             0.2,
             "#de77ae"
            ],
            [
             0.3,
             "#f1b6da"
            ],
            [
             0.4,
             "#fde0ef"
            ],
            [
             0.5,
             "#f7f7f7"
            ],
            [
             0.6,
             "#e6f5d0"
            ],
            [
             0.7,
             "#b8e186"
            ],
            [
             0.8,
             "#7fbc41"
            ],
            [
             0.9,
             "#4d9221"
            ],
            [
             1,
             "#276419"
            ]
           ],
           "sequential": [
            [
             0,
             "#0d0887"
            ],
            [
             0.1111111111111111,
             "#46039f"
            ],
            [
             0.2222222222222222,
             "#7201a8"
            ],
            [
             0.3333333333333333,
             "#9c179e"
            ],
            [
             0.4444444444444444,
             "#bd3786"
            ],
            [
             0.5555555555555556,
             "#d8576b"
            ],
            [
             0.6666666666666666,
             "#ed7953"
            ],
            [
             0.7777777777777778,
             "#fb9f3a"
            ],
            [
             0.8888888888888888,
             "#fdca26"
            ],
            [
             1,
             "#f0f921"
            ]
           ],
           "sequentialminus": [
            [
             0,
             "#0d0887"
            ],
            [
             0.1111111111111111,
             "#46039f"
            ],
            [
             0.2222222222222222,
             "#7201a8"
            ],
            [
             0.3333333333333333,
             "#9c179e"
            ],
            [
             0.4444444444444444,
             "#bd3786"
            ],
            [
             0.5555555555555556,
             "#d8576b"
            ],
            [
             0.6666666666666666,
             "#ed7953"
            ],
            [
             0.7777777777777778,
             "#fb9f3a"
            ],
            [
             0.8888888888888888,
             "#fdca26"
            ],
            [
             1,
             "#f0f921"
            ]
           ]
          },
          "colorway": [
           "#636efa",
           "#EF553B",
           "#00cc96",
           "#ab63fa",
           "#FFA15A",
           "#19d3f3",
           "#FF6692",
           "#B6E880",
           "#FF97FF",
           "#FECB52"
          ],
          "font": {
           "color": "#2a3f5f"
          },
          "geo": {
           "bgcolor": "white",
           "lakecolor": "white",
           "landcolor": "#E5ECF6",
           "showlakes": true,
           "showland": true,
           "subunitcolor": "white"
          },
          "hoverlabel": {
           "align": "left"
          },
          "hovermode": "closest",
          "mapbox": {
           "style": "light"
          },
          "paper_bgcolor": "white",
          "plot_bgcolor": "#E5ECF6",
          "polar": {
           "angularaxis": {
            "gridcolor": "white",
            "linecolor": "white",
            "ticks": ""
           },
           "bgcolor": "#E5ECF6",
           "radialaxis": {
            "gridcolor": "white",
            "linecolor": "white",
            "ticks": ""
           }
          },
          "scene": {
           "xaxis": {
            "backgroundcolor": "#E5ECF6",
            "gridcolor": "white",
            "gridwidth": 2,
            "linecolor": "white",
            "showbackground": true,
            "ticks": "",
            "zerolinecolor": "white"
           },
           "yaxis": {
            "backgroundcolor": "#E5ECF6",
            "gridcolor": "white",
            "gridwidth": 2,
            "linecolor": "white",
            "showbackground": true,
            "ticks": "",
            "zerolinecolor": "white"
           },
           "zaxis": {
            "backgroundcolor": "#E5ECF6",
            "gridcolor": "white",
            "gridwidth": 2,
            "linecolor": "white",
            "showbackground": true,
            "ticks": "",
            "zerolinecolor": "white"
           }
          },
          "shapedefaults": {
           "line": {
            "color": "#2a3f5f"
           }
          },
          "ternary": {
           "aaxis": {
            "gridcolor": "white",
            "linecolor": "white",
            "ticks": ""
           },
           "baxis": {
            "gridcolor": "white",
            "linecolor": "white",
            "ticks": ""
           },
           "bgcolor": "#E5ECF6",
           "caxis": {
            "gridcolor": "white",
            "linecolor": "white",
            "ticks": ""
           }
          },
          "title": {
           "x": 0.05
          },
          "xaxis": {
           "automargin": true,
           "gridcolor": "white",
           "linecolor": "white",
           "ticks": "",
           "title": {
            "standoff": 15
           },
           "zerolinecolor": "white",
           "zerolinewidth": 2
          },
          "yaxis": {
           "automargin": true,
           "gridcolor": "white",
           "linecolor": "white",
           "ticks": "",
           "title": {
            "standoff": 15
           },
           "zerolinecolor": "white",
           "zerolinewidth": 2
          }
         }
        },
        "title": {
         "font": {
          "size": 20
         },
         "text": "K-Means 군집화 결과 (PCA 2차원 시각화)"
        },
        "xaxis": {
         "anchor": "y",
         "domain": [
          0,
          1
         ],
         "title": {
          "text": "PCA 주성분 1"
         }
        },
        "yaxis": {
         "anchor": "x",
         "domain": [
          0,
          1
         ],
         "title": {
          "text": "PCA 주성분 2"
         }
        }
       }
      }
     },
     "metadata": {},
     "output_type": "display_data"
    }
   ],
   "source": [
    "from sklearn.feature_extraction.text import TfidfVectorizer\n",
    "from sklearn.cluster import KMeans\n",
    "from sklearn.decomposition import PCA\n",
    "import plotly.express as px\n",
    "import numpy as np\n",
    "\n",
    "# 이전 단계에서 전처리가 완료된 'df' 데이터프레임이 있다고 가정합니다.\n",
    "if 'df' not in locals() or 'processed' not in df.columns:\n",
    "    print(\"오류: 이전 단계의 전처리된 데이터프레임('df')을 찾을 수 없습니다.\")\n",
    "    print(\"이전 코드 셀을 먼저 실행해주세요.\")\n",
    "else:\n",
    "    # --- 3단계: K-Means 군집화 ---\n",
    "    print(\"--- 🧩 3단계: K-Means 군집화 시작 ---\")\n",
    "    \n",
    "    # 1. TF-IDF 행렬 생성\n",
    "    # min_df=5: 최소 5개 문서 이상에 나타난 단어만 사용\n",
    "    tfidf_vectorizer = TfidfVectorizer(min_df=5, ngram_range=(1,2))\n",
    "    tfidf_matrix = tfidf_vectorizer.fit_transform(df['processed'])\n",
    "    \n",
    "    print(\"\\nTF-IDF 행렬 생성 완료.\")\n",
    "\n",
    "    # 2. K-Means 모델 학습\n",
    "    kmeans = KMeans(n_clusters=4, random_state=42, n_init=10)\n",
    "    kmeans.fit(tfidf_matrix)\n",
    "    \n",
    "    # 3. 결과 분석: 원본 데이터프레임에 클러스터 ID 추가\n",
    "    df['cluster_id'] = kmeans.labels_\n",
    "    print(\"K-Means 모델 학습 완료. 'cluster_id' 컬럼 추가.\")\n",
    "\n",
    "    # 각 클러스터별 샘플 리뷰 출력\n",
    "    print(\"\\n--- 각 군집별 주요 리뷰 샘플 ---\")\n",
    "    for i in range(4):\n",
    "        cluster_reviews = df[df['cluster_id'] == i]['revwCntt'].head(3).values\n",
    "        print(f\"\\n[ 군집 {i} ]\")\n",
    "        # 넘파이 배열을 순회하며 출력\n",
    "        for review in cluster_reviews:\n",
    "            print(f\"- {review}\")\n",
    "\n",
    "    # --- 4단계: 시각화 ---\n",
    "    print(\"\\n\\n--- 📊 4단계: 군집 결과 시각화 시작 ---\")\n",
    "    \n",
    "    # 1. 차원 축소 (PCA)\n",
    "    pca = PCA(n_components=2, random_state=42)\n",
    "    pca_components = pca.fit_transform(tfidf_matrix.toarray())\n",
    "    \n",
    "    df['pca_x'] = pca_components[:, 0]\n",
    "    df['pca_y'] = pca_components[:, 1]\n",
    "    \n",
    "    print(\"\\nPCA 차원 축소 완료.\")\n",
    "\n",
    "    # 2. 산점도 시각화 (Plotly)\n",
    "    fig = px.scatter(\n",
    "        df,\n",
    "        x='pca_x',\n",
    "        y='pca_y',\n",
    "        color='cluster_id',\n",
    "        hover_data={'pca_x': False, 'pca_y': False, 'revwCntt': True}, # 마우스 오버 시 리뷰 내용 표시\n",
    "        title='K-Means 군집화 결과 (PCA 2차원 시각화)',\n",
    "        labels={'color': '군집 ID'}\n",
    "    )\n",
    "    \n",
    "    fig.update_traces(marker=dict(size=8, opacity=0.7))\n",
    "    fig.update_layout(\n",
    "        title_font_size=20,\n",
    "        xaxis_title=\"PCA 주성분 1\",\n",
    "        yaxis_title=\"PCA 주성분 2\"\n",
    "    )\n",
    "    \n",
    "    print(\"Plotly 시각화 생성 완료. 그래프를 확인하세요.\")\n",
    "    fig.show()  "
   ]
  },
  {
   "cell_type": "code",
   "execution_count": 11,
   "metadata": {},
   "outputs": [
    {
     "name": "stdout",
     "output_type": "stream",
     "text": [
      "--- 🔬 PCA 주성분별 핵심 키워드 분석 ---\n",
      "\n",
      "[ 주성분 1 ]\n",
      "  (+) 방향 핵심 키워드: 러닝 | 러닝 공부 | 시작 | 러닝 입문서 | 밑바닥 | 입문서 | 공부 | 러닝 기초 | 처음 | 기초\n",
      "  (-) 방향 핵심 키워드: 내용 | 배송 | 이해 | 구매 | 설명 | 개념 | 파이썬 | 유용 | 도움 | 추천\n",
      "\n",
      "[ 주성분 2 ]\n",
      "  (+) 방향 핵심 키워드: 공부 | 러닝 공부 | 유용 | 구매 | 추천 | 도움 | 내용 | 파이썬 | 러닝 기초 | 처음\n",
      "  (-) 방향 핵심 키워드: 이해 | 러닝 | 기본 | 개념 | 시작 | 러닝 입문서 | 입문서 | 밑바닥 | 기초 | 배송\n"
     ]
    }
   ],
   "source": [
    "def display_pca_component_keywords(pca_model, vectorizer, n_top_words=10):\n",
    "    \"\"\"PCA의 각 주성분을 대표하는 상위/하위 키워드를 출력하는 함수\"\"\"\n",
    "    \n",
    "    # TF-IDF 벡터라이저에서 단어(피처) 이름을 가져옴\n",
    "    feature_names = vectorizer.get_feature_names_out()\n",
    "    \n",
    "    print(\"--- 🔬 PCA 주성분별 핵심 키워드 분석 ---\")\n",
    "    \n",
    "    # pca_model.components_ 에 각 주성분을 구성하는 가중치가 들어있음\n",
    "    for topic_idx, component in enumerate(pca_model.components_):\n",
    "        print(f\"\\n[ 주성분 {topic_idx + 1} ]\")\n",
    "        \n",
    "        # 가중치가 높은 순서 (양의 방향, +)\n",
    "        positive_keywords = [feature_names[i] for i in component.argsort()[:-n_top_words - 1:-1]]\n",
    "        \n",
    "        # 가중치가 낮은 순서 (음의 방향, -)\n",
    "        negative_keywords = [feature_names[i] for i in component.argsort()[:n_top_words]]\n",
    "\n",
    "        print(f\"  (+) 방향 핵심 키워드: {' | '.join(positive_keywords)}\")\n",
    "        print(f\"  (-) 방향 핵심 키워드: {' | '.join(negative_keywords)}\")\n",
    "        \n",
    "# 이전 단계에서 학습된 pca 모델과 tfidf_vectorizer를 사용합니다.\n",
    "if 'pca' in locals() and 'tfidf_vectorizer' in locals():\n",
    "    display_pca_component_keywords(pca, tfidf_vectorizer)\n",
    "else:\n",
    "    print(\"오류: 이전 단계의 pca 모델 또는 tfidf_vectorizer를 찾을 수 없습니다.\")"
   ]
  },
  {
   "cell_type": "markdown",
   "metadata": {},
   "source": [
    "### 주성분 의미 해석\n",
    "**1. 가로축 (주성분 1): \"책의 정체성\" vs \"경험 기반 평가\"**\n",
    "- (+) 방향: `입문서`, `밑바닥`, `기초`와 같이 책의 근본적인 정체성을 나타내는 키워드들입니다. 이 단어들은 책의 목적과 대상을 설명하며, 해당 방향의 리뷰들은 \"이 책은 밑바닥부터 시작하는 입문자를 위한 것\"이라는 점에 초점을 맞춥니다.      \n",
    "- (-) 방향: `내용`, `도움`, `추천`과 같이 책을 읽은 후의 경험과 평가에 관련된 키워드들입니다. 이 단어들은 \"책 내용이 유용해서 도움이 되었다\"와 같은 독자의 소감을 나타냅니다.\n",
    "> 결론: 주성분 1은 리뷰가 책의 정체성(누구를 위한 책인가)을 강조하는지, 아니면 책을 경험한 후의 평가에 초점을 맞추는지를 구분하는 기준선 역할을 합니다.  \n",
    "\n",
    "**2. 세로축 (주성분 2): \"실용적/구체적 평가\" vs \"개념적/본질적 평가\"**\n",
    "- (+) 방향: `유용`, `도움`, `추천`, `파이썬`처럼 실용적이고 구체적인 효용성을 나타내는 키워드들입니다. 이 리뷰들은 \"공부에 실질적으로 도움이 되어 추천한다\"와 같은 실용적 관점에 집중합니다.  \n",
    "- (-) 방향: `이해`, `기본`, `개념`처럼 책의 본질적이고 추상적인 가치를 나타내는 키워드들입니다. 이 리뷰들은 \"기본 개념을 이해하는 데 좋다\"와 같이 책의 근본적인 가치를 다룹니다.\n",
    "> 결론: 주성분 2는 리뷰가 책의 실용적인 효용성을 강조하는지, 아니면 개념적이고 본질적인 가치를 강조하는지를 구분하는 기준선 역할을 합니다."
   ]
  }
 ],
 "metadata": {
  "kernelspec": {
   "display_name": "pandas_env",
   "language": "python",
   "name": "python3"
  },
  "language_info": {
   "codemirror_mode": {
    "name": "ipython",
    "version": 3
   },
   "file_extension": ".py",
   "mimetype": "text/x-python",
   "name": "python",
   "nbconvert_exporter": "python",
   "pygments_lexer": "ipython3",
   "version": "3.10.10"
  }
 },
 "nbformat": 4,
 "nbformat_minor": 2
}
