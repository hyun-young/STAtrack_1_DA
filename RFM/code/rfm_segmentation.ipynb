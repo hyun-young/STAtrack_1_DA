{
 "cells": [
  {
   "cell_type": "code",
   "execution_count": 1,
   "metadata": {},
   "outputs": [
    {
     "name": "stdout",
     "output_type": "stream",
     "text": [
      "Downloading: 100%|\u001b[32m██████████\u001b[0m|\n",
      "<class 'pandas.core.frame.DataFrame'>\n",
      "RangeIndex: 180 entries, 0 to 179\n",
      "Data columns (total 21 columns):\n",
      " #   Column             Non-Null Count  Dtype              \n",
      "---  ------             --------------  -----              \n",
      " 0   user_id            180 non-null    Int64              \n",
      " 1   order_id           180 non-null    Int64              \n",
      " 2   product_id         180 non-null    Int64              \n",
      " 3   order_item_id      180 non-null    Int64              \n",
      " 4   quantity           180 non-null    Int64              \n",
      " 5   price_per_unit     180 non-null    object             \n",
      " 6   discount           180 non-null    object             \n",
      " 7   product_name       180 non-null    object             \n",
      " 8   category_id        180 non-null    Int64              \n",
      " 9   price              180 non-null    object             \n",
      " 10  stock_quantity     180 non-null    Int64              \n",
      " 11  added_date         180 non-null    dbdate             \n",
      " 12  supplier_id        180 non-null    Int64              \n",
      " 13  order_date         180 non-null    datetime64[us, UTC]\n",
      " 14  total_amount       180 non-null    object             \n",
      " 15  payment_method     180 non-null    object             \n",
      " 16  order_status       180 non-null    object             \n",
      " 17  registration_date  180 non-null    dbdate             \n",
      " 18  user_type          180 non-null    object             \n",
      " 19  city               180 non-null    object             \n",
      " 20  country            180 non-null    object             \n",
      "dtypes: Int64(8), datetime64[us, UTC](1), dbdate(2), object(10)\n",
      "memory usage: 31.1+ KB\n"
     ]
    }
   ],
   "source": [
    "import pandas_gbq\n",
    "import pydata_google_auth\n",
    "\n",
    "SCOPES = [\n",
    "    'https://www.googleapis.com/auth/cloud-platform',\n",
    "    'https://www.googleapis.com/auth/bigquery'\n",
    "]\n",
    "\n",
    "credentials = pydata_google_auth.get_user_credentials(\n",
    "    SCOPES, \n",
    "    use_local_webserver=True\n",
    ")\n",
    "\n",
    "PROJECT_ID = \"sta-track-sql\" # 여러분들의 구글클라우드 프로젝트 ID\n",
    "\n",
    "# Order items 기준으로 <- products,orders <- users로 join\n",
    "query = \"\"\"\n",
    "SELECT *\n",
    "FROM ecommerce_advanced.order_items\n",
    "LEFT JOIN ecommerce_advanced.products\n",
    "USING(product_id)\n",
    "LEFT JOIN ecommerce_advanced.orders\n",
    "USING(order_id)\n",
    "LEFT JOIN ecommerce_advanced.users\n",
    "USING(user_id)\n",
    "\"\"\"\n",
    "\n",
    "df = pandas_gbq.read_gbq(query_or_table=query, project_id=PROJECT_ID, credentials=credentials)\n",
    "df.info()"
   ]
  },
  {
   "cell_type": "markdown",
   "metadata": {},
   "source": [
    "## RFM 1 Pager 작성하기\n",
    "\n",
    "- Recency (R): 고객이 얼마나 최근에 구매했는가?\n",
    "\n",
    "- Frequency (F): 고객이 얼마나 자주 구매했는가?\n",
    "\n",
    "- Monetary (M): 고객이 얼마나 많은 돈을 썼는가?\n",
    "\n",
    "\n",
    "### 직접 ERD 작성하고 필요한 데이터 추출하기\n",
    "![erd](ecommerce_ERD_image.png)\n",
    "\n",
    "### 프로젝트의 목표 : 해당 유저의 유형이 올바르게 RFM에 의해서 군집이 되었는지에 대한 의문\n",
    "    - 현재 30명의 user는 Regular, Premium의 2개의 등급을 보유 중\n",
    "    - 이 등급이 구매 패턴에 의해 형성된 것이 맞는지, 임의로 형성된 값인지, 2등급이 아닌 5개 이상의 등급으로 나눌 순 없는지에 대한 분석을 진행함\n",
    "\n",
    "따라서, 회원정보, 구매 내역, 구매 상세 내역에서 날짜 및 거래 정보를 통해 최근 구매, 자주 구매 패턴을 확인한다.\n",
    "\n",
    "결론: 총 7개의 테이블 중 **users, products, orders, order_items**에서 RFM 지표를 뽑아낸다.\n"
   ]
  },
  {
   "cell_type": "markdown",
   "metadata": {},
   "source": [
    "- SQL에서는 JOIN만 진행하고 나머지 데이터 전처리는 Pandas를 활용한다."
   ]
  },
  {
   "cell_type": "code",
   "execution_count": 2,
   "metadata": {},
   "outputs": [
    {
     "data": {
      "text/plain": [
       "count                                 180\n",
       "mean     2023-09-09 12:28:20.250000+00:00\n",
       "min             2023-01-05 14:32:15+00:00\n",
       "25%      2023-05-11 15:10:48.750000+00:00\n",
       "50%      2023-09-07 12:00:27.500000+00:00\n",
       "75%             2024-01-07 09:30:33+00:00\n",
       "max             2024-05-18 12:15:30+00:00\n",
       "Name: order_date, dtype: object"
      ]
     },
     "execution_count": 2,
     "metadata": {},
     "output_type": "execute_result"
    }
   ],
   "source": [
    "df.order_date.describe()"
   ]
  },
  {
   "cell_type": "markdown",
   "metadata": {},
   "source": [
    "## 1. Recent 처리하기\n",
    "- 주문 일자 기준으로는 23년 1월 5일부터 24년 5월 18일까지의 데이터가 있음\n",
    "- 고객별로 가장 마지막에 주문한(최근에 주문한) 날짜를 계산하기\n",
    "- 필요 컬럼: user_id, order_date => last_order_date \n",
    "- 24년 5월 18일 기준으로 언제 주문했는지 처리하기\n",
    "## 2. Frequency 처리하기\n",
    "- **고객이 얼마나 자주 우리 서비스를 이용하는지?**\n",
    "- 충성도나 재방문율을 측정하는데 적합한 지표\n",
    "- 주문 건수? 구매량 수? 고민해보기\n",
    "    1. 주문한 건수로 보는게 맞을지 주문 수량으로 보는게 맞을지\n",
    "    2. 근데 제품이 다 다른데 어떻게 기준을 잡으면 좋을까?\n",
    "=> 일반적인 RFM에선 주문 건수로 보는 것이 표준이고, 구매량 수는 빈도보단 규모\n",
    "- 딱 한 번의 대량 주문으로 F 수치가 높아질 가능성 존재하기 때문에 **주문 건수**로 확인한다\n",
    "- 필요 컬럼 : 회원당 주문 건수 COUNT\n",
    "\n",
    "\n",
    "## 3. Monument 처리하기\n",
    "- (단위당 지출액 - 단위당 할인가) * 주문량 = 주문당 지출액 구하기\n",
    "- 고객별 총 지출액을 SUM해서 확인해보기"
   ]
  },
  {
   "cell_type": "code",
   "execution_count": 3,
   "metadata": {},
   "outputs": [
    {
     "data": {
      "text/html": [
       "<div>\n",
       "<style scoped>\n",
       "    .dataframe tbody tr th:only-of-type {\n",
       "        vertical-align: middle;\n",
       "    }\n",
       "\n",
       "    .dataframe tbody tr th {\n",
       "        vertical-align: top;\n",
       "    }\n",
       "\n",
       "    .dataframe thead th {\n",
       "        text-align: right;\n",
       "    }\n",
       "</style>\n",
       "<table border=\"1\" class=\"dataframe\">\n",
       "  <thead>\n",
       "    <tr style=\"text-align: right;\">\n",
       "      <th></th>\n",
       "      <th>prev_grade</th>\n",
       "    </tr>\n",
       "    <tr>\n",
       "      <th>user_id</th>\n",
       "      <th></th>\n",
       "    </tr>\n",
       "  </thead>\n",
       "  <tbody>\n",
       "    <tr>\n",
       "      <th>12</th>\n",
       "      <td>REGULAR</td>\n",
       "    </tr>\n",
       "    <tr>\n",
       "      <th>26</th>\n",
       "      <td>PREMIUM</td>\n",
       "    </tr>\n",
       "    <tr>\n",
       "      <th>27</th>\n",
       "      <td>REGULAR</td>\n",
       "    </tr>\n",
       "    <tr>\n",
       "      <th>1</th>\n",
       "      <td>REGULAR</td>\n",
       "    </tr>\n",
       "    <tr>\n",
       "      <th>9</th>\n",
       "      <td>REGULAR</td>\n",
       "    </tr>\n",
       "  </tbody>\n",
       "</table>\n",
       "</div>"
      ],
      "text/plain": [
       "        prev_grade\n",
       "user_id           \n",
       "12         REGULAR\n",
       "26         PREMIUM\n",
       "27         REGULAR\n",
       "1          REGULAR\n",
       "9          REGULAR"
      ]
     },
     "execution_count": 3,
     "metadata": {},
     "output_type": "execute_result"
    }
   ],
   "source": [
    "import pandas as pd\n",
    "import plotly.express as px\n",
    "\n",
    "rfm_df = pd.DataFrame(index= df['user_id'].unique())\n",
    "rfm_df.index.name = 'user_id'\n",
    "rfm_df['prev_grade'] = df['user_type']\n",
    "rfm_df.head() # 기존 등급이랑 RFM 이후 등급 확인해보기\n"
   ]
  },
  {
   "cell_type": "code",
   "execution_count": 4,
   "metadata": {},
   "outputs": [
    {
     "data": {
      "text/plain": [
       "user_id\n",
       "12    2024-05-16\n",
       "26    2024-03-19\n",
       "27    2024-01-23\n",
       "1     2024-03-31\n",
       "9     2024-04-16\n",
       "Name: last_order_date, dtype: object"
      ]
     },
     "execution_count": 4,
     "metadata": {},
     "output_type": "execute_result"
    }
   ],
   "source": [
    "rfm_df['last_order_date'] = df.groupby('user_id')['order_date'].max().dt.date\n",
    "rfm_df.last_order_date[:5]"
   ]
  },
  {
   "cell_type": "code",
   "execution_count": 5,
   "metadata": {},
   "outputs": [
    {
     "data": {
      "text/html": [
       "<div>\n",
       "<style scoped>\n",
       "    .dataframe tbody tr th:only-of-type {\n",
       "        vertical-align: middle;\n",
       "    }\n",
       "\n",
       "    .dataframe tbody tr th {\n",
       "        vertical-align: top;\n",
       "    }\n",
       "\n",
       "    .dataframe thead th {\n",
       "        text-align: right;\n",
       "    }\n",
       "</style>\n",
       "<table border=\"1\" class=\"dataframe\">\n",
       "  <thead>\n",
       "    <tr style=\"text-align: right;\">\n",
       "      <th></th>\n",
       "      <th>prev_grade</th>\n",
       "      <th>last_order_date</th>\n",
       "      <th>Recency</th>\n",
       "    </tr>\n",
       "    <tr>\n",
       "      <th>user_id</th>\n",
       "      <th></th>\n",
       "      <th></th>\n",
       "      <th></th>\n",
       "    </tr>\n",
       "  </thead>\n",
       "  <tbody>\n",
       "    <tr>\n",
       "      <th>12</th>\n",
       "      <td>REGULAR</td>\n",
       "      <td>2024-05-16</td>\n",
       "      <td>3</td>\n",
       "    </tr>\n",
       "    <tr>\n",
       "      <th>26</th>\n",
       "      <td>PREMIUM</td>\n",
       "      <td>2024-03-19</td>\n",
       "      <td>61</td>\n",
       "    </tr>\n",
       "    <tr>\n",
       "      <th>27</th>\n",
       "      <td>REGULAR</td>\n",
       "      <td>2024-01-23</td>\n",
       "      <td>117</td>\n",
       "    </tr>\n",
       "    <tr>\n",
       "      <th>1</th>\n",
       "      <td>REGULAR</td>\n",
       "      <td>2024-03-31</td>\n",
       "      <td>49</td>\n",
       "    </tr>\n",
       "    <tr>\n",
       "      <th>9</th>\n",
       "      <td>REGULAR</td>\n",
       "      <td>2024-04-16</td>\n",
       "      <td>33</td>\n",
       "    </tr>\n",
       "  </tbody>\n",
       "</table>\n",
       "</div>"
      ],
      "text/plain": [
       "        prev_grade last_order_date  Recency\n",
       "user_id                                    \n",
       "12         REGULAR      2024-05-16        3\n",
       "26         PREMIUM      2024-03-19       61\n",
       "27         REGULAR      2024-01-23      117\n",
       "1          REGULAR      2024-03-31       49\n",
       "9          REGULAR      2024-04-16       33"
      ]
     },
     "execution_count": 5,
     "metadata": {},
     "output_type": "execute_result"
    }
   ],
   "source": [
    "# 기준 날짜 설정\n",
    "standard_date = pd.to_datetime('2024-05-19')\n",
    "rfm_df['Recency'] = (standard_date - pd.to_datetime(rfm_df['last_order_date']).dt.tz_localize(None)).dt.days\n",
    "rfm_df.head()"
   ]
  },
  {
   "cell_type": "code",
   "execution_count": 6,
   "metadata": {},
   "outputs": [
    {
     "data": {
      "text/html": [
       "<div>\n",
       "<style scoped>\n",
       "    .dataframe tbody tr th:only-of-type {\n",
       "        vertical-align: middle;\n",
       "    }\n",
       "\n",
       "    .dataframe tbody tr th {\n",
       "        vertical-align: top;\n",
       "    }\n",
       "\n",
       "    .dataframe thead th {\n",
       "        text-align: right;\n",
       "    }\n",
       "</style>\n",
       "<table border=\"1\" class=\"dataframe\">\n",
       "  <thead>\n",
       "    <tr style=\"text-align: right;\">\n",
       "      <th></th>\n",
       "      <th>prev_grade</th>\n",
       "      <th>last_order_date</th>\n",
       "      <th>Recency</th>\n",
       "      <th>Frequency</th>\n",
       "    </tr>\n",
       "    <tr>\n",
       "      <th>user_id</th>\n",
       "      <th></th>\n",
       "      <th></th>\n",
       "      <th></th>\n",
       "      <th></th>\n",
       "    </tr>\n",
       "  </thead>\n",
       "  <tbody>\n",
       "    <tr>\n",
       "      <th>12</th>\n",
       "      <td>REGULAR</td>\n",
       "      <td>2024-05-16</td>\n",
       "      <td>3</td>\n",
       "      <td>9</td>\n",
       "    </tr>\n",
       "    <tr>\n",
       "      <th>26</th>\n",
       "      <td>PREMIUM</td>\n",
       "      <td>2024-03-19</td>\n",
       "      <td>61</td>\n",
       "      <td>3</td>\n",
       "    </tr>\n",
       "    <tr>\n",
       "      <th>27</th>\n",
       "      <td>REGULAR</td>\n",
       "      <td>2024-01-23</td>\n",
       "      <td>117</td>\n",
       "      <td>5</td>\n",
       "    </tr>\n",
       "    <tr>\n",
       "      <th>1</th>\n",
       "      <td>REGULAR</td>\n",
       "      <td>2024-03-31</td>\n",
       "      <td>49</td>\n",
       "      <td>7</td>\n",
       "    </tr>\n",
       "    <tr>\n",
       "      <th>9</th>\n",
       "      <td>REGULAR</td>\n",
       "      <td>2024-04-16</td>\n",
       "      <td>33</td>\n",
       "      <td>6</td>\n",
       "    </tr>\n",
       "  </tbody>\n",
       "</table>\n",
       "</div>"
      ],
      "text/plain": [
       "        prev_grade last_order_date  Recency  Frequency\n",
       "user_id                                               \n",
       "12         REGULAR      2024-05-16        3          9\n",
       "26         PREMIUM      2024-03-19       61          3\n",
       "27         REGULAR      2024-01-23      117          5\n",
       "1          REGULAR      2024-03-31       49          7\n",
       "9          REGULAR      2024-04-16       33          6"
      ]
     },
     "execution_count": 6,
     "metadata": {},
     "output_type": "execute_result"
    }
   ],
   "source": [
    "# Frequency 계산 (주문 건수)\n",
    "rfm_df['Frequency'] = df.groupby('user_id')['order_id'].count()\n",
    "rfm_df.head()\n"
   ]
  },
  {
   "cell_type": "code",
   "execution_count": 7,
   "metadata": {},
   "outputs": [
    {
     "data": {
      "text/html": [
       "<div>\n",
       "<style scoped>\n",
       "    .dataframe tbody tr th:only-of-type {\n",
       "        vertical-align: middle;\n",
       "    }\n",
       "\n",
       "    .dataframe tbody tr th {\n",
       "        vertical-align: top;\n",
       "    }\n",
       "\n",
       "    .dataframe thead th {\n",
       "        text-align: right;\n",
       "    }\n",
       "</style>\n",
       "<table border=\"1\" class=\"dataframe\">\n",
       "  <thead>\n",
       "    <tr style=\"text-align: right;\">\n",
       "      <th></th>\n",
       "      <th>prev_grade</th>\n",
       "      <th>last_order_date</th>\n",
       "      <th>Recency</th>\n",
       "      <th>Frequency</th>\n",
       "      <th>Monetary</th>\n",
       "    </tr>\n",
       "    <tr>\n",
       "      <th>user_id</th>\n",
       "      <th></th>\n",
       "      <th></th>\n",
       "      <th></th>\n",
       "      <th></th>\n",
       "      <th></th>\n",
       "    </tr>\n",
       "  </thead>\n",
       "  <tbody>\n",
       "    <tr>\n",
       "      <th>12</th>\n",
       "      <td>REGULAR</td>\n",
       "      <td>2024-05-16</td>\n",
       "      <td>3</td>\n",
       "      <td>9</td>\n",
       "      <td>3522000</td>\n",
       "    </tr>\n",
       "    <tr>\n",
       "      <th>26</th>\n",
       "      <td>PREMIUM</td>\n",
       "      <td>2024-03-19</td>\n",
       "      <td>61</td>\n",
       "      <td>3</td>\n",
       "      <td>2297000</td>\n",
       "    </tr>\n",
       "    <tr>\n",
       "      <th>27</th>\n",
       "      <td>REGULAR</td>\n",
       "      <td>2024-01-23</td>\n",
       "      <td>117</td>\n",
       "      <td>5</td>\n",
       "      <td>1209000</td>\n",
       "    </tr>\n",
       "    <tr>\n",
       "      <th>1</th>\n",
       "      <td>REGULAR</td>\n",
       "      <td>2024-03-31</td>\n",
       "      <td>49</td>\n",
       "      <td>7</td>\n",
       "      <td>5592000</td>\n",
       "    </tr>\n",
       "    <tr>\n",
       "      <th>9</th>\n",
       "      <td>REGULAR</td>\n",
       "      <td>2024-04-16</td>\n",
       "      <td>33</td>\n",
       "      <td>6</td>\n",
       "      <td>6443000</td>\n",
       "    </tr>\n",
       "  </tbody>\n",
       "</table>\n",
       "</div>"
      ],
      "text/plain": [
       "        prev_grade last_order_date  Recency  Frequency  Monetary\n",
       "user_id                                                         \n",
       "12         REGULAR      2024-05-16        3          9   3522000\n",
       "26         PREMIUM      2024-03-19       61          3   2297000\n",
       "27         REGULAR      2024-01-23      117          5   1209000\n",
       "1          REGULAR      2024-03-31       49          7   5592000\n",
       "9          REGULAR      2024-04-16       33          6   6443000"
      ]
     },
     "execution_count": 7,
     "metadata": {},
     "output_type": "execute_result"
    }
   ],
   "source": [
    "# Monetary 계산 (모든 제품 카테고리 구매액 합산)\n",
    "monetary_cols = ['price_per_unit','discount','quantity']\n",
    "df['total_revenue_per_order'] =(df['price_per_unit']-df['discount']) * df['quantity'] \n",
    "\n",
    "rfm_df['Monetary']= df.groupby('user_id')['total_revenue_per_order'].sum().astype(int)\n",
    "rfm_df.head()"
   ]
  },
  {
   "cell_type": "markdown",
   "metadata": {},
   "source": [
    "### rfm_df 분포 확인해보기\n",
    "- 분포를 확인해서 어떤 스코어링 방식을 사용할지 확인한다."
   ]
  },
  {
   "cell_type": "code",
   "execution_count": 8,
   "metadata": {},
   "outputs": [],
   "source": [
    "pd.options.display.float_format = '{:.4f}'.format"
   ]
  },
  {
   "cell_type": "code",
   "execution_count": 9,
   "metadata": {},
   "outputs": [
    {
     "data": {
      "text/html": [
       "<div>\n",
       "<style scoped>\n",
       "    .dataframe tbody tr th:only-of-type {\n",
       "        vertical-align: middle;\n",
       "    }\n",
       "\n",
       "    .dataframe tbody tr th {\n",
       "        vertical-align: top;\n",
       "    }\n",
       "\n",
       "    .dataframe thead th {\n",
       "        text-align: right;\n",
       "    }\n",
       "</style>\n",
       "<table border=\"1\" class=\"dataframe\">\n",
       "  <thead>\n",
       "    <tr style=\"text-align: right;\">\n",
       "      <th></th>\n",
       "      <th>Recency</th>\n",
       "      <th>Frequency</th>\n",
       "      <th>Monetary</th>\n",
       "    </tr>\n",
       "  </thead>\n",
       "  <tbody>\n",
       "    <tr>\n",
       "      <th>count</th>\n",
       "      <td>30.0000</td>\n",
       "      <td>30.0000</td>\n",
       "      <td>30.0000</td>\n",
       "    </tr>\n",
       "    <tr>\n",
       "      <th>mean</th>\n",
       "      <td>55.4667</td>\n",
       "      <td>6.0000</td>\n",
       "      <td>2094433.3333</td>\n",
       "    </tr>\n",
       "    <tr>\n",
       "      <th>std</th>\n",
       "      <td>44.9580</td>\n",
       "      <td>2.7792</td>\n",
       "      <td>2221930.7336</td>\n",
       "    </tr>\n",
       "    <tr>\n",
       "      <th>min</th>\n",
       "      <td>1.0000</td>\n",
       "      <td>2.0000</td>\n",
       "      <td>217000.0000</td>\n",
       "    </tr>\n",
       "    <tr>\n",
       "      <th>25%</th>\n",
       "      <td>18.0000</td>\n",
       "      <td>3.2500</td>\n",
       "      <td>683500.0000</td>\n",
       "    </tr>\n",
       "    <tr>\n",
       "      <th>50%</th>\n",
       "      <td>47.0000</td>\n",
       "      <td>6.0000</td>\n",
       "      <td>1243000.0000</td>\n",
       "    </tr>\n",
       "    <tr>\n",
       "      <th>75%</th>\n",
       "      <td>76.0000</td>\n",
       "      <td>7.7500</td>\n",
       "      <td>2471750.0000</td>\n",
       "    </tr>\n",
       "    <tr>\n",
       "      <th>max</th>\n",
       "      <td>137.0000</td>\n",
       "      <td>12.0000</td>\n",
       "      <td>9452000.0000</td>\n",
       "    </tr>\n",
       "  </tbody>\n",
       "</table>\n",
       "</div>"
      ],
      "text/plain": [
       "       Recency  Frequency     Monetary\n",
       "count  30.0000    30.0000      30.0000\n",
       "mean   55.4667     6.0000 2094433.3333\n",
       "std    44.9580     2.7792 2221930.7336\n",
       "min     1.0000     2.0000  217000.0000\n",
       "25%    18.0000     3.2500  683500.0000\n",
       "50%    47.0000     6.0000 1243000.0000\n",
       "75%    76.0000     7.7500 2471750.0000\n",
       "max   137.0000    12.0000 9452000.0000"
      ]
     },
     "execution_count": 9,
     "metadata": {},
     "output_type": "execute_result"
    }
   ],
   "source": [
    "rfm_df[['Recency', 'Frequency', 'Monetary']].describe()"
   ]
  },
  {
   "cell_type": "markdown",
   "metadata": {},
   "source": [
    "분포 분석해보기\n",
    "1. recentcy : 25%,50%,75%가 각각 18, 47, 76으로 분포\n",
    "2. frequency : frequency가 큰 차이를 보이지 않고 골고루 분포됨\n",
    "3. monetary : 평균이 약 210만원인데, 최소값이 20만원, 중앙값이 124만원 최댓값이 945만원 수준으로 편차가 매우 큰 것을 확인할 수 있다.  \n",
    "이는 소수 고객이 구매력이 매우 커서 평균을 높이는 것으로 확인할 수 있다."
   ]
  },
  {
   "cell_type": "code",
   "execution_count": 10,
   "metadata": {},
   "outputs": [
    {
     "name": "stdout",
     "output_type": "stream",
     "text": [
      "<class 'pandas.core.frame.DataFrame'>\n",
      "Index: 30 entries, 12 to 28\n",
      "Data columns (total 5 columns):\n",
      " #   Column           Non-Null Count  Dtype \n",
      "---  ------           --------------  ----- \n",
      " 0   prev_grade       30 non-null     object\n",
      " 1   last_order_date  30 non-null     object\n",
      " 2   Recency          30 non-null     int64 \n",
      " 3   Frequency        30 non-null     Int64 \n",
      " 4   Monetary         30 non-null     int32 \n",
      "dtypes: Int64(1), int32(1), int64(1), object(2)\n",
      "memory usage: 1.3+ KB\n"
     ]
    }
   ],
   "source": [
    "rfm_df.info()"
   ]
  },
  {
   "cell_type": "markdown",
   "metadata": {},
   "source": [
    "- astype 변경하기(Int64로 통일)"
   ]
  },
  {
   "cell_type": "code",
   "execution_count": 11,
   "metadata": {},
   "outputs": [
    {
     "name": "stdout",
     "output_type": "stream",
     "text": [
      "<class 'pandas.core.frame.DataFrame'>\n",
      "Index: 30 entries, 12 to 28\n",
      "Data columns (total 5 columns):\n",
      " #   Column           Non-Null Count  Dtype \n",
      "---  ------           --------------  ----- \n",
      " 0   prev_grade       30 non-null     object\n",
      " 1   last_order_date  30 non-null     object\n",
      " 2   Recency          30 non-null     Int64 \n",
      " 3   Frequency        30 non-null     Int64 \n",
      " 4   Monetary         30 non-null     Int64 \n",
      "dtypes: Int64(3), object(2)\n",
      "memory usage: 1.5+ KB\n"
     ]
    }
   ],
   "source": [
    "rfm_df = rfm_df.astype({\n",
    "    'Recency': 'Int64',\n",
    "    'Frequency': 'Int64',\n",
    "    'Monetary': 'Int64'\n",
    "})\n",
    "rfm_df.info()\n"
   ]
  },
  {
   "cell_type": "markdown",
   "metadata": {},
   "source": [
    "### RFM 스코어 부여 및 세그먼트 정의하기\n",
    "\n",
    "- 분포가 다른 R, F, M 지표들을 공정한 기준으로 처리하기 위해 점수로 변환하기\n",
    "- 분위수, 균등 간격 분할, 수동 규칙 기반 중 Monetary의 값이 한 쪽으로 쏠려있기 때문에 오분위수(q=5)로 판단한다.\n",
    "- RFM 값을 점수로 변환하는 과정 대신 K-means 클러스터링 분석도 진행할 수 있으나 과제엔 RFM Score에 집중한다.\n"
   ]
  },
  {
   "cell_type": "markdown",
   "metadata": {},
   "source": [
    "**점수 부여 규칙:**\n",
    "-   **Recency (R)**: 값이 **작을수록** (더 최근일수록) 좋은 것이므로, 가장 높은 점수(5점)를 부여합니다.\n",
    "-   **Frequency (F), Monetary (M)**: 값이 **클수록** 좋은 것이므로, 가장 높은 점수(5점)를 부여합니다."
   ]
  },
  {
   "cell_type": "code",
   "execution_count": 12,
   "metadata": {},
   "outputs": [
    {
     "data": {
      "text/html": [
       "<div>\n",
       "<style scoped>\n",
       "    .dataframe tbody tr th:only-of-type {\n",
       "        vertical-align: middle;\n",
       "    }\n",
       "\n",
       "    .dataframe tbody tr th {\n",
       "        vertical-align: top;\n",
       "    }\n",
       "\n",
       "    .dataframe thead th {\n",
       "        text-align: right;\n",
       "    }\n",
       "</style>\n",
       "<table border=\"1\" class=\"dataframe\">\n",
       "  <thead>\n",
       "    <tr style=\"text-align: right;\">\n",
       "      <th></th>\n",
       "      <th>prev_grade</th>\n",
       "      <th>last_order_date</th>\n",
       "      <th>Recency</th>\n",
       "      <th>Frequency</th>\n",
       "      <th>Monetary</th>\n",
       "      <th>R_Score</th>\n",
       "      <th>F_Score</th>\n",
       "      <th>M_Score</th>\n",
       "      <th>RFM_Score</th>\n",
       "    </tr>\n",
       "    <tr>\n",
       "      <th>user_id</th>\n",
       "      <th></th>\n",
       "      <th></th>\n",
       "      <th></th>\n",
       "      <th></th>\n",
       "      <th></th>\n",
       "      <th></th>\n",
       "      <th></th>\n",
       "      <th></th>\n",
       "      <th></th>\n",
       "    </tr>\n",
       "  </thead>\n",
       "  <tbody>\n",
       "    <tr>\n",
       "      <th>12</th>\n",
       "      <td>REGULAR</td>\n",
       "      <td>2024-05-16</td>\n",
       "      <td>3</td>\n",
       "      <td>9</td>\n",
       "      <td>3522000</td>\n",
       "      <td>4</td>\n",
       "      <td>4</td>\n",
       "      <td>4</td>\n",
       "      <td>12</td>\n",
       "    </tr>\n",
       "    <tr>\n",
       "      <th>26</th>\n",
       "      <td>PREMIUM</td>\n",
       "      <td>2024-03-19</td>\n",
       "      <td>61</td>\n",
       "      <td>3</td>\n",
       "      <td>2297000</td>\n",
       "      <td>2</td>\n",
       "      <td>1</td>\n",
       "      <td>3</td>\n",
       "      <td>6</td>\n",
       "    </tr>\n",
       "    <tr>\n",
       "      <th>27</th>\n",
       "      <td>REGULAR</td>\n",
       "      <td>2024-01-23</td>\n",
       "      <td>117</td>\n",
       "      <td>5</td>\n",
       "      <td>1209000</td>\n",
       "      <td>1</td>\n",
       "      <td>2</td>\n",
       "      <td>2</td>\n",
       "      <td>5</td>\n",
       "    </tr>\n",
       "    <tr>\n",
       "      <th>1</th>\n",
       "      <td>REGULAR</td>\n",
       "      <td>2024-03-31</td>\n",
       "      <td>49</td>\n",
       "      <td>7</td>\n",
       "      <td>5592000</td>\n",
       "      <td>2</td>\n",
       "      <td>3</td>\n",
       "      <td>4</td>\n",
       "      <td>9</td>\n",
       "    </tr>\n",
       "    <tr>\n",
       "      <th>9</th>\n",
       "      <td>REGULAR</td>\n",
       "      <td>2024-04-16</td>\n",
       "      <td>33</td>\n",
       "      <td>6</td>\n",
       "      <td>6443000</td>\n",
       "      <td>3</td>\n",
       "      <td>2</td>\n",
       "      <td>4</td>\n",
       "      <td>9</td>\n",
       "    </tr>\n",
       "  </tbody>\n",
       "</table>\n",
       "</div>"
      ],
      "text/plain": [
       "        prev_grade last_order_date  Recency  Frequency  Monetary R_Score  \\\n",
       "user_id                                                                    \n",
       "12         REGULAR      2024-05-16        3          9   3522000       4   \n",
       "26         PREMIUM      2024-03-19       61          3   2297000       2   \n",
       "27         REGULAR      2024-01-23      117          5   1209000       1   \n",
       "1          REGULAR      2024-03-31       49          7   5592000       2   \n",
       "9          REGULAR      2024-04-16       33          6   6443000       3   \n",
       "\n",
       "        F_Score M_Score  RFM_Score  \n",
       "user_id                             \n",
       "12            4       4         12  \n",
       "26            1       3          6  \n",
       "27            2       2          5  \n",
       "1             3       4          9  \n",
       "9             2       4          9  "
      ]
     },
     "execution_count": 12,
     "metadata": {},
     "output_type": "execute_result"
    }
   ],
   "source": [
    "r_labels = range(4, 0, -1) # 작은 것이 좋은 것\n",
    "f_labels = range(1, 5) # 큰 것이 좋은 것\n",
    "m_labels = range(1, 5) # 큰 것이 좋은 것\n",
    "\n",
    "# qcut 분위수로 잘라서 등급(점수) 매기기\n",
    "rfm_df['R_Score'] = pd.qcut(rfm_df['Recency'], q=4, labels=r_labels, duplicates='drop')\n",
    "rfm_df['F_Score'] = pd.qcut(rfm_df['Frequency'], q=4, labels=f_labels, duplicates='drop')\n",
    "rfm_df['M_Score'] = pd.qcut(rfm_df['Monetary'], q=4, labels=m_labels, duplicates='drop')\n",
    "\n",
    "rfm_df['RFM_Score'] = rfm_df['R_Score'].astype(int) + rfm_df['F_Score'].astype(int) + rfm_df['M_Score'].astype(int)\n",
    "rfm_df.head()"
   ]
  },
  {
   "cell_type": "markdown",
   "metadata": {},
   "source": [
    "## 총 2가지의 segment 비교 진행\n",
    "\n",
    "1. 가장 기본적인 score 합산 기반 고객 세그먼트 `RFM_Segment1`\n",
    "    -   score_bins = [0,6,9,12,15]\n",
    "    -   score_labels = ['Bronze', 'Silver', 'Gold', 'Platinum']\n",
    "    - **매우 간단하고 직관적**, 명확한 등급 나누기가 편함\n",
    "    - 그러나 RFM 각각의 개별 특성이 뭉개질 수 있어서 주의\n"
   ]
  },
  {
   "cell_type": "markdown",
   "metadata": {},
   "source": [
    "\n",
    "#### 2. R,F,M 각각의 지표를 확인한 4가지 핵심 그룹으로 압축해서 특성을 구분 짓는 고객 세그먼트 `RFM_Segment2`  \n",
    "\n",
    "- 조건은 사분위수로 나타냄, 8분할 후 분포에 따라 합칠 세그먼트 확인할 것\n",
    "\n",
    "    | 세그먼트명   | 조건| 설명 |\n",
    "    |--------------|-----------------------------------------|--------------------------------------------------------------|\n",
    "    | VIP          | r ≥ 3, f = 4, m = 4                    | 모든 지표에서 상위 25% 이상의 비율을 차지한 고객              |\n",
    "    | Core         | r ≥ 3, f ≥ 2, m ≥ 3 (단, VIP 제외)      | 비즈니스의 핵심, 반드시 유지하고 특별 관리가 필요한 고객      |\n",
    "    | Frequent     | r ≥ 2, f ≥ 3, m ≤ 2                    | 구매 방문이 최근이면서 자주 주문하지만 구매력이 낮은 고객     |\n",
    "    | Past Vip     | r = 1, m ≥ 3                           | 예전엔 많이 썼으나 최근엔 안 오는 고객                        |\n",
    "    | At_Risk      | r ≤ 2, f ≥ 3, m ≥ 3 (단, Past Vip 제외)| 과거에 구매, 빈도는 높으나 최근에 뜸해진 고객                |\n",
    "    | Newbie       | r = 4, f ≤ 2, m ≤ 2                    | 최근에 구매했지만 아직 구매빈도, 구매금액이 크지 않은 고객    |\n",
    "    | Inactive     | r ≤ 2, f = 1, m ≤ 2                    | 방문도 오래됐고, 구매 빈도, 금액도 낮은 고객                  |\n",
    "    | General      | 위 조건에 해당하지 않는 고객            | 평균적인 고객                                                |\n",
    "\n"
   ]
  },
  {
   "cell_type": "code",
   "execution_count": 13,
   "metadata": {},
   "outputs": [
    {
     "name": "stdout",
     "output_type": "stream",
     "text": [
      "RFM_Segment1\n",
      "Bronze      14\n",
      "Gold         9\n",
      "Platinum     4\n",
      "Silver       3\n",
      "Name: count, dtype: int64\n"
     ]
    }
   ],
   "source": [
    "# 세그먼트 1 진행(RFM 합산 스코어 기준 분배)\n",
    "score_bins = [0,6,8,10,12]\n",
    "score_labels = ['Bronze', 'Silver', 'Gold', 'Platinum']\n",
    "rfm_df['RFM_Segment1'] = pd.cut(rfm_df['RFM_Score'], bins=score_bins, labels=score_labels)\n",
    "\n",
    "print(rfm_df['RFM_Segment1'].value_counts())"
   ]
  },
  {
   "cell_type": "code",
   "execution_count": 14,
   "metadata": {},
   "outputs": [
    {
     "name": "stdout",
     "output_type": "stream",
     "text": [
      "RFM_Segment2\n",
      "Core        8\n",
      "General     5\n",
      "Inactive    5\n",
      "Frequent    4\n",
      "Past Vip    3\n",
      "Vip         2\n",
      "Newbie      2\n",
      "At_Risk     1\n",
      "Name: count, dtype: int64\n"
     ]
    }
   ],
   "source": [
    "# 세그먼트 2 진행 \n",
    "def target_segment(row):\n",
    "    r = row['R_Score']\n",
    "    f = row['F_Score']\n",
    "    m = row['M_Score']\n",
    "    if r >= 3 and f == 4 and m == 4:\n",
    "        return 'Vip'\n",
    "    elif r >= 3 and f >= 2 and m >= 3:\n",
    "        return 'Core'\n",
    "    elif r >= 2 and f >= 3 and m <= 2:\n",
    "        return 'Frequent'\n",
    "    elif r == 1 and m >= 3:\n",
    "        return 'Past Vip'\n",
    "    elif r <= 2 and f >= 3 and m >= 3:\n",
    "        return 'At_Risk'\n",
    "    elif r == 4 and f <= 2 and m <= 2:\n",
    "        return 'Newbie'\n",
    "    elif r <= 2 and f == 1 and m <= 2:\n",
    "        return 'Inactive'\n",
    "    else:\n",
    "        return 'General'\n",
    "\n",
    "\n",
    "rfm_df['RFM_Segment2'] = rfm_df.apply(target_segment, axis=1)\n",
    "rfm_df.head()\n",
    "print(rfm_df['RFM_Segment2'].value_counts())\n",
    "\n"
   ]
  },
  {
   "cell_type": "markdown",
   "metadata": {},
   "source": [
    "#### 3. 지나치게 많은 세그먼트 8개 -> 5개(VIP 제외)로 통합시키기 `RFM_Segment3`\n",
    "- 30명의 데이터를 8개의 등급으로 나누는 것보단 5개(VIP 제외)로 나눠서 확인해보기\n",
    "\n",
    "- 조건은 사분위수로 나타냄, 8분할 후 분포에 따라 합칠 세그먼트 확인할 것\n",
    "\n",
    "    | 세그먼트명   | 조건| 설명 |\n",
    "    |--------------|-----------------------------------------|--------------------------------------------------------------|\n",
    "    | Vip\t|최우수고객|\t충성도와 구매력이 모두 높은 고객|\n",
    "    | Core\t|핵심 고객|\t충성도와 구매력이 평균 이상 고객|\n",
    "    |Frequent, Newbie|\t잠재고객(Potential/Active)|\t자주 오거나 최근에 온, 성장 가능성 있는 고객|\n",
    "    |Past Vip, At_Risk|\t이탈위험(At Risk)|\t과거에 우수했으나 최근 뜸해진 고객|\n",
    "    |Inactive\t|비활성(Inactive)\t|거의 활동 없는 고객|\n",
    "    |General|\t일반(General)\t|평균적인 고객|"
   ]
  },
  {
   "cell_type": "code",
   "execution_count": 15,
   "metadata": {},
   "outputs": [
    {
     "name": "stdout",
     "output_type": "stream",
     "text": [
      "RFM_Segment3\n",
      "핵심고객     8\n",
      "잠재고객     6\n",
      "일반       5\n",
      "비활성      5\n",
      "이탈위험     4\n",
      "최우수고객    2\n",
      "Name: count, dtype: int64\n"
     ]
    }
   ],
   "source": [
    "def merge_segment(seg):\n",
    "    if seg  == 'Vip':\n",
    "        return '최우수고객'\n",
    "    elif seg  == 'Core':\n",
    "        return '핵심고객'\n",
    "    elif seg in ['Frequent', 'Newbie']:\n",
    "        return '잠재고객'\n",
    "    elif seg in ['Past Vip', 'At_Risk']:\n",
    "        return '이탈위험'\n",
    "    elif seg == 'Inactive':\n",
    "        return '비활성'\n",
    "    else:\n",
    "        return '일반'\n",
    "\n",
    "rfm_df['RFM_Segment3'] = rfm_df['RFM_Segment2'].apply(merge_segment)\n",
    "print(rfm_df['RFM_Segment3'].value_counts())"
   ]
  },
  {
   "cell_type": "code",
   "execution_count": 16,
   "metadata": {},
   "outputs": [
    {
     "name": "stdout",
     "output_type": "stream",
     "text": [
      "세그먼트3별 RFM 지표 요약:\n"
     ]
    },
    {
     "data": {
      "text/html": [
       "<div>\n",
       "<style scoped>\n",
       "    .dataframe tbody tr th:only-of-type {\n",
       "        vertical-align: middle;\n",
       "    }\n",
       "\n",
       "    .dataframe tbody tr th {\n",
       "        vertical-align: top;\n",
       "    }\n",
       "\n",
       "    .dataframe thead th {\n",
       "        text-align: right;\n",
       "    }\n",
       "</style>\n",
       "<table border=\"1\" class=\"dataframe\">\n",
       "  <thead>\n",
       "    <tr style=\"text-align: right;\">\n",
       "      <th></th>\n",
       "      <th>최근성_평균</th>\n",
       "      <th>최근성_표준편차</th>\n",
       "      <th>구매빈도_평균</th>\n",
       "      <th>구매빈도_표준편차</th>\n",
       "      <th>구매금액_평균</th>\n",
       "      <th>구매금액_표준편차</th>\n",
       "      <th>RFM점수_평균</th>\n",
       "      <th>고객수</th>\n",
       "    </tr>\n",
       "    <tr>\n",
       "      <th>RFM_Segment3</th>\n",
       "      <th></th>\n",
       "      <th></th>\n",
       "      <th></th>\n",
       "      <th></th>\n",
       "      <th></th>\n",
       "      <th></th>\n",
       "      <th></th>\n",
       "      <th></th>\n",
       "    </tr>\n",
       "  </thead>\n",
       "  <tbody>\n",
       "    <tr>\n",
       "      <th>비활성</th>\n",
       "      <td>98.6000</td>\n",
       "      <td>29.2000</td>\n",
       "      <td>2.6000</td>\n",
       "      <td>0.5500</td>\n",
       "      <td>735000.0000</td>\n",
       "      <td>350230.6400</td>\n",
       "      <td>4.0000</td>\n",
       "      <td>5</td>\n",
       "    </tr>\n",
       "    <tr>\n",
       "      <th>이탈위험</th>\n",
       "      <td>99.0000</td>\n",
       "      <td>43.1400</td>\n",
       "      <td>4.2500</td>\n",
       "      <td>1.8900</td>\n",
       "      <td>3000750.0000</td>\n",
       "      <td>2050688.4000</td>\n",
       "      <td>6.5000</td>\n",
       "      <td>4</td>\n",
       "    </tr>\n",
       "    <tr>\n",
       "      <th>일반</th>\n",
       "      <td>77.0000</td>\n",
       "      <td>44.9900</td>\n",
       "      <td>4.6000</td>\n",
       "      <td>1.1400</td>\n",
       "      <td>1047200.0000</td>\n",
       "      <td>769540.9000</td>\n",
       "      <td>5.4000</td>\n",
       "      <td>5</td>\n",
       "    </tr>\n",
       "    <tr>\n",
       "      <th>잠재고객</th>\n",
       "      <td>28.5000</td>\n",
       "      <td>30.5400</td>\n",
       "      <td>7.3300</td>\n",
       "      <td>1.7500</td>\n",
       "      <td>530833.3300</td>\n",
       "      <td>240018.6800</td>\n",
       "      <td>7.6700</td>\n",
       "      <td>6</td>\n",
       "    </tr>\n",
       "    <tr>\n",
       "      <th>최우수고객</th>\n",
       "      <td>24.0000</td>\n",
       "      <td>29.7000</td>\n",
       "      <td>10.0000</td>\n",
       "      <td>1.4100</td>\n",
       "      <td>3026000.0000</td>\n",
       "      <td>701449.9300</td>\n",
       "      <td>11.5000</td>\n",
       "      <td>2</td>\n",
       "    </tr>\n",
       "    <tr>\n",
       "      <th>핵심고객</th>\n",
       "      <td>21.3800</td>\n",
       "      <td>12.7400</td>\n",
       "      <td>7.8800</td>\n",
       "      <td>2.3600</td>\n",
       "      <td>4085250.0000</td>\n",
       "      <td>2947054.5000</td>\n",
       "      <td>10.0000</td>\n",
       "      <td>8</td>\n",
       "    </tr>\n",
       "  </tbody>\n",
       "</table>\n",
       "</div>"
      ],
      "text/plain": [
       "              최근성_평균  최근성_표준편차  구매빈도_평균  구매빈도_표준편차      구매금액_평균    구매금액_표준편차  \\\n",
       "RFM_Segment3                                                                   \n",
       "비활성          98.6000   29.2000   2.6000     0.5500  735000.0000  350230.6400   \n",
       "이탈위험         99.0000   43.1400   4.2500     1.8900 3000750.0000 2050688.4000   \n",
       "일반           77.0000   44.9900   4.6000     1.1400 1047200.0000  769540.9000   \n",
       "잠재고객         28.5000   30.5400   7.3300     1.7500  530833.3300  240018.6800   \n",
       "최우수고객        24.0000   29.7000  10.0000     1.4100 3026000.0000  701449.9300   \n",
       "핵심고객         21.3800   12.7400   7.8800     2.3600 4085250.0000 2947054.5000   \n",
       "\n",
       "              RFM점수_평균  고객수  \n",
       "RFM_Segment3                 \n",
       "비활성             4.0000    5  \n",
       "이탈위험            6.5000    4  \n",
       "일반              5.4000    5  \n",
       "잠재고객            7.6700    6  \n",
       "최우수고객          11.5000    2  \n",
       "핵심고객           10.0000    8  "
      ]
     },
     "execution_count": 16,
     "metadata": {},
     "output_type": "execute_result"
    }
   ],
   "source": [
    "# 세그먼트3 별 RFM 지표 평균값 분석\n",
    "segment_summary = rfm_df.groupby('RFM_Segment3').agg({\n",
    "    'Recency': ['mean', 'std'],\n",
    "    'Frequency': ['mean', 'std'], \n",
    "    'Monetary': ['mean', 'std'],\n",
    "    'RFM_Score': ['mean', 'count']\n",
    "}).round(2)\n",
    "\n",
    "segment_summary.columns = ['최근성_평균', '최근성_표준편차', '구매빈도_평균', '구매빈도_표준편차', \n",
    "                          '구매금액_평균', '구매금액_표준편차', 'RFM점수_평균', '고객수']\n",
    "print(\"세그먼트3별 RFM 지표 요약:\")\n",
    "segment_summary"
   ]
  },
  {
   "cell_type": "code",
   "execution_count": 17,
   "metadata": {},
   "outputs": [
    {
     "data": {
      "application/vnd.plotly.v1+json": {
       "config": {
        "plotlyServerURL": "https://plot.ly"
       },
       "data": [
        {
         "hovertemplate": "RFM_Segment3=최우수고객<br>최근성 (일)=%{x}<br>구매빈도 (회)=%{y}<br>구매금액 (원)=%{z}<br>RFM_Score=%{marker.size}<extra></extra>",
         "legendgroup": "최우수고객",
         "marker": {
          "color": "#636efa",
          "size": {
           "bdata": "DAAAAAsAAAA=",
           "dtype": "i4"
          },
          "sizemode": "area",
          "sizeref": 0.03,
          "symbol": "circle"
         },
         "mode": "markers",
         "name": "최우수고객",
         "scene": "scene",
         "showlegend": true,
         "type": "scatter3d",
         "x": {
          "bdata": "Ay0=",
          "dtype": "i1"
         },
         "y": {
          "bdata": "CQs=",
          "dtype": "i1"
         },
         "z": {
          "bdata": "0L01ANCaJgA=",
          "dtype": "i4"
         }
        },
        {
         "hovertemplate": "RFM_Segment3=일반<br>최근성 (일)=%{x}<br>구매빈도 (회)=%{y}<br>구매금액 (원)=%{z}<br>RFM_Score=%{marker.size}<extra></extra>",
         "legendgroup": "일반",
         "marker": {
          "color": "#EF553B",
          "size": {
           "bdata": "BgAAAAUAAAAEAAAABgAAAAYAAAA=",
           "dtype": "i4"
          },
          "sizemode": "area",
          "sizeref": 0.03,
          "symbol": "circle"
         },
         "mode": "markers",
         "name": "일반",
         "scene": "scene",
         "showlegend": true,
         "type": "scatter3d",
         "x": {
          "bdata": "PQB1AIEAFQA5AA==",
          "dtype": "i2"
         },
         "y": {
          "bdata": "AwUFBAY=",
          "dtype": "i1"
         },
         "z": {
          "bdata": "qAwjAKhyEgCY/gkAUKsEAOi7CwA=",
          "dtype": "i4"
         }
        },
        {
         "hovertemplate": "RFM_Segment3=이탈위험<br>최근성 (일)=%{x}<br>구매빈도 (회)=%{y}<br>구매금액 (원)=%{z}<br>RFM_Score=%{marker.size}<extra></extra>",
         "legendgroup": "이탈위험",
         "marker": {
          "color": "#00cc96",
          "size": {
           "bdata": "CQAAAAYAAAAFAAAABgAAAA==",
           "dtype": "i4"
          },
          "sizemode": "area",
          "sizeref": 0.03,
          "symbol": "circle"
         },
         "mode": "markers",
         "name": "이탈위험",
         "scene": "scene",
         "showlegend": true,
         "type": "scatter3d",
         "x": {
          "bdata": "MQBNAIkAhQA=",
          "dtype": "i2"
         },
         "y": {
          "bdata": "BwMDBA==",
          "dtype": "i1"
         },
         "z": {
          "bdata": "wFNVAGhpOABIfBMASO0VAA==",
          "dtype": "i4"
         }
        },
        {
         "hovertemplate": "RFM_Segment3=핵심고객<br>최근성 (일)=%{x}<br>구매빈도 (회)=%{y}<br>구매금액 (원)=%{z}<br>RFM_Score=%{marker.size}<extra></extra>",
         "legendgroup": "핵심고객",
         "marker": {
          "color": "#ab63fa",
          "size": {
           "bdata": "CQAAAAoAAAAJAAAACgAAAAsAAAAKAAAACgAAAAsAAAA=",
           "dtype": "i4"
          },
          "sizemode": "area",
          "sizeref": 0.03,
          "symbol": "circle"
         },
         "mode": "markers",
         "name": "핵심고객",
         "scene": "scene",
         "showlegend": true,
         "type": "scatter3d",
         "x": {
          "bdata": "IRkpCREEHQ0=",
          "dtype": "i1"
         },
         "y": {
          "bdata": "BggHBgcGCww=",
          "dtype": "i1"
         },
         "z": {
          "bdata": "+E9iAIgAGABYixcA0MJJAOA5kAAwAFIA+OEgAGD1EwA=",
          "dtype": "i4"
         }
        },
        {
         "hovertemplate": "RFM_Segment3=비활성<br>최근성 (일)=%{x}<br>구매빈도 (회)=%{y}<br>구매금액 (원)=%{z}<br>RFM_Score=%{marker.size}<extra></extra>",
         "legendgroup": "비활성",
         "marker": {
          "color": "#FFA15A",
          "size": {
           "bdata": "BAAAAAMAAAAFAAAAAwAAAAUAAAA=",
           "dtype": "i4"
          },
          "sizemode": "area",
          "sizeref": 0.03,
          "symbol": "circle"
         },
         "mode": "markers",
         "name": "비활성",
         "scene": "scene",
         "showlegend": true,
         "type": "scatter3d",
         "x": {
          "bdata": "eXFBfUU=",
          "dtype": "i1"
         },
         "y": {
          "bdata": "AgMDAgM=",
          "dtype": "i1"
         },
         "z": {
          "bdata": "QMUOADijBgD41g0AAGUEAAhvEAA=",
          "dtype": "i4"
         }
        },
        {
         "hovertemplate": "RFM_Segment3=잠재고객<br>최근성 (일)=%{x}<br>구매빈도 (회)=%{y}<br>구매금액 (원)=%{z}<br>RFM_Score=%{marker.size}<extra></extra>",
         "legendgroup": "잠재고객",
         "marker": {
          "color": "#19d3f3",
          "size": {
           "bdata": "CQAAAAkAAAAIAAAABwAAAAcAAAAGAAAA",
           "dtype": "i4"
          },
          "sizemode": "area",
          "sizeref": 0.03,
          "symbol": "circle"
         },
         "mode": "markers",
         "name": "잠재고객",
         "scene": "scene",
         "showlegend": true,
         "type": "scatter3d",
         "x": {
          "bdata": "BSUCNQFJ",
          "dtype": "i1"
         },
         "y": {
          "bdata": "CAgGCgUH",
          "dtype": "i1"
         },
         "z": {
          "bdata": "OBoIAEDXCwD43AwAeMIGAKhPAwDYuAUA",
          "dtype": "i4"
         }
        }
       ],
       "layout": {
        "legend": {
         "itemsizing": "constant",
         "title": {
          "text": "RFM_Segment3"
         },
         "tracegroupgap": 0
        },
        "scene": {
         "domain": {
          "x": [
           0,
           1
          ],
          "y": [
           0,
           1
          ]
         },
         "xaxis": {
          "title": {
           "text": "최근성 (일)"
          }
         },
         "yaxis": {
          "title": {
           "text": "구매빈도 (회)"
          }
         },
         "zaxis": {
          "title": {
           "text": "구매금액 (원)"
          }
         }
        },
        "template": {
         "data": {
          "bar": [
           {
            "error_x": {
             "color": "#2a3f5f"
            },
            "error_y": {
             "color": "#2a3f5f"
            },
            "marker": {
             "line": {
              "color": "#E5ECF6",
              "width": 0.5
             },
             "pattern": {
              "fillmode": "overlay",
              "size": 10,
              "solidity": 0.2
             }
            },
            "type": "bar"
           }
          ],
          "barpolar": [
           {
            "marker": {
             "line": {
              "color": "#E5ECF6",
              "width": 0.5
             },
             "pattern": {
              "fillmode": "overlay",
              "size": 10,
              "solidity": 0.2
             }
            },
            "type": "barpolar"
           }
          ],
          "carpet": [
           {
            "aaxis": {
             "endlinecolor": "#2a3f5f",
             "gridcolor": "white",
             "linecolor": "white",
             "minorgridcolor": "white",
             "startlinecolor": "#2a3f5f"
            },
            "baxis": {
             "endlinecolor": "#2a3f5f",
             "gridcolor": "white",
             "linecolor": "white",
             "minorgridcolor": "white",
             "startlinecolor": "#2a3f5f"
            },
            "type": "carpet"
           }
          ],
          "choropleth": [
           {
            "colorbar": {
             "outlinewidth": 0,
             "ticks": ""
            },
            "type": "choropleth"
           }
          ],
          "contour": [
           {
            "colorbar": {
             "outlinewidth": 0,
             "ticks": ""
            },
            "colorscale": [
             [
              0,
              "#0d0887"
             ],
             [
              0.1111111111111111,
              "#46039f"
             ],
             [
              0.2222222222222222,
              "#7201a8"
             ],
             [
              0.3333333333333333,
              "#9c179e"
             ],
             [
              0.4444444444444444,
              "#bd3786"
             ],
             [
              0.5555555555555556,
              "#d8576b"
             ],
             [
              0.6666666666666666,
              "#ed7953"
             ],
             [
              0.7777777777777778,
              "#fb9f3a"
             ],
             [
              0.8888888888888888,
              "#fdca26"
             ],
             [
              1,
              "#f0f921"
             ]
            ],
            "type": "contour"
           }
          ],
          "contourcarpet": [
           {
            "colorbar": {
             "outlinewidth": 0,
             "ticks": ""
            },
            "type": "contourcarpet"
           }
          ],
          "heatmap": [
           {
            "colorbar": {
             "outlinewidth": 0,
             "ticks": ""
            },
            "colorscale": [
             [
              0,
              "#0d0887"
             ],
             [
              0.1111111111111111,
              "#46039f"
             ],
             [
              0.2222222222222222,
              "#7201a8"
             ],
             [
              0.3333333333333333,
              "#9c179e"
             ],
             [
              0.4444444444444444,
              "#bd3786"
             ],
             [
              0.5555555555555556,
              "#d8576b"
             ],
             [
              0.6666666666666666,
              "#ed7953"
             ],
             [
              0.7777777777777778,
              "#fb9f3a"
             ],
             [
              0.8888888888888888,
              "#fdca26"
             ],
             [
              1,
              "#f0f921"
             ]
            ],
            "type": "heatmap"
           }
          ],
          "histogram": [
           {
            "marker": {
             "pattern": {
              "fillmode": "overlay",
              "size": 10,
              "solidity": 0.2
             }
            },
            "type": "histogram"
           }
          ],
          "histogram2d": [
           {
            "colorbar": {
             "outlinewidth": 0,
             "ticks": ""
            },
            "colorscale": [
             [
              0,
              "#0d0887"
             ],
             [
              0.1111111111111111,
              "#46039f"
             ],
             [
              0.2222222222222222,
              "#7201a8"
             ],
             [
              0.3333333333333333,
              "#9c179e"
             ],
             [
              0.4444444444444444,
              "#bd3786"
             ],
             [
              0.5555555555555556,
              "#d8576b"
             ],
             [
              0.6666666666666666,
              "#ed7953"
             ],
             [
              0.7777777777777778,
              "#fb9f3a"
             ],
             [
              0.8888888888888888,
              "#fdca26"
             ],
             [
              1,
              "#f0f921"
             ]
            ],
            "type": "histogram2d"
           }
          ],
          "histogram2dcontour": [
           {
            "colorbar": {
             "outlinewidth": 0,
             "ticks": ""
            },
            "colorscale": [
             [
              0,
              "#0d0887"
             ],
             [
              0.1111111111111111,
              "#46039f"
             ],
             [
              0.2222222222222222,
              "#7201a8"
             ],
             [
              0.3333333333333333,
              "#9c179e"
             ],
             [
              0.4444444444444444,
              "#bd3786"
             ],
             [
              0.5555555555555556,
              "#d8576b"
             ],
             [
              0.6666666666666666,
              "#ed7953"
             ],
             [
              0.7777777777777778,
              "#fb9f3a"
             ],
             [
              0.8888888888888888,
              "#fdca26"
             ],
             [
              1,
              "#f0f921"
             ]
            ],
            "type": "histogram2dcontour"
           }
          ],
          "mesh3d": [
           {
            "colorbar": {
             "outlinewidth": 0,
             "ticks": ""
            },
            "type": "mesh3d"
           }
          ],
          "parcoords": [
           {
            "line": {
             "colorbar": {
              "outlinewidth": 0,
              "ticks": ""
             }
            },
            "type": "parcoords"
           }
          ],
          "pie": [
           {
            "automargin": true,
            "type": "pie"
           }
          ],
          "scatter": [
           {
            "fillpattern": {
             "fillmode": "overlay",
             "size": 10,
             "solidity": 0.2
            },
            "type": "scatter"
           }
          ],
          "scatter3d": [
           {
            "line": {
             "colorbar": {
              "outlinewidth": 0,
              "ticks": ""
             }
            },
            "marker": {
             "colorbar": {
              "outlinewidth": 0,
              "ticks": ""
             }
            },
            "type": "scatter3d"
           }
          ],
          "scattercarpet": [
           {
            "marker": {
             "colorbar": {
              "outlinewidth": 0,
              "ticks": ""
             }
            },
            "type": "scattercarpet"
           }
          ],
          "scattergeo": [
           {
            "marker": {
             "colorbar": {
              "outlinewidth": 0,
              "ticks": ""
             }
            },
            "type": "scattergeo"
           }
          ],
          "scattergl": [
           {
            "marker": {
             "colorbar": {
              "outlinewidth": 0,
              "ticks": ""
             }
            },
            "type": "scattergl"
           }
          ],
          "scattermap": [
           {
            "marker": {
             "colorbar": {
              "outlinewidth": 0,
              "ticks": ""
             }
            },
            "type": "scattermap"
           }
          ],
          "scattermapbox": [
           {
            "marker": {
             "colorbar": {
              "outlinewidth": 0,
              "ticks": ""
             }
            },
            "type": "scattermapbox"
           }
          ],
          "scatterpolar": [
           {
            "marker": {
             "colorbar": {
              "outlinewidth": 0,
              "ticks": ""
             }
            },
            "type": "scatterpolar"
           }
          ],
          "scatterpolargl": [
           {
            "marker": {
             "colorbar": {
              "outlinewidth": 0,
              "ticks": ""
             }
            },
            "type": "scatterpolargl"
           }
          ],
          "scatterternary": [
           {
            "marker": {
             "colorbar": {
              "outlinewidth": 0,
              "ticks": ""
             }
            },
            "type": "scatterternary"
           }
          ],
          "surface": [
           {
            "colorbar": {
             "outlinewidth": 0,
             "ticks": ""
            },
            "colorscale": [
             [
              0,
              "#0d0887"
             ],
             [
              0.1111111111111111,
              "#46039f"
             ],
             [
              0.2222222222222222,
              "#7201a8"
             ],
             [
              0.3333333333333333,
              "#9c179e"
             ],
             [
              0.4444444444444444,
              "#bd3786"
             ],
             [
              0.5555555555555556,
              "#d8576b"
             ],
             [
              0.6666666666666666,
              "#ed7953"
             ],
             [
              0.7777777777777778,
              "#fb9f3a"
             ],
             [
              0.8888888888888888,
              "#fdca26"
             ],
             [
              1,
              "#f0f921"
             ]
            ],
            "type": "surface"
           }
          ],
          "table": [
           {
            "cells": {
             "fill": {
              "color": "#EBF0F8"
             },
             "line": {
              "color": "white"
             }
            },
            "header": {
             "fill": {
              "color": "#C8D4E3"
             },
             "line": {
              "color": "white"
             }
            },
            "type": "table"
           }
          ]
         },
         "layout": {
          "annotationdefaults": {
           "arrowcolor": "#2a3f5f",
           "arrowhead": 0,
           "arrowwidth": 1
          },
          "autotypenumbers": "strict",
          "coloraxis": {
           "colorbar": {
            "outlinewidth": 0,
            "ticks": ""
           }
          },
          "colorscale": {
           "diverging": [
            [
             0,
             "#8e0152"
            ],
            [
             0.1,
             "#c51b7d"
            ],
            [
             0.2,
             "#de77ae"
            ],
            [
             0.3,
             "#f1b6da"
            ],
            [
             0.4,
             "#fde0ef"
            ],
            [
             0.5,
             "#f7f7f7"
            ],
            [
             0.6,
             "#e6f5d0"
            ],
            [
             0.7,
             "#b8e186"
            ],
            [
             0.8,
             "#7fbc41"
            ],
            [
             0.9,
             "#4d9221"
            ],
            [
             1,
             "#276419"
            ]
           ],
           "sequential": [
            [
             0,
             "#0d0887"
            ],
            [
             0.1111111111111111,
             "#46039f"
            ],
            [
             0.2222222222222222,
             "#7201a8"
            ],
            [
             0.3333333333333333,
             "#9c179e"
            ],
            [
             0.4444444444444444,
             "#bd3786"
            ],
            [
             0.5555555555555556,
             "#d8576b"
            ],
            [
             0.6666666666666666,
             "#ed7953"
            ],
            [
             0.7777777777777778,
             "#fb9f3a"
            ],
            [
             0.8888888888888888,
             "#fdca26"
            ],
            [
             1,
             "#f0f921"
            ]
           ],
           "sequentialminus": [
            [
             0,
             "#0d0887"
            ],
            [
             0.1111111111111111,
             "#46039f"
            ],
            [
             0.2222222222222222,
             "#7201a8"
            ],
            [
             0.3333333333333333,
             "#9c179e"
            ],
            [
             0.4444444444444444,
             "#bd3786"
            ],
            [
             0.5555555555555556,
             "#d8576b"
            ],
            [
             0.6666666666666666,
             "#ed7953"
            ],
            [
             0.7777777777777778,
             "#fb9f3a"
            ],
            [
             0.8888888888888888,
             "#fdca26"
            ],
            [
             1,
             "#f0f921"
            ]
           ]
          },
          "colorway": [
           "#636efa",
           "#EF553B",
           "#00cc96",
           "#ab63fa",
           "#FFA15A",
           "#19d3f3",
           "#FF6692",
           "#B6E880",
           "#FF97FF",
           "#FECB52"
          ],
          "font": {
           "color": "#2a3f5f"
          },
          "geo": {
           "bgcolor": "white",
           "lakecolor": "white",
           "landcolor": "#E5ECF6",
           "showlakes": true,
           "showland": true,
           "subunitcolor": "white"
          },
          "hoverlabel": {
           "align": "left"
          },
          "hovermode": "closest",
          "mapbox": {
           "style": "light"
          },
          "paper_bgcolor": "white",
          "plot_bgcolor": "#E5ECF6",
          "polar": {
           "angularaxis": {
            "gridcolor": "white",
            "linecolor": "white",
            "ticks": ""
           },
           "bgcolor": "#E5ECF6",
           "radialaxis": {
            "gridcolor": "white",
            "linecolor": "white",
            "ticks": ""
           }
          },
          "scene": {
           "xaxis": {
            "backgroundcolor": "#E5ECF6",
            "gridcolor": "white",
            "gridwidth": 2,
            "linecolor": "white",
            "showbackground": true,
            "ticks": "",
            "zerolinecolor": "white"
           },
           "yaxis": {
            "backgroundcolor": "#E5ECF6",
            "gridcolor": "white",
            "gridwidth": 2,
            "linecolor": "white",
            "showbackground": true,
            "ticks": "",
            "zerolinecolor": "white"
           },
           "zaxis": {
            "backgroundcolor": "#E5ECF6",
            "gridcolor": "white",
            "gridwidth": 2,
            "linecolor": "white",
            "showbackground": true,
            "ticks": "",
            "zerolinecolor": "white"
           }
          },
          "shapedefaults": {
           "line": {
            "color": "#2a3f5f"
           }
          },
          "ternary": {
           "aaxis": {
            "gridcolor": "white",
            "linecolor": "white",
            "ticks": ""
           },
           "baxis": {
            "gridcolor": "white",
            "linecolor": "white",
            "ticks": ""
           },
           "bgcolor": "#E5ECF6",
           "caxis": {
            "gridcolor": "white",
            "linecolor": "white",
            "ticks": ""
           }
          },
          "title": {
           "x": 0.05
          },
          "xaxis": {
           "automargin": true,
           "gridcolor": "white",
           "linecolor": "white",
           "ticks": "",
           "title": {
            "standoff": 15
           },
           "zerolinecolor": "white",
           "zerolinewidth": 2
          },
          "yaxis": {
           "automargin": true,
           "gridcolor": "white",
           "linecolor": "white",
           "ticks": "",
           "title": {
            "standoff": 15
           },
           "zerolinecolor": "white",
           "zerolinewidth": 2
          }
         }
        },
        "title": {
         "text": "RFM 세그먼트3 별 3차원 분포"
        }
       }
      }
     },
     "metadata": {},
     "output_type": "display_data"
    }
   ],
   "source": [
    "# 세그먼트별 3D 산점도 시각화 (R, F, M 관계)\n",
    "fig_3d = px.scatter_3d(rfm_df, x='Recency', y='Frequency', z='Monetary',\n",
    "                       color='RFM_Segment3', size='RFM_Score',\n",
    "                       title='RFM 세그먼트3 별 3차원 분포',\n",
    "                       labels={'Recency': '최근성 (일)', \n",
    "                              'Frequency': '구매빈도 (회)', \n",
    "                              'Monetary': '구매금액 (원)'})\n",
    "fig_3d.show()"
   ]
  },
  {
   "cell_type": "markdown",
   "metadata": {},
   "source": [
    "#### 추가 분석 수행\n",
    "- 기존 라벨링된 등급과 RFM 스코어 합산 기반 등급의 차이는 어느 정도 일까?"
   ]
  },
  {
   "cell_type": "markdown",
   "metadata": {},
   "source": [
    "### 히트맵을 그려서 이전 등급과 현재 rfm score 등급을 비교해보기\n",
    "- rfm 등급 \n",
    "    - **0~5** -> bronze \n",
    "    - **6~8** -> silver \n",
    "    - **9~11** -> gold \n",
    "    - **12~15** -> platinum \n",
    "\n",
    "비교를 위해 bronze, silver를 regular와 비교, gold, platinum을 premium과 비교한다."
   ]
  },
  {
   "cell_type": "code",
   "execution_count": 18,
   "metadata": {},
   "outputs": [
    {
     "name": "stdout",
     "output_type": "stream",
     "text": [
      "prev_grade  PREMIUM  REGULAR\n",
      "RFM_Group                   \n",
      "PREMIUM           2       11\n",
      "REGULAR          11        6\n"
     ]
    }
   ],
   "source": [
    "# 1. RFM 등급 그룹핑 컬럼 추가해서 이전 등급과 비교\n",
    "def rfm_group(seg):\n",
    "    if seg in ['Bronze', 'Silver']:\n",
    "        return 'REGULAR'\n",
    "    elif seg in ['Gold', 'Platinum']:\n",
    "        return 'PREMIUM'\n",
    "\n",
    "rfm_df['RFM_Group'] = rfm_df['RFM_Segment1'].apply(rfm_group)\n",
    "cross_table_2x2 = pd.crosstab(rfm_df['RFM_Group'], rfm_df['prev_grade'])\n",
    "print(cross_table_2x2)"
   ]
  },
  {
   "cell_type": "code",
   "execution_count": 19,
   "metadata": {},
   "outputs": [
    {
     "data": {
      "application/vnd.plotly.v1+json": {
       "config": {
        "plotlyServerURL": "https://plot.ly"
       },
       "data": [
        {
         "colorscale": [
          [
           0,
           "rgb(103,0,31)"
          ],
          [
           0.1,
           "rgb(178,24,43)"
          ],
          [
           0.2,
           "rgb(214,96,77)"
          ],
          [
           0.3,
           "rgb(244,165,130)"
          ],
          [
           0.4,
           "rgb(253,219,199)"
          ],
          [
           0.5,
           "rgb(247,247,247)"
          ],
          [
           0.6,
           "rgb(209,229,240)"
          ],
          [
           0.7,
           "rgb(146,197,222)"
          ],
          [
           0.8,
           "rgb(67,147,195)"
          ],
          [
           0.9,
           "rgb(33,102,172)"
          ],
          [
           1,
           "rgb(5,48,97)"
          ]
         ],
         "hoverongaps": false,
         "text": {
          "bdata": "AgsLBg==",
          "dtype": "i1",
          "shape": "2, 2"
         },
         "texttemplate": "%{text}",
         "type": "heatmap",
         "x": [
          "PREMIUM",
          "REGULAR"
         ],
         "y": [
          "PREMIUM",
          "REGULAR"
         ],
         "z": {
          "bdata": "AgsLBg==",
          "dtype": "i1",
          "shape": "2, 2"
         }
        }
       ],
       "layout": {
        "height": 400,
        "template": {
         "data": {
          "bar": [
           {
            "error_x": {
             "color": "#2a3f5f"
            },
            "error_y": {
             "color": "#2a3f5f"
            },
            "marker": {
             "line": {
              "color": "#E5ECF6",
              "width": 0.5
             },
             "pattern": {
              "fillmode": "overlay",
              "size": 10,
              "solidity": 0.2
             }
            },
            "type": "bar"
           }
          ],
          "barpolar": [
           {
            "marker": {
             "line": {
              "color": "#E5ECF6",
              "width": 0.5
             },
             "pattern": {
              "fillmode": "overlay",
              "size": 10,
              "solidity": 0.2
             }
            },
            "type": "barpolar"
           }
          ],
          "carpet": [
           {
            "aaxis": {
             "endlinecolor": "#2a3f5f",
             "gridcolor": "white",
             "linecolor": "white",
             "minorgridcolor": "white",
             "startlinecolor": "#2a3f5f"
            },
            "baxis": {
             "endlinecolor": "#2a3f5f",
             "gridcolor": "white",
             "linecolor": "white",
             "minorgridcolor": "white",
             "startlinecolor": "#2a3f5f"
            },
            "type": "carpet"
           }
          ],
          "choropleth": [
           {
            "colorbar": {
             "outlinewidth": 0,
             "ticks": ""
            },
            "type": "choropleth"
           }
          ],
          "contour": [
           {
            "colorbar": {
             "outlinewidth": 0,
             "ticks": ""
            },
            "colorscale": [
             [
              0,
              "#0d0887"
             ],
             [
              0.1111111111111111,
              "#46039f"
             ],
             [
              0.2222222222222222,
              "#7201a8"
             ],
             [
              0.3333333333333333,
              "#9c179e"
             ],
             [
              0.4444444444444444,
              "#bd3786"
             ],
             [
              0.5555555555555556,
              "#d8576b"
             ],
             [
              0.6666666666666666,
              "#ed7953"
             ],
             [
              0.7777777777777778,
              "#fb9f3a"
             ],
             [
              0.8888888888888888,
              "#fdca26"
             ],
             [
              1,
              "#f0f921"
             ]
            ],
            "type": "contour"
           }
          ],
          "contourcarpet": [
           {
            "colorbar": {
             "outlinewidth": 0,
             "ticks": ""
            },
            "type": "contourcarpet"
           }
          ],
          "heatmap": [
           {
            "colorbar": {
             "outlinewidth": 0,
             "ticks": ""
            },
            "colorscale": [
             [
              0,
              "#0d0887"
             ],
             [
              0.1111111111111111,
              "#46039f"
             ],
             [
              0.2222222222222222,
              "#7201a8"
             ],
             [
              0.3333333333333333,
              "#9c179e"
             ],
             [
              0.4444444444444444,
              "#bd3786"
             ],
             [
              0.5555555555555556,
              "#d8576b"
             ],
             [
              0.6666666666666666,
              "#ed7953"
             ],
             [
              0.7777777777777778,
              "#fb9f3a"
             ],
             [
              0.8888888888888888,
              "#fdca26"
             ],
             [
              1,
              "#f0f921"
             ]
            ],
            "type": "heatmap"
           }
          ],
          "histogram": [
           {
            "marker": {
             "pattern": {
              "fillmode": "overlay",
              "size": 10,
              "solidity": 0.2
             }
            },
            "type": "histogram"
           }
          ],
          "histogram2d": [
           {
            "colorbar": {
             "outlinewidth": 0,
             "ticks": ""
            },
            "colorscale": [
             [
              0,
              "#0d0887"
             ],
             [
              0.1111111111111111,
              "#46039f"
             ],
             [
              0.2222222222222222,
              "#7201a8"
             ],
             [
              0.3333333333333333,
              "#9c179e"
             ],
             [
              0.4444444444444444,
              "#bd3786"
             ],
             [
              0.5555555555555556,
              "#d8576b"
             ],
             [
              0.6666666666666666,
              "#ed7953"
             ],
             [
              0.7777777777777778,
              "#fb9f3a"
             ],
             [
              0.8888888888888888,
              "#fdca26"
             ],
             [
              1,
              "#f0f921"
             ]
            ],
            "type": "histogram2d"
           }
          ],
          "histogram2dcontour": [
           {
            "colorbar": {
             "outlinewidth": 0,
             "ticks": ""
            },
            "colorscale": [
             [
              0,
              "#0d0887"
             ],
             [
              0.1111111111111111,
              "#46039f"
             ],
             [
              0.2222222222222222,
              "#7201a8"
             ],
             [
              0.3333333333333333,
              "#9c179e"
             ],
             [
              0.4444444444444444,
              "#bd3786"
             ],
             [
              0.5555555555555556,
              "#d8576b"
             ],
             [
              0.6666666666666666,
              "#ed7953"
             ],
             [
              0.7777777777777778,
              "#fb9f3a"
             ],
             [
              0.8888888888888888,
              "#fdca26"
             ],
             [
              1,
              "#f0f921"
             ]
            ],
            "type": "histogram2dcontour"
           }
          ],
          "mesh3d": [
           {
            "colorbar": {
             "outlinewidth": 0,
             "ticks": ""
            },
            "type": "mesh3d"
           }
          ],
          "parcoords": [
           {
            "line": {
             "colorbar": {
              "outlinewidth": 0,
              "ticks": ""
             }
            },
            "type": "parcoords"
           }
          ],
          "pie": [
           {
            "automargin": true,
            "type": "pie"
           }
          ],
          "scatter": [
           {
            "fillpattern": {
             "fillmode": "overlay",
             "size": 10,
             "solidity": 0.2
            },
            "type": "scatter"
           }
          ],
          "scatter3d": [
           {
            "line": {
             "colorbar": {
              "outlinewidth": 0,
              "ticks": ""
             }
            },
            "marker": {
             "colorbar": {
              "outlinewidth": 0,
              "ticks": ""
             }
            },
            "type": "scatter3d"
           }
          ],
          "scattercarpet": [
           {
            "marker": {
             "colorbar": {
              "outlinewidth": 0,
              "ticks": ""
             }
            },
            "type": "scattercarpet"
           }
          ],
          "scattergeo": [
           {
            "marker": {
             "colorbar": {
              "outlinewidth": 0,
              "ticks": ""
             }
            },
            "type": "scattergeo"
           }
          ],
          "scattergl": [
           {
            "marker": {
             "colorbar": {
              "outlinewidth": 0,
              "ticks": ""
             }
            },
            "type": "scattergl"
           }
          ],
          "scattermap": [
           {
            "marker": {
             "colorbar": {
              "outlinewidth": 0,
              "ticks": ""
             }
            },
            "type": "scattermap"
           }
          ],
          "scattermapbox": [
           {
            "marker": {
             "colorbar": {
              "outlinewidth": 0,
              "ticks": ""
             }
            },
            "type": "scattermapbox"
           }
          ],
          "scatterpolar": [
           {
            "marker": {
             "colorbar": {
              "outlinewidth": 0,
              "ticks": ""
             }
            },
            "type": "scatterpolar"
           }
          ],
          "scatterpolargl": [
           {
            "marker": {
             "colorbar": {
              "outlinewidth": 0,
              "ticks": ""
             }
            },
            "type": "scatterpolargl"
           }
          ],
          "scatterternary": [
           {
            "marker": {
             "colorbar": {
              "outlinewidth": 0,
              "ticks": ""
             }
            },
            "type": "scatterternary"
           }
          ],
          "surface": [
           {
            "colorbar": {
             "outlinewidth": 0,
             "ticks": ""
            },
            "colorscale": [
             [
              0,
              "#0d0887"
             ],
             [
              0.1111111111111111,
              "#46039f"
             ],
             [
              0.2222222222222222,
              "#7201a8"
             ],
             [
              0.3333333333333333,
              "#9c179e"
             ],
             [
              0.4444444444444444,
              "#bd3786"
             ],
             [
              0.5555555555555556,
              "#d8576b"
             ],
             [
              0.6666666666666666,
              "#ed7953"
             ],
             [
              0.7777777777777778,
              "#fb9f3a"
             ],
             [
              0.8888888888888888,
              "#fdca26"
             ],
             [
              1,
              "#f0f921"
             ]
            ],
            "type": "surface"
           }
          ],
          "table": [
           {
            "cells": {
             "fill": {
              "color": "#EBF0F8"
             },
             "line": {
              "color": "white"
             }
            },
            "header": {
             "fill": {
              "color": "#C8D4E3"
             },
             "line": {
              "color": "white"
             }
            },
            "type": "table"
           }
          ]
         },
         "layout": {
          "annotationdefaults": {
           "arrowcolor": "#2a3f5f",
           "arrowhead": 0,
           "arrowwidth": 1
          },
          "autotypenumbers": "strict",
          "coloraxis": {
           "colorbar": {
            "outlinewidth": 0,
            "ticks": ""
           }
          },
          "colorscale": {
           "diverging": [
            [
             0,
             "#8e0152"
            ],
            [
             0.1,
             "#c51b7d"
            ],
            [
             0.2,
             "#de77ae"
            ],
            [
             0.3,
             "#f1b6da"
            ],
            [
             0.4,
             "#fde0ef"
            ],
            [
             0.5,
             "#f7f7f7"
            ],
            [
             0.6,
             "#e6f5d0"
            ],
            [
             0.7,
             "#b8e186"
            ],
            [
             0.8,
             "#7fbc41"
            ],
            [
             0.9,
             "#4d9221"
            ],
            [
             1,
             "#276419"
            ]
           ],
           "sequential": [
            [
             0,
             "#0d0887"
            ],
            [
             0.1111111111111111,
             "#46039f"
            ],
            [
             0.2222222222222222,
             "#7201a8"
            ],
            [
             0.3333333333333333,
             "#9c179e"
            ],
            [
             0.4444444444444444,
             "#bd3786"
            ],
            [
             0.5555555555555556,
             "#d8576b"
            ],
            [
             0.6666666666666666,
             "#ed7953"
            ],
            [
             0.7777777777777778,
             "#fb9f3a"
            ],
            [
             0.8888888888888888,
             "#fdca26"
            ],
            [
             1,
             "#f0f921"
            ]
           ],
           "sequentialminus": [
            [
             0,
             "#0d0887"
            ],
            [
             0.1111111111111111,
             "#46039f"
            ],
            [
             0.2222222222222222,
             "#7201a8"
            ],
            [
             0.3333333333333333,
             "#9c179e"
            ],
            [
             0.4444444444444444,
             "#bd3786"
            ],
            [
             0.5555555555555556,
             "#d8576b"
            ],
            [
             0.6666666666666666,
             "#ed7953"
            ],
            [
             0.7777777777777778,
             "#fb9f3a"
            ],
            [
             0.8888888888888888,
             "#fdca26"
            ],
            [
             1,
             "#f0f921"
            ]
           ]
          },
          "colorway": [
           "#636efa",
           "#EF553B",
           "#00cc96",
           "#ab63fa",
           "#FFA15A",
           "#19d3f3",
           "#FF6692",
           "#B6E880",
           "#FF97FF",
           "#FECB52"
          ],
          "font": {
           "color": "#2a3f5f"
          },
          "geo": {
           "bgcolor": "white",
           "lakecolor": "white",
           "landcolor": "#E5ECF6",
           "showlakes": true,
           "showland": true,
           "subunitcolor": "white"
          },
          "hoverlabel": {
           "align": "left"
          },
          "hovermode": "closest",
          "mapbox": {
           "style": "light"
          },
          "paper_bgcolor": "white",
          "plot_bgcolor": "#E5ECF6",
          "polar": {
           "angularaxis": {
            "gridcolor": "white",
            "linecolor": "white",
            "ticks": ""
           },
           "bgcolor": "#E5ECF6",
           "radialaxis": {
            "gridcolor": "white",
            "linecolor": "white",
            "ticks": ""
           }
          },
          "scene": {
           "xaxis": {
            "backgroundcolor": "#E5ECF6",
            "gridcolor": "white",
            "gridwidth": 2,
            "linecolor": "white",
            "showbackground": true,
            "ticks": "",
            "zerolinecolor": "white"
           },
           "yaxis": {
            "backgroundcolor": "#E5ECF6",
            "gridcolor": "white",
            "gridwidth": 2,
            "linecolor": "white",
            "showbackground": true,
            "ticks": "",
            "zerolinecolor": "white"
           },
           "zaxis": {
            "backgroundcolor": "#E5ECF6",
            "gridcolor": "white",
            "gridwidth": 2,
            "linecolor": "white",
            "showbackground": true,
            "ticks": "",
            "zerolinecolor": "white"
           }
          },
          "shapedefaults": {
           "line": {
            "color": "#2a3f5f"
           }
          },
          "ternary": {
           "aaxis": {
            "gridcolor": "white",
            "linecolor": "white",
            "ticks": ""
           },
           "baxis": {
            "gridcolor": "white",
            "linecolor": "white",
            "ticks": ""
           },
           "bgcolor": "#E5ECF6",
           "caxis": {
            "gridcolor": "white",
            "linecolor": "white",
            "ticks": ""
           }
          },
          "title": {
           "x": 0.05
          },
          "xaxis": {
           "automargin": true,
           "gridcolor": "white",
           "linecolor": "white",
           "ticks": "",
           "title": {
            "standoff": 15
           },
           "zerolinecolor": "white",
           "zerolinewidth": 2
          },
          "yaxis": {
           "automargin": true,
           "gridcolor": "white",
           "linecolor": "white",
           "ticks": "",
           "title": {
            "standoff": 15
           },
           "zerolinecolor": "white",
           "zerolinewidth": 2
          }
         }
        },
        "title": {
         "text": "RFM 그룹 vs 기존 등급 2x2 Heatmap",
         "x": 0.5
        },
        "width": 500,
        "xaxis": {
         "title": {
          "text": "기존 등급 (prev_grade)"
         }
        },
        "yaxis": {
         "title": {
          "text": "RFM 그룹"
         }
        }
       }
      }
     },
     "metadata": {},
     "output_type": "display_data"
    }
   ],
   "source": [
    "import plotly.graph_objects as go\n",
    "\n",
    "fig = go.Figure(data=go.Heatmap(\n",
    "    z=cross_table_2x2.values,\n",
    "    x=cross_table_2x2.columns,\n",
    "    y=cross_table_2x2.index,\n",
    "    colorscale='RdBu',\n",
    "    text=cross_table_2x2.values,\n",
    "    texttemplate=\"%{text}\",\n",
    "    hoverongaps=False\n",
    "))\n",
    "\n",
    "fig.update_layout(\n",
    "    title='RFM 그룹 vs 기존 등급 2x2 Heatmap',\n",
    "    xaxis_title='기존 등급 (prev_grade)',\n",
    "    yaxis_title='RFM 그룹',\n",
    "    title_x=0.5,\n",
    "    width=500,\n",
    "    height=400\n",
    ")\n",
    "\n",
    "fig.show()"
   ]
  },
  {
   "cell_type": "code",
   "execution_count": 20,
   "metadata": {},
   "outputs": [
    {
     "name": "stdout",
     "output_type": "stream",
     "text": [
      "prev_grade\n",
      "REGULAR    17\n",
      "PREMIUM    13\n",
      "Name: count, dtype: int64\n",
      "RFM_Group\n",
      "REGULAR    17\n",
      "PREMIUM    13\n",
      "Name: count, dtype: int64\n"
     ]
    }
   ],
   "source": [
    "print(rfm_df['prev_grade'].value_counts())\n",
    "print(rfm_df['RFM_Group'].value_counts())"
   ]
  },
  {
   "cell_type": "code",
   "execution_count": 21,
   "metadata": {},
   "outputs": [
    {
     "name": "stdout",
     "output_type": "stream",
     "text": [
      "Confusion Matrix:\n",
      " [[ 6 11]\n",
      " [11  2]]\n",
      "\n",
      "Classification Report:\n",
      "              precision    recall  f1-score   support\n",
      "\n",
      "     REGULAR       0.35      0.35      0.35        17\n",
      "     PREMIUM       0.15      0.15      0.15        13\n",
      "\n",
      "    accuracy                           0.27        30\n",
      "   macro avg       0.25      0.25      0.25        30\n",
      "weighted avg       0.27      0.27      0.27        30\n",
      "\n",
      "\n",
      "정확도(Accuracy): 0.27\n"
     ]
    }
   ],
   "source": [
    "from sklearn.metrics import confusion_matrix, classification_report, accuracy_score\n",
    "\n",
    "# 실제값, 예측값 준비\n",
    "y_true = rfm_df['prev_grade']      # 이전 라벨링 된 등급\n",
    "y_pred = rfm_df['RFM_Group']       # RFM 기반 등급\n",
    "\n",
    "# confusion matrix\n",
    "labels = ['REGULAR', 'PREMIUM']\n",
    "cm = confusion_matrix(y_true, y_pred, labels=labels)\n",
    "print(\"Confusion Matrix:\\n\", cm)\n",
    "\n",
    "# classification report\n",
    "print(\"\\nClassification Report:\")\n",
    "print(classification_report(y_true, y_pred, labels=labels, target_names=labels))\n",
    "\n",
    "# 정확도\n",
    "acc = accuracy_score(y_true, y_pred)\n",
    "print(f\"\\n정확도(Accuracy): {acc:.2f}\")"
   ]
  },
  {
   "cell_type": "markdown",
   "metadata": {},
   "source": [
    "- RFM 기준으로 확인했을 땐 세그멘테이션(등급 라벨링)이 정확도가 0.27로 잘못 되어 있는 것으로 확인할 수 있다. "
   ]
  },
  {
   "cell_type": "code",
   "execution_count": 22,
   "metadata": {},
   "outputs": [
    {
     "data": {
      "text/html": [
       "<div>\n",
       "<style scoped>\n",
       "    .dataframe tbody tr th:only-of-type {\n",
       "        vertical-align: middle;\n",
       "    }\n",
       "\n",
       "    .dataframe tbody tr th {\n",
       "        vertical-align: top;\n",
       "    }\n",
       "\n",
       "    .dataframe thead th {\n",
       "        text-align: right;\n",
       "    }\n",
       "</style>\n",
       "<table border=\"1\" class=\"dataframe\">\n",
       "  <thead>\n",
       "    <tr style=\"text-align: right;\">\n",
       "      <th></th>\n",
       "      <th>prev_grade</th>\n",
       "      <th>last_order_date</th>\n",
       "      <th>Recency</th>\n",
       "      <th>Frequency</th>\n",
       "      <th>Monetary</th>\n",
       "      <th>R_Score</th>\n",
       "      <th>F_Score</th>\n",
       "      <th>M_Score</th>\n",
       "      <th>RFM_Score</th>\n",
       "      <th>RFM_Segment1</th>\n",
       "      <th>RFM_Segment2</th>\n",
       "      <th>Segmentation</th>\n",
       "      <th>RFM_Group</th>\n",
       "    </tr>\n",
       "  </thead>\n",
       "  <tbody>\n",
       "    <tr>\n",
       "      <th>0</th>\n",
       "      <td>REGULAR</td>\n",
       "      <td>2024-05-16</td>\n",
       "      <td>3</td>\n",
       "      <td>9</td>\n",
       "      <td>3522000</td>\n",
       "      <td>4</td>\n",
       "      <td>4</td>\n",
       "      <td>4</td>\n",
       "      <td>12</td>\n",
       "      <td>Platinum</td>\n",
       "      <td>Vip</td>\n",
       "      <td>최우수고객</td>\n",
       "      <td>PREMIUM</td>\n",
       "    </tr>\n",
       "    <tr>\n",
       "      <th>1</th>\n",
       "      <td>PREMIUM</td>\n",
       "      <td>2024-03-19</td>\n",
       "      <td>61</td>\n",
       "      <td>3</td>\n",
       "      <td>2297000</td>\n",
       "      <td>2</td>\n",
       "      <td>1</td>\n",
       "      <td>3</td>\n",
       "      <td>6</td>\n",
       "      <td>Bronze</td>\n",
       "      <td>General</td>\n",
       "      <td>일반</td>\n",
       "      <td>REGULAR</td>\n",
       "    </tr>\n",
       "    <tr>\n",
       "      <th>2</th>\n",
       "      <td>REGULAR</td>\n",
       "      <td>2024-01-23</td>\n",
       "      <td>117</td>\n",
       "      <td>5</td>\n",
       "      <td>1209000</td>\n",
       "      <td>1</td>\n",
       "      <td>2</td>\n",
       "      <td>2</td>\n",
       "      <td>5</td>\n",
       "      <td>Bronze</td>\n",
       "      <td>General</td>\n",
       "      <td>일반</td>\n",
       "      <td>REGULAR</td>\n",
       "    </tr>\n",
       "    <tr>\n",
       "      <th>3</th>\n",
       "      <td>REGULAR</td>\n",
       "      <td>2024-03-31</td>\n",
       "      <td>49</td>\n",
       "      <td>7</td>\n",
       "      <td>5592000</td>\n",
       "      <td>2</td>\n",
       "      <td>3</td>\n",
       "      <td>4</td>\n",
       "      <td>9</td>\n",
       "      <td>Gold</td>\n",
       "      <td>At_Risk</td>\n",
       "      <td>이탈위험</td>\n",
       "      <td>PREMIUM</td>\n",
       "    </tr>\n",
       "    <tr>\n",
       "      <th>4</th>\n",
       "      <td>REGULAR</td>\n",
       "      <td>2024-04-16</td>\n",
       "      <td>33</td>\n",
       "      <td>6</td>\n",
       "      <td>6443000</td>\n",
       "      <td>3</td>\n",
       "      <td>2</td>\n",
       "      <td>4</td>\n",
       "      <td>9</td>\n",
       "      <td>Gold</td>\n",
       "      <td>Core</td>\n",
       "      <td>핵심고객</td>\n",
       "      <td>PREMIUM</td>\n",
       "    </tr>\n",
       "  </tbody>\n",
       "</table>\n",
       "</div>"
      ],
      "text/plain": [
       "  prev_grade last_order_date  Recency  Frequency  Monetary  R_Score  F_Score  \\\n",
       "0    REGULAR      2024-05-16        3          9   3522000        4        4   \n",
       "1    PREMIUM      2024-03-19       61          3   2297000        2        1   \n",
       "2    REGULAR      2024-01-23      117          5   1209000        1        2   \n",
       "3    REGULAR      2024-03-31       49          7   5592000        2        3   \n",
       "4    REGULAR      2024-04-16       33          6   6443000        3        2   \n",
       "\n",
       "   M_Score  RFM_Score RFM_Segment1 RFM_Segment2 Segmentation RFM_Group  \n",
       "0        4         12     Platinum          Vip        최우수고객   PREMIUM  \n",
       "1        3          6       Bronze      General           일반   REGULAR  \n",
       "2        2          5       Bronze      General           일반   REGULAR  \n",
       "3        4          9         Gold      At_Risk         이탈위험   PREMIUM  \n",
       "4        4          9         Gold         Core         핵심고객   PREMIUM  "
      ]
     },
     "execution_count": 22,
     "metadata": {},
     "output_type": "execute_result"
    }
   ],
   "source": [
    "# 데이터셋 추출\n",
    "rfm_df.rename(columns={'RFM_Segment3': 'Segmentation'}, inplace=True) # 세그먼트 컬럼명 변경\n",
    "rfm_df.to_csv('rfm_segmentation_jhy.csv', index=False) # 데이터셋 추출\n",
    "\n",
    "temp_df = pd.read_csv('rfm_segmentation_jhy.csv')\n",
    "temp_df.head()"
   ]
  },
  {
   "cell_type": "markdown",
   "metadata": {},
   "source": [
    "#### 최종 결론\n",
    "1. RFM score 기반으로 고객의 구매 패턴 예측을 위한 세그멘테이션을 진행하면 패턴을 명확하게 확인할 수 있다.\n",
    "2. 사용한 데이터의 회원 수가 다소 적어서(30명) 8개의 기준으로 세그멘테이션을 처음 진행했으나, 절대적인 데이터 수가 부족해서 적절하지 않았고,\n",
    "3. 최종적으로 최우수고객(VIP)를 제외한 총 5개 그룹(비활성, 이탈위험, 일반, 잠재, 최우수, 핵심 고객)으로 확인할 수 있다. \n",
    "4. 기업 입장에선 많은 고객을 관리할 때 해당 그룹에 필요한 마케팅과 전략을 데이터를 통해 맞춤형으로 접근해서 고객의 구매 유도를 이끌어 낼 수 있을 것이다.\n",
    "    - VIP 고객에겐 R, F, M 지표 모두 유지하기 위한 특별 상품 + 퀵 배송 제공, 이탈 위험 고객에겐 앱 알림 등을 통한 프로모션으로 재구매 유도 등 \n"
   ]
  }
 ],
 "metadata": {
  "kernelspec": {
   "display_name": "pandas_env",
   "language": "python",
   "name": "python3"
  },
  "language_info": {
   "codemirror_mode": {
    "name": "ipython",
    "version": 3
   },
   "file_extension": ".py",
   "mimetype": "text/x-python",
   "name": "python",
   "nbconvert_exporter": "python",
   "pygments_lexer": "ipython3",
   "version": "3.10.10"
  }
 },
 "nbformat": 4,
 "nbformat_minor": 2
}
